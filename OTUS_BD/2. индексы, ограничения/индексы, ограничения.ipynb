{
 "cells": [
  {
   "cell_type": "markdown",
   "id": "5f46abc9",
   "metadata": {},
   "source": [
    "### Импорт библиотек для работы с бд и дф"
   ]
  },
  {
   "cell_type": "code",
   "execution_count": 139,
   "id": "a33ec681",
   "metadata": {},
   "outputs": [],
   "source": [
    "import psycopg2\n",
    "import pandas as pd"
   ]
  },
  {
   "cell_type": "markdown",
   "id": "193e561a",
   "metadata": {},
   "source": [
    "### Кредиты для коннекта к бд"
   ]
  },
  {
   "cell_type": "code",
   "execution_count": 140,
   "id": "265a55da",
   "metadata": {},
   "outputs": [],
   "source": [
    "conn = psycopg2.connect(host=\"127.0.0.1\", port=\"5432\", database=\"postgres\", \n",
    "                            user=\"admin\", password=\"root\")"
   ]
  },
  {
   "cell_type": "markdown",
   "id": "92ad1617",
   "metadata": {},
   "source": [
    "### Создаем таблицу fact_orders - фактовая сущность заказов клиентов\n",
    "#### order_id - Идентификатор заказа, не может быть пустым, первичный ключ, часть состовного ключа, кардинальность - низкая \n",
    "#### amount - Сумма заказа, не может быть пустым, сумма заказа должна быть > 0, кардинальность - высокая \n",
    "#### status_id - Идентификатор статусу заказа, не может быть пустым, кардинальность - низкая \n",
    "#### order_dttm - Дата заказа, не может быть пустым, кардинальность - высокая \n",
    "#### start_dttm - Дата актуальности записи, не может быть пустым, первичный ключ, часть состовного ключа, кардинальность - высокая "
   ]
  },
  {
   "cell_type": "code",
   "execution_count": 141,
   "id": "d301fc19",
   "metadata": {},
   "outputs": [],
   "source": [
    "cur = conn.cursor()\n",
    "cur.execute('''\n",
    "            DROP TABLE IF EXISTS fact_orders \n",
    "            ''')\n",
    "\n",
    "cur.execute('''\n",
    "           CREATE TABLE fact_orders (\n",
    "           order_id INTEGER NOT NULL,\n",
    "           amount NUMERIC(100,10) CHECK (amount > 0) NOT NULL,\n",
    "           status_id VARCHAR(20) NOT NULL,\n",
    "           order_dttm DATE NOT NULL,\n",
    "           start_dttm DATE NOT NULL,\n",
    "           PRIMARY KEY(order_id, start_dttm));\n",
    "            ''')"
   ]
  },
  {
   "cell_type": "markdown",
   "id": "2c0cd804",
   "metadata": {},
   "source": [
    "### Наполняем таблицу fact_orders данными"
   ]
  },
  {
   "cell_type": "code",
   "execution_count": 142,
   "id": "e10aa331",
   "metadata": {},
   "outputs": [],
   "source": [
    "cur.execute('''\n",
    "            INSERT INTO fact_orders\n",
    "            (order_id, amount, status_id, order_dttm, start_dttm)\n",
    "            values\n",
    "            (111, 5500.5, 'confirmed', '2022-09-25', '2022-09-25'),\n",
    "            (111, 5500.5, 'delivered', '2022-09-25', '2022-09-26'),\n",
    "            (111, 5500.5, 'canceled', '2022-09-25', '3000-12-31'),\n",
    "\n",
    "            (222, 15500.5, 'confirmed', '2022-09-25', '2022-09-27'),\n",
    "            (222, 15500.5, 'delivered', '2022-09-25', '3000-12-31'),\n",
    "\n",
    "            (333, 125500.5, 'confirmed', '2022-09-28', '2022-09-28'),\n",
    "            (333, 125500.5, 'delivered', '2022-09-28', '3000-12-31'),\n",
    "\n",
    "            (444, 25500.5, 'confirmed', '2022-09-29', '2022-09-29'),\n",
    "            (444, 25500.5, 'delivered', '2022-09-29', '2022-09-30'),\n",
    "            (444, 25500.5, 'canceled', '2022-09-29', '3000-12-31');\n",
    "            ''')"
   ]
  },
  {
   "cell_type": "markdown",
   "id": "3c41920f",
   "metadata": {},
   "source": [
    "### Select из таблицы fact_orders"
   ]
  },
  {
   "cell_type": "code",
   "execution_count": 143,
   "id": "9ee52112",
   "metadata": {
    "scrolled": true
   },
   "outputs": [
    {
     "data": {
      "text/html": [
       "<div>\n",
       "<style scoped>\n",
       "    .dataframe tbody tr th:only-of-type {\n",
       "        vertical-align: middle;\n",
       "    }\n",
       "\n",
       "    .dataframe tbody tr th {\n",
       "        vertical-align: top;\n",
       "    }\n",
       "\n",
       "    .dataframe thead th {\n",
       "        text-align: right;\n",
       "    }\n",
       "</style>\n",
       "<table border=\"1\" class=\"dataframe\">\n",
       "  <thead>\n",
       "    <tr style=\"text-align: right;\">\n",
       "      <th></th>\n",
       "      <th>order_id</th>\n",
       "      <th>amount</th>\n",
       "      <th>status_id</th>\n",
       "      <th>order_dttm</th>\n",
       "      <th>start_dttm</th>\n",
       "    </tr>\n",
       "  </thead>\n",
       "  <tbody>\n",
       "    <tr>\n",
       "      <th>0</th>\n",
       "      <td>111</td>\n",
       "      <td>5500.5000000000</td>\n",
       "      <td>confirmed</td>\n",
       "      <td>2022-09-25</td>\n",
       "      <td>2022-09-25</td>\n",
       "    </tr>\n",
       "    <tr>\n",
       "      <th>1</th>\n",
       "      <td>111</td>\n",
       "      <td>5500.5000000000</td>\n",
       "      <td>delivered</td>\n",
       "      <td>2022-09-25</td>\n",
       "      <td>2022-09-26</td>\n",
       "    </tr>\n",
       "    <tr>\n",
       "      <th>2</th>\n",
       "      <td>111</td>\n",
       "      <td>5500.5000000000</td>\n",
       "      <td>canceled</td>\n",
       "      <td>2022-09-25</td>\n",
       "      <td>3000-12-31</td>\n",
       "    </tr>\n",
       "    <tr>\n",
       "      <th>3</th>\n",
       "      <td>222</td>\n",
       "      <td>15500.5000000000</td>\n",
       "      <td>confirmed</td>\n",
       "      <td>2022-09-25</td>\n",
       "      <td>2022-09-27</td>\n",
       "    </tr>\n",
       "    <tr>\n",
       "      <th>4</th>\n",
       "      <td>222</td>\n",
       "      <td>15500.5000000000</td>\n",
       "      <td>delivered</td>\n",
       "      <td>2022-09-25</td>\n",
       "      <td>3000-12-31</td>\n",
       "    </tr>\n",
       "    <tr>\n",
       "      <th>5</th>\n",
       "      <td>333</td>\n",
       "      <td>125500.5000000000</td>\n",
       "      <td>confirmed</td>\n",
       "      <td>2022-09-28</td>\n",
       "      <td>2022-09-28</td>\n",
       "    </tr>\n",
       "    <tr>\n",
       "      <th>6</th>\n",
       "      <td>333</td>\n",
       "      <td>125500.5000000000</td>\n",
       "      <td>delivered</td>\n",
       "      <td>2022-09-28</td>\n",
       "      <td>3000-12-31</td>\n",
       "    </tr>\n",
       "    <tr>\n",
       "      <th>7</th>\n",
       "      <td>444</td>\n",
       "      <td>25500.5000000000</td>\n",
       "      <td>confirmed</td>\n",
       "      <td>2022-09-29</td>\n",
       "      <td>2022-09-29</td>\n",
       "    </tr>\n",
       "    <tr>\n",
       "      <th>8</th>\n",
       "      <td>444</td>\n",
       "      <td>25500.5000000000</td>\n",
       "      <td>delivered</td>\n",
       "      <td>2022-09-29</td>\n",
       "      <td>2022-09-30</td>\n",
       "    </tr>\n",
       "    <tr>\n",
       "      <th>9</th>\n",
       "      <td>444</td>\n",
       "      <td>25500.5000000000</td>\n",
       "      <td>canceled</td>\n",
       "      <td>2022-09-29</td>\n",
       "      <td>3000-12-31</td>\n",
       "    </tr>\n",
       "  </tbody>\n",
       "</table>\n",
       "</div>"
      ],
      "text/plain": [
       "   order_id             amount  status_id  order_dttm  start_dttm\n",
       "0       111    5500.5000000000  confirmed  2022-09-25  2022-09-25\n",
       "1       111    5500.5000000000  delivered  2022-09-25  2022-09-26\n",
       "2       111    5500.5000000000   canceled  2022-09-25  3000-12-31\n",
       "3       222   15500.5000000000  confirmed  2022-09-25  2022-09-27\n",
       "4       222   15500.5000000000  delivered  2022-09-25  3000-12-31\n",
       "5       333  125500.5000000000  confirmed  2022-09-28  2022-09-28\n",
       "6       333  125500.5000000000  delivered  2022-09-28  3000-12-31\n",
       "7       444   25500.5000000000  confirmed  2022-09-29  2022-09-29\n",
       "8       444   25500.5000000000  delivered  2022-09-29  2022-09-30\n",
       "9       444   25500.5000000000   canceled  2022-09-29  3000-12-31"
      ]
     },
     "execution_count": 143,
     "metadata": {},
     "output_type": "execute_result"
    }
   ],
   "source": [
    "cur.execute('''\n",
    "            select * from fact_orders\n",
    "            ''')\n",
    "results = cur.fetchall()\n",
    "pd.DataFrame(results, columns=['order_id', 'amount', 'status_id', 'order_dttm', 'start_dttm'])"
   ]
  },
  {
   "cell_type": "markdown",
   "id": "ee2764cb",
   "metadata": {},
   "source": [
    "### Аналитический запрос:\n",
    "#### Показать id заказов и сумму заказов начиная с 2022-09-25 имеющие статус delivered"
   ]
  },
  {
   "cell_type": "code",
   "execution_count": 144,
   "id": "45431241",
   "metadata": {},
   "outputs": [
    {
     "data": {
      "text/html": [
       "<div>\n",
       "<style scoped>\n",
       "    .dataframe tbody tr th:only-of-type {\n",
       "        vertical-align: middle;\n",
       "    }\n",
       "\n",
       "    .dataframe tbody tr th {\n",
       "        vertical-align: top;\n",
       "    }\n",
       "\n",
       "    .dataframe thead th {\n",
       "        text-align: right;\n",
       "    }\n",
       "</style>\n",
       "<table border=\"1\" class=\"dataframe\">\n",
       "  <thead>\n",
       "    <tr style=\"text-align: right;\">\n",
       "      <th></th>\n",
       "      <th>order_id</th>\n",
       "      <th>amount</th>\n",
       "    </tr>\n",
       "  </thead>\n",
       "  <tbody>\n",
       "    <tr>\n",
       "      <th>0</th>\n",
       "      <td>222</td>\n",
       "      <td>15500.5000000000</td>\n",
       "    </tr>\n",
       "    <tr>\n",
       "      <th>1</th>\n",
       "      <td>333</td>\n",
       "      <td>125500.5000000000</td>\n",
       "    </tr>\n",
       "  </tbody>\n",
       "</table>\n",
       "</div>"
      ],
      "text/plain": [
       "   order_id             amount\n",
       "0       222   15500.5000000000\n",
       "1       333  125500.5000000000"
      ]
     },
     "execution_count": 144,
     "metadata": {},
     "output_type": "execute_result"
    }
   ],
   "source": [
    "cur.execute('''\n",
    "            select \n",
    "            order_id,\n",
    "            amount\n",
    "            from fact_orders\n",
    "            where amount >= 10000\n",
    "            and status_id ilike ('delivered')\n",
    "            and order_dttm >= '2022-09-25'\n",
    "            and start_dttm >= now();\n",
    "            ''')\n",
    "results = cur.fetchall()\n",
    "pd.DataFrame(results, columns=['order_id', 'amount'])"
   ]
  },
  {
   "cell_type": "markdown",
   "id": "8bad6664",
   "metadata": {},
   "source": [
    "### Обновление статистики"
   ]
  },
  {
   "cell_type": "code",
   "execution_count": 145,
   "id": "597e8c60",
   "metadata": {},
   "outputs": [],
   "source": [
    "cur.execute('''\n",
    "            analyze fact_orders\n",
    "            ''')"
   ]
  },
  {
   "cell_type": "markdown",
   "id": "430ac10b",
   "metadata": {},
   "source": [
    "### Смотрим время выполнения запроса"
   ]
  },
  {
   "cell_type": "code",
   "execution_count": 149,
   "id": "547cff90",
   "metadata": {
    "scrolled": true
   },
   "outputs": [
    {
     "data": {
      "text/plain": [
       "[('Seq Scan on fact_orders  (cost=0.00..1.23 rows=1 width=12) (actual time=0.040..0.051 rows=2 loops=1)',),\n",
       " (\"  Filter: ((amount >= '10000'::numeric) AND ((status_id)::text ~~* 'delivered'::text) AND (order_dttm >= '2022-09-25'::date) AND (start_dttm >= now()))\",),\n",
       " ('  Rows Removed by Filter: 8',),\n",
       " ('Planning Time: 0.312 ms',),\n",
       " ('Execution Time: 0.904 ms',)]"
      ]
     },
     "execution_count": 149,
     "metadata": {},
     "output_type": "execute_result"
    }
   ],
   "source": [
    "cur.execute('''\n",
    "            explain analyze\n",
    "            select \n",
    "            order_id,\n",
    "            amount\n",
    "            from fact_orders\n",
    "            where amount >= 10000\n",
    "            and status_id ilike ('delivered')\n",
    "            and order_dttm >= '2022-09-25'\n",
    "            and start_dttm >= now();\n",
    "            ''')\n",
    "cur.fetchall()"
   ]
  },
  {
   "cell_type": "markdown",
   "id": "f23132f9",
   "metadata": {},
   "source": [
    "###  Создаем индексы для таблицы fact_orders"
   ]
  },
  {
   "cell_type": "code",
   "execution_count": 150,
   "id": "1073fe64",
   "metadata": {},
   "outputs": [],
   "source": [
    "cur.execute('''\n",
    "            CREATE INDEX idx_amount_order_dttm\n",
    "            ON fact_orders(amount, order_dttm);\n",
    "            ''')"
   ]
  },
  {
   "cell_type": "markdown",
   "id": "dbef6d13",
   "metadata": {},
   "source": [
    "### Обновление статистики"
   ]
  },
  {
   "cell_type": "code",
   "execution_count": 151,
   "id": "621114b7",
   "metadata": {},
   "outputs": [],
   "source": [
    "cur.execute('''\n",
    "            analyze fact_orders\n",
    "            ''')"
   ]
  },
  {
   "cell_type": "markdown",
   "id": "26fa6b46",
   "metadata": {},
   "source": [
    "### Смотрим время выполнения запроса с учетом индексов"
   ]
  },
  {
   "cell_type": "code",
   "execution_count": 156,
   "id": "e4daceb4",
   "metadata": {},
   "outputs": [
    {
     "data": {
      "text/plain": [
       "[('Seq Scan on fact_orders  (cost=0.00..1.23 rows=1 width=12) (actual time=0.020..0.027 rows=2 loops=1)',),\n",
       " (\"  Filter: ((amount >= '10000'::numeric) AND ((status_id)::text ~~* 'delivered'::text) AND (order_dttm >= '2022-09-25'::date) AND (start_dttm >= now()))\",),\n",
       " ('  Rows Removed by Filter: 8',),\n",
       " ('Planning Time: 0.142 ms',),\n",
       " ('Execution Time: 0.048 ms',)]"
      ]
     },
     "execution_count": 156,
     "metadata": {},
     "output_type": "execute_result"
    }
   ],
   "source": [
    "cur.execute('''\n",
    "            explain analyze\n",
    "            select \n",
    "            order_id,\n",
    "            amount\n",
    "            from fact_orders\n",
    "            where amount >= 10000\n",
    "            and status_id ilike ('delivered')\n",
    "            and order_dttm >= '2022-09-25'\n",
    "            and start_dttm >= now();\n",
    "            ''')\n",
    "cur.fetchall()"
   ]
  },
  {
   "cell_type": "markdown",
   "id": "32521c3b",
   "metadata": {},
   "source": [
    "### Создаем последовательность для сущности dim_src"
   ]
  },
  {
   "cell_type": "code",
   "execution_count": 157,
   "id": "c79a3c0e",
   "metadata": {},
   "outputs": [],
   "source": [
    "cur.execute('''\n",
    "            CREATE SEQUENCE dim_src_sequence;\n",
    "            ''')"
   ]
  },
  {
   "cell_type": "markdown",
   "id": "3d43208c",
   "metadata": {},
   "source": [
    "### Создаем таблицу  dim_src - справочник источников\n",
    "#### src_id - Идентификатор источника, не может быть пустым, первичный ключ, заполняется числовой последовательностью, кардинальность - низкая \n",
    "#### src_name - Наименование источника, не может быть пустым, кардинальность - низкая "
   ]
  },
  {
   "cell_type": "code",
   "execution_count": 158,
   "id": "c14c98c7",
   "metadata": {},
   "outputs": [],
   "source": [
    "cur.execute('''\n",
    "            DROP TABLE IF EXISTS dim_src \n",
    "            ''')\n",
    "cur.execute('''\n",
    "            CREATE TABLE dim_src (\n",
    "            src_id INTEGER NOT NULL DEFAULT nextval('dim_src_sequence'),\n",
    "            src_name VARCHAR(20),\n",
    "            PRIMARY KEY(src_id));\n",
    "            ''')"
   ]
  },
  {
   "cell_type": "markdown",
   "id": "b708f662",
   "metadata": {},
   "source": [
    "### Наполняем таблицу dim_src данными"
   ]
  },
  {
   "cell_type": "code",
   "execution_count": 159,
   "id": "16ed6935",
   "metadata": {},
   "outputs": [],
   "source": [
    "cur.execute('''\n",
    "            insert into dim_src (src_name)\n",
    "            values\n",
    "            ('VK'),\n",
    "            ('INSTAGRAM'),\n",
    "            ('GOOGLE'),\n",
    "            ('YANDEX');\n",
    "            ''')"
   ]
  },
  {
   "cell_type": "markdown",
   "id": "450e2dea",
   "metadata": {},
   "source": [
    "### Select из таблицы dim_src"
   ]
  },
  {
   "cell_type": "code",
   "execution_count": 160,
   "id": "ccc5f561",
   "metadata": {},
   "outputs": [
    {
     "data": {
      "text/html": [
       "<div>\n",
       "<style scoped>\n",
       "    .dataframe tbody tr th:only-of-type {\n",
       "        vertical-align: middle;\n",
       "    }\n",
       "\n",
       "    .dataframe tbody tr th {\n",
       "        vertical-align: top;\n",
       "    }\n",
       "\n",
       "    .dataframe thead th {\n",
       "        text-align: right;\n",
       "    }\n",
       "</style>\n",
       "<table border=\"1\" class=\"dataframe\">\n",
       "  <thead>\n",
       "    <tr style=\"text-align: right;\">\n",
       "      <th></th>\n",
       "      <th>src_id</th>\n",
       "      <th>src_name</th>\n",
       "    </tr>\n",
       "  </thead>\n",
       "  <tbody>\n",
       "    <tr>\n",
       "      <th>0</th>\n",
       "      <td>1</td>\n",
       "      <td>VK</td>\n",
       "    </tr>\n",
       "    <tr>\n",
       "      <th>1</th>\n",
       "      <td>2</td>\n",
       "      <td>INSTAGRAM</td>\n",
       "    </tr>\n",
       "    <tr>\n",
       "      <th>2</th>\n",
       "      <td>3</td>\n",
       "      <td>GOOGLE</td>\n",
       "    </tr>\n",
       "    <tr>\n",
       "      <th>3</th>\n",
       "      <td>4</td>\n",
       "      <td>YANDEX</td>\n",
       "    </tr>\n",
       "  </tbody>\n",
       "</table>\n",
       "</div>"
      ],
      "text/plain": [
       "   src_id   src_name\n",
       "0       1         VK\n",
       "1       2  INSTAGRAM\n",
       "2       3     GOOGLE\n",
       "3       4     YANDEX"
      ]
     },
     "execution_count": 160,
     "metadata": {},
     "output_type": "execute_result"
    }
   ],
   "source": [
    "cur.execute('''\n",
    "            select* from dim_src;\n",
    "            ''')\n",
    "results = cur.fetchall()\n",
    "pd.DataFrame(results, columns=['src_id', 'src_name'])"
   ]
  },
  {
   "cell_type": "markdown",
   "id": "fa103da8",
   "metadata": {},
   "source": [
    "### Создаем таблицу fact_sessions - фактовая сущность сессий пользователей\n",
    "#### session_id - Идентификатор сессии, не может быть пустым, первичный ключ, кардинальность - высокая\n",
    "#### src_id -  Идентификатор источника с которого пользователь перешел, не может быть пустым, гарантирует ссылочную целостность, ссылается на справочник dim_src, кардинальность - низкая\n",
    "#### user_id - Идентификатор пользователя, не может быть пустым, кардинальность - высокая\n",
    "#### purchase_flg - флаг покупки, не может быть пустым, кардинальность - низкая\n",
    "#### visit_dttm - Дата посещения сайта, не может быть пустым, кардинальность - высокая"
   ]
  },
  {
   "cell_type": "code",
   "execution_count": 161,
   "id": "d90f09b9",
   "metadata": {},
   "outputs": [],
   "source": [
    "cur.execute('''\n",
    "            DROP TABLE IF EXISTS fact_sessions \n",
    "            ''')\n",
    "cur.execute('''\n",
    "            \n",
    "            CREATE TABLE fact_sessions (\n",
    "            session_id INTEGER NOT NULL,\n",
    "            src_id INTEGER NOT NULL REFERENCES dim_src ON DELETE CASCADE,\n",
    "            user_id INTEGER NOT NULL,\n",
    "            purchase_flg INTEGER NOT NULL,\n",
    "            visit_dttm DATE NOT NULL,\n",
    "            PRIMARY KEY(session_id));\n",
    "            ''')"
   ]
  },
  {
   "cell_type": "markdown",
   "id": "9540dafc",
   "metadata": {},
   "source": [
    "### Наполняем таблицу fact_sessions данными"
   ]
  },
  {
   "cell_type": "code",
   "execution_count": 162,
   "id": "8eb04ec9",
   "metadata": {},
   "outputs": [],
   "source": [
    "cur.execute('''\n",
    "            insert into fact_sessions \n",
    "            (session_id, src_id, user_id, purchase_flg, visit_dttm)\n",
    "             values\n",
    "             (12311, 1, 4334, 1, '2022-09-29'),\n",
    "             (12233, 2, 1114, 0, '2022-09-22'),\n",
    "             (42331, 1, 4314, 1, '2022-08-29'),\n",
    "             (42321, 1, 4314, 0, '2022-01-22'),\n",
    "             (92321, 1, 4314, 1, '2023-01-22'),\n",
    "             (72331, 3, 1514, 1, '2022-02-21'),\n",
    "             (92331, 4, 6514, 1, '2022-04-22'),\n",
    "             (22331, 4, 7514, 1, '2022-04-22'),\n",
    "             (22321, 4, 7514, 1, '2021-04-22');\n",
    "            ''')"
   ]
  },
  {
   "cell_type": "markdown",
   "id": "1368047d",
   "metadata": {},
   "source": [
    "### Select из таблицы fact_sessions"
   ]
  },
  {
   "cell_type": "code",
   "execution_count": 163,
   "id": "15669897",
   "metadata": {
    "scrolled": true
   },
   "outputs": [
    {
     "data": {
      "text/html": [
       "<div>\n",
       "<style scoped>\n",
       "    .dataframe tbody tr th:only-of-type {\n",
       "        vertical-align: middle;\n",
       "    }\n",
       "\n",
       "    .dataframe tbody tr th {\n",
       "        vertical-align: top;\n",
       "    }\n",
       "\n",
       "    .dataframe thead th {\n",
       "        text-align: right;\n",
       "    }\n",
       "</style>\n",
       "<table border=\"1\" class=\"dataframe\">\n",
       "  <thead>\n",
       "    <tr style=\"text-align: right;\">\n",
       "      <th></th>\n",
       "      <th>session_id</th>\n",
       "      <th>src_id</th>\n",
       "      <th>user_id</th>\n",
       "      <th>purchase_flg</th>\n",
       "      <th>visit_dttm</th>\n",
       "    </tr>\n",
       "  </thead>\n",
       "  <tbody>\n",
       "    <tr>\n",
       "      <th>0</th>\n",
       "      <td>12311</td>\n",
       "      <td>1</td>\n",
       "      <td>4334</td>\n",
       "      <td>1</td>\n",
       "      <td>2022-09-29</td>\n",
       "    </tr>\n",
       "    <tr>\n",
       "      <th>1</th>\n",
       "      <td>12233</td>\n",
       "      <td>2</td>\n",
       "      <td>1114</td>\n",
       "      <td>0</td>\n",
       "      <td>2022-09-22</td>\n",
       "    </tr>\n",
       "    <tr>\n",
       "      <th>2</th>\n",
       "      <td>42331</td>\n",
       "      <td>1</td>\n",
       "      <td>4314</td>\n",
       "      <td>1</td>\n",
       "      <td>2022-08-29</td>\n",
       "    </tr>\n",
       "    <tr>\n",
       "      <th>3</th>\n",
       "      <td>42321</td>\n",
       "      <td>1</td>\n",
       "      <td>4314</td>\n",
       "      <td>0</td>\n",
       "      <td>2022-01-22</td>\n",
       "    </tr>\n",
       "    <tr>\n",
       "      <th>4</th>\n",
       "      <td>92321</td>\n",
       "      <td>1</td>\n",
       "      <td>4314</td>\n",
       "      <td>1</td>\n",
       "      <td>2023-01-22</td>\n",
       "    </tr>\n",
       "    <tr>\n",
       "      <th>5</th>\n",
       "      <td>72331</td>\n",
       "      <td>3</td>\n",
       "      <td>1514</td>\n",
       "      <td>1</td>\n",
       "      <td>2022-02-21</td>\n",
       "    </tr>\n",
       "    <tr>\n",
       "      <th>6</th>\n",
       "      <td>92331</td>\n",
       "      <td>4</td>\n",
       "      <td>6514</td>\n",
       "      <td>1</td>\n",
       "      <td>2022-04-22</td>\n",
       "    </tr>\n",
       "    <tr>\n",
       "      <th>7</th>\n",
       "      <td>22331</td>\n",
       "      <td>4</td>\n",
       "      <td>7514</td>\n",
       "      <td>1</td>\n",
       "      <td>2022-04-22</td>\n",
       "    </tr>\n",
       "    <tr>\n",
       "      <th>8</th>\n",
       "      <td>22321</td>\n",
       "      <td>4</td>\n",
       "      <td>7514</td>\n",
       "      <td>1</td>\n",
       "      <td>2021-04-22</td>\n",
       "    </tr>\n",
       "  </tbody>\n",
       "</table>\n",
       "</div>"
      ],
      "text/plain": [
       "   session_id  src_id  user_id  purchase_flg  visit_dttm\n",
       "0       12311       1     4334             1  2022-09-29\n",
       "1       12233       2     1114             0  2022-09-22\n",
       "2       42331       1     4314             1  2022-08-29\n",
       "3       42321       1     4314             0  2022-01-22\n",
       "4       92321       1     4314             1  2023-01-22\n",
       "5       72331       3     1514             1  2022-02-21\n",
       "6       92331       4     6514             1  2022-04-22\n",
       "7       22331       4     7514             1  2022-04-22\n",
       "8       22321       4     7514             1  2021-04-22"
      ]
     },
     "execution_count": 163,
     "metadata": {},
     "output_type": "execute_result"
    }
   ],
   "source": [
    "cur.execute('''\n",
    "            select* from  fact_sessions;\n",
    "            ''')\n",
    "results = cur.fetchall()\n",
    "pd.DataFrame(results, columns=['session_id', 'src_id', 'user_id', 'purchase_flg', 'visit_dttm'])"
   ]
  },
  {
   "cell_type": "markdown",
   "id": "fd9bf3e7",
   "metadata": {},
   "source": [
    "### Аналитический запрос:\n",
    "#### Для каждого источника посчитать количество уникальных пользователей и количество сессий, в которых была совершена покупка начиная с 2022-01-01"
   ]
  },
  {
   "cell_type": "code",
   "execution_count": 173,
   "id": "45d0a131",
   "metadata": {},
   "outputs": [
    {
     "data": {
      "text/html": [
       "<div>\n",
       "<style scoped>\n",
       "    .dataframe tbody tr th:only-of-type {\n",
       "        vertical-align: middle;\n",
       "    }\n",
       "\n",
       "    .dataframe tbody tr th {\n",
       "        vertical-align: top;\n",
       "    }\n",
       "\n",
       "    .dataframe thead th {\n",
       "        text-align: right;\n",
       "    }\n",
       "</style>\n",
       "<table border=\"1\" class=\"dataframe\">\n",
       "  <thead>\n",
       "    <tr style=\"text-align: right;\">\n",
       "      <th></th>\n",
       "      <th>src_name</th>\n",
       "      <th>count_users</th>\n",
       "      <th>count_sessions</th>\n",
       "    </tr>\n",
       "  </thead>\n",
       "  <tbody>\n",
       "    <tr>\n",
       "      <th>0</th>\n",
       "      <td>GOOGLE</td>\n",
       "      <td>1</td>\n",
       "      <td>1</td>\n",
       "    </tr>\n",
       "    <tr>\n",
       "      <th>1</th>\n",
       "      <td>VK</td>\n",
       "      <td>2</td>\n",
       "      <td>3</td>\n",
       "    </tr>\n",
       "    <tr>\n",
       "      <th>2</th>\n",
       "      <td>YANDEX</td>\n",
       "      <td>2</td>\n",
       "      <td>2</td>\n",
       "    </tr>\n",
       "  </tbody>\n",
       "</table>\n",
       "</div>"
      ],
      "text/plain": [
       "  src_name  count_users  count_sessions\n",
       "0   GOOGLE            1               1\n",
       "1       VK            2               3\n",
       "2   YANDEX            2               2"
      ]
     },
     "execution_count": 173,
     "metadata": {},
     "output_type": "execute_result"
    }
   ],
   "source": [
    "cur.execute('''\n",
    "            select \n",
    "            d.src_name,\n",
    "            count(distinct f.user_id) as count_users,\n",
    "            count(f.session_id) as count_sessions\n",
    "            from fact_sessions f\n",
    "            left join dim_src d\n",
    "            on d.src_id = f.src_id\n",
    "            where purchase_flg = 1\n",
    "            and visit_dttm >= '2022-01-01' \n",
    "            group by src_name\n",
    "            ''')\n",
    "results = cur.fetchall()\n",
    "pd.DataFrame(results, columns=['src_name', 'count_users', 'count_sessions'])"
   ]
  },
  {
   "cell_type": "markdown",
   "id": "017f5486",
   "metadata": {},
   "source": [
    "### Обновление статистики"
   ]
  },
  {
   "cell_type": "code",
   "execution_count": 164,
   "id": "aaf401bd",
   "metadata": {},
   "outputs": [],
   "source": [
    "cur.execute('''\n",
    "            analyze fact_sessions\n",
    "            ''')\n",
    "cur.execute('''\n",
    "            analyze dim_src\n",
    "            ''')"
   ]
  },
  {
   "cell_type": "markdown",
   "id": "d0722cd1",
   "metadata": {},
   "source": [
    "### Смотрим время выполнения запроса "
   ]
  },
  {
   "cell_type": "code",
   "execution_count": 165,
   "id": "65944dce",
   "metadata": {},
   "outputs": [
    {
     "data": {
      "text/plain": [
       "[('GroupAggregate  (cost=2.36..2.47 rows=4 width=22) (actual time=0.229..0.245 rows=3 loops=1)',),\n",
       " ('  Group Key: d.src_name',),\n",
       " ('  ->  Sort  (cost=2.36..2.38 rows=7 width=14) (actual time=0.153..0.164 rows=6 loops=1)',),\n",
       " ('        Sort Key: d.src_name',),\n",
       " ('        Sort Method: quicksort  Memory: 25kB',),\n",
       " ('        ->  Hash Left Join  (cost=1.09..2.27 rows=7 width=14) (actual time=0.109..0.123 rows=6 loops=1)',),\n",
       " ('              Hash Cond: (f.src_id = d.src_id)',),\n",
       " ('              ->  Seq Scan on fact_sessions f  (cost=0.00..1.14 rows=7 width=12) (actual time=0.011..0.013 rows=6 loops=1)',),\n",
       " (\"                    Filter: ((visit_dttm >= '2022-01-01'::date) AND (purchase_flg = 1))\",),\n",
       " ('                    Rows Removed by Filter: 3',),\n",
       " ('              ->  Hash  (cost=1.04..1.04 rows=4 width=10) (actual time=0.013..0.014 rows=4 loops=1)',),\n",
       " ('                    Buckets: 1024  Batches: 1  Memory Usage: 9kB',),\n",
       " ('                    ->  Seq Scan on dim_src d  (cost=0.00..1.04 rows=4 width=10) (actual time=0.004..0.005 rows=4 loops=1)',),\n",
       " ('Planning Time: 0.741 ms',),\n",
       " ('Execution Time: 0.427 ms',)]"
      ]
     },
     "execution_count": 165,
     "metadata": {},
     "output_type": "execute_result"
    }
   ],
   "source": [
    "cur.execute('''\n",
    "            explain analyze\n",
    "            select \n",
    "            d.src_name,\n",
    "            count(distinct f.user_id) as count_users,\n",
    "            count(f.session_id) as count_sessions\n",
    "            from fact_sessions f\n",
    "            left join dim_src d\n",
    "            on d.src_id = f.src_id\n",
    "            where purchase_flg = 1\n",
    "            and visit_dttm >= '2022-01-01' \n",
    "            group by src_name\n",
    "            ''')\n",
    "cur.fetchall()"
   ]
  },
  {
   "cell_type": "markdown",
   "id": "96d339e6",
   "metadata": {},
   "source": [
    "### Создаем индексы для таблицы fact_sessions"
   ]
  },
  {
   "cell_type": "code",
   "execution_count": 166,
   "id": "4127e782",
   "metadata": {},
   "outputs": [],
   "source": [
    "cur.execute('''\n",
    "            CREATE INDEX idx_src_id_visit_dttm\n",
    "            ON fact_sessions(src_id, visit_dttm);\n",
    "            ''')"
   ]
  },
  {
   "cell_type": "markdown",
   "id": "d160c221",
   "metadata": {},
   "source": [
    "### Обновление статистики"
   ]
  },
  {
   "cell_type": "code",
   "execution_count": 168,
   "id": "15c50fdc",
   "metadata": {},
   "outputs": [],
   "source": [
    "cur.execute('''\n",
    "            analyze fact_sessions\n",
    "            ''')\n",
    "cur.execute('''\n",
    "            analyze dim_src\n",
    "            ''')"
   ]
  },
  {
   "cell_type": "markdown",
   "id": "7ee6c40d",
   "metadata": {},
   "source": [
    "### Смотрим время выполнения запроса с учетом индексов"
   ]
  },
  {
   "cell_type": "code",
   "execution_count": 171,
   "id": "fd85071f",
   "metadata": {},
   "outputs": [
    {
     "data": {
      "text/plain": [
       "[('GroupAggregate  (cost=2.36..2.47 rows=4 width=22) (actual time=0.061..0.071 rows=3 loops=1)',),\n",
       " ('  Group Key: d.src_name',),\n",
       " ('  ->  Sort  (cost=2.36..2.38 rows=7 width=14) (actual time=0.048..0.051 rows=6 loops=1)',),\n",
       " ('        Sort Key: d.src_name',),\n",
       " ('        Sort Method: quicksort  Memory: 25kB',),\n",
       " ('        ->  Hash Left Join  (cost=1.09..2.27 rows=7 width=14) (actual time=0.029..0.035 rows=6 loops=1)',),\n",
       " ('              Hash Cond: (f.src_id = d.src_id)',),\n",
       " ('              ->  Seq Scan on fact_sessions f  (cost=0.00..1.14 rows=7 width=12) (actual time=0.011..0.014 rows=6 loops=1)',),\n",
       " (\"                    Filter: ((visit_dttm >= '2022-01-01'::date) AND (purchase_flg = 1))\",),\n",
       " ('                    Rows Removed by Filter: 3',),\n",
       " ('              ->  Hash  (cost=1.04..1.04 rows=4 width=10) (actual time=0.010..0.011 rows=4 loops=1)',),\n",
       " ('                    Buckets: 1024  Batches: 1  Memory Usage: 9kB',),\n",
       " ('                    ->  Seq Scan on dim_src d  (cost=0.00..1.04 rows=4 width=10) (actual time=0.003..0.004 rows=4 loops=1)',),\n",
       " ('Planning Time: 0.300 ms',),\n",
       " ('Execution Time: 0.118 ms',)]"
      ]
     },
     "execution_count": 171,
     "metadata": {},
     "output_type": "execute_result"
    }
   ],
   "source": [
    "cur.execute('''\n",
    "            explain analyze\n",
    "            select \n",
    "            d.src_name,\n",
    "            count(distinct f.user_id) as count_users,\n",
    "            count(f.session_id) as count_sessions\n",
    "            from fact_sessions f\n",
    "            left join dim_src d\n",
    "            on d.src_id = f.src_id\n",
    "            where purchase_flg = 1\n",
    "            and visit_dttm >= '2022-01-01' \n",
    "            group by src_name\n",
    "            ''')\n",
    "cur.fetchall()"
   ]
  },
  {
   "cell_type": "code",
   "execution_count": null,
   "id": "4c06397f",
   "metadata": {},
   "outputs": [],
   "source": [
    "cur.close()\n",
    "conn.close()"
   ]
  }
 ],
 "metadata": {
  "kernelspec": {
   "display_name": "Python 3 (ipykernel)",
   "language": "python",
   "name": "python3"
  },
  "language_info": {
   "codemirror_mode": {
    "name": "ipython",
    "version": 3
   },
   "file_extension": ".py",
   "mimetype": "text/x-python",
   "name": "python",
   "nbconvert_exporter": "python",
   "pygments_lexer": "ipython3",
   "version": "3.9.12"
  }
 },
 "nbformat": 4,
 "nbformat_minor": 5
}
