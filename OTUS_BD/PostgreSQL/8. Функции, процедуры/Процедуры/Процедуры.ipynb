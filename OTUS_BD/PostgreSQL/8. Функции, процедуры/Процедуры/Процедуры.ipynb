{
 "cells": [
  {
   "cell_type": "markdown",
   "id": "9d3d511b",
   "metadata": {},
   "source": [
    "Функции позволяют выполнять только Select-запросы, а хранимые процедуры позволяют выполнять Insert , Update , Delete операции. Хранимые процедуры очень удобны при работе со случаями, когда необходимы операции insert , update или delete ."
   ]
  },
  {
   "cell_type": "markdown",
   "id": "44126ac0",
   "metadata": {},
   "source": [
    "### Импорт библиотек для работы с бд и дф"
   ]
  },
  {
   "cell_type": "code",
   "execution_count": 62,
   "id": "c9d725aa",
   "metadata": {},
   "outputs": [],
   "source": [
    "import psycopg2\n",
    "import pandas as pd\n",
    "import sqlalchemy"
   ]
  },
  {
   "cell_type": "markdown",
   "id": "6955e6d0",
   "metadata": {},
   "source": [
    "### Кредиты для коннекта к бд"
   ]
  },
  {
   "cell_type": "code",
   "execution_count": 63,
   "id": "fba070ac",
   "metadata": {},
   "outputs": [],
   "source": [
    "conn = psycopg2.connect(host=\"127.0.0.1\", port=\"5432\", database=\"Adventureworks\", \n",
    "                            user=\"postgres\", password=\"postgres\")"
   ]
  },
  {
   "cell_type": "markdown",
   "id": "d21e30cc",
   "metadata": {},
   "source": [
    "### подготовим таблицу и данные"
   ]
  },
  {
   "cell_type": "code",
   "execution_count": 94,
   "id": "45cc03b9",
   "metadata": {},
   "outputs": [
    {
     "data": {
      "text/html": [
       "<div>\n",
       "<style scoped>\n",
       "    .dataframe tbody tr th:only-of-type {\n",
       "        vertical-align: middle;\n",
       "    }\n",
       "\n",
       "    .dataframe tbody tr th {\n",
       "        vertical-align: top;\n",
       "    }\n",
       "\n",
       "    .dataframe thead th {\n",
       "        text-align: right;\n",
       "    }\n",
       "</style>\n",
       "<table border=\"1\" class=\"dataframe\">\n",
       "  <thead>\n",
       "    <tr style=\"text-align: right;\">\n",
       "      <th></th>\n",
       "      <th>customer_id</th>\n",
       "      <th>store_id</th>\n",
       "      <th>first_name</th>\n",
       "      <th>last_name</th>\n",
       "    </tr>\n",
       "  </thead>\n",
       "  <tbody>\n",
       "    <tr>\n",
       "      <th>0</th>\n",
       "      <td>1</td>\n",
       "      <td>1</td>\n",
       "      <td>Mike</td>\n",
       "      <td>Mike</td>\n",
       "    </tr>\n",
       "  </tbody>\n",
       "</table>\n",
       "</div>"
      ],
      "text/plain": [
       "   customer_id  store_id first_name last_name\n",
       "0            1         1       Mike      Mike"
      ]
     },
     "execution_count": 94,
     "metadata": {},
     "output_type": "execute_result"
    }
   ],
   "source": [
    "cur = conn.cursor()\n",
    "\n",
    "cur.execute('''\n",
    "           create table if not exists  customer \n",
    "            (customer_id int,\n",
    "             store_id int,\n",
    "             first_name varchar,\n",
    "             last_name varchar)\n",
    "            ''')\n",
    "\n",
    "\n",
    "cur.execute('''\n",
    "           insert into   customer\n",
    "            values(1,1,'Mike','Mike');\n",
    "            ''')\n",
    "\n",
    "\n",
    "cur.execute('''\n",
    "           select* from customer\n",
    "        \n",
    "            ''')\n",
    "\n",
    "results = cur.fetchall()\n",
    "pd.DataFrame(results, columns=['customer_id', 'store_id', 'first_name', 'last_name'])"
   ]
  },
  {
   "cell_type": "markdown",
   "id": "9ed586a6",
   "metadata": {},
   "source": [
    "## выполнение кода без определения функции или процедуры\n"
   ]
  },
  {
   "cell_type": "code",
   "execution_count": 32,
   "id": "770b1459",
   "metadata": {},
   "outputs": [],
   "source": [
    "cur = conn.cursor()\n",
    "\n",
    "cur.execute('''\n",
    "           DROP TABLE table_2\n",
    "            ''')\n",
    "conn.commit()"
   ]
  },
  {
   "cell_type": "code",
   "execution_count": 33,
   "id": "d7ce8914",
   "metadata": {},
   "outputs": [],
   "source": [
    "cur = conn.cursor()\n",
    "\n",
    "cur.execute('''\n",
    "           do $$\n",
    "            DECLARE\n",
    "                i INTEGER;\n",
    "            BEGIN\n",
    "                    FOR i IN 1 .. 2 \n",
    "                    LOOP\n",
    "                        RAISE Notice 'i = %', i;\n",
    "                        execute ('create table table_' || i || '(id int);');\n",
    "                    END LOOP;\n",
    "            end $$;\t\n",
    "            ''')\n",
    "conn.commit()"
   ]
  },
  {
   "cell_type": "code",
   "execution_count": 34,
   "id": "8a84e826",
   "metadata": {},
   "outputs": [
    {
     "data": {
      "text/html": [
       "<div>\n",
       "<style scoped>\n",
       "    .dataframe tbody tr th:only-of-type {\n",
       "        vertical-align: middle;\n",
       "    }\n",
       "\n",
       "    .dataframe tbody tr th {\n",
       "        vertical-align: top;\n",
       "    }\n",
       "\n",
       "    .dataframe thead th {\n",
       "        text-align: right;\n",
       "    }\n",
       "</style>\n",
       "<table border=\"1\" class=\"dataframe\">\n",
       "  <thead>\n",
       "    <tr style=\"text-align: right;\">\n",
       "      <th></th>\n",
       "      <th>id</th>\n",
       "    </tr>\n",
       "  </thead>\n",
       "  <tbody>\n",
       "  </tbody>\n",
       "</table>\n",
       "</div>"
      ],
      "text/plain": [
       "Empty DataFrame\n",
       "Columns: [id]\n",
       "Index: []"
      ]
     },
     "execution_count": 34,
     "metadata": {},
     "output_type": "execute_result"
    }
   ],
   "source": [
    "query = f'''\n",
    "        select* from table_1\n",
    "'''\n",
    "df = pd.read_sql_query(query, conn)\n",
    "df"
   ]
  },
  {
   "cell_type": "markdown",
   "id": "b0aff9e5",
   "metadata": {},
   "source": [
    "### до pg 11 были только функции -->"
   ]
  },
  {
   "cell_type": "code",
   "execution_count": 40,
   "id": "cac9e14d",
   "metadata": {},
   "outputs": [
    {
     "data": {
      "text/html": [
       "<div>\n",
       "<style scoped>\n",
       "    .dataframe tbody tr th:only-of-type {\n",
       "        vertical-align: middle;\n",
       "    }\n",
       "\n",
       "    .dataframe tbody tr th {\n",
       "        vertical-align: top;\n",
       "    }\n",
       "\n",
       "    .dataframe thead th {\n",
       "        text-align: right;\n",
       "    }\n",
       "</style>\n",
       "<table border=\"1\" class=\"dataframe\">\n",
       "  <thead>\n",
       "    <tr style=\"text-align: right;\">\n",
       "      <th></th>\n",
       "      <th>customer_id</th>\n",
       "      <th>store_id</th>\n",
       "      <th>first_name</th>\n",
       "      <th>last_name</th>\n",
       "    </tr>\n",
       "  </thead>\n",
       "  <tbody>\n",
       "    <tr>\n",
       "      <th>0</th>\n",
       "      <td>1</td>\n",
       "      <td>1</td>\n",
       "      <td>Mike</td>\n",
       "      <td>Mike</td>\n",
       "    </tr>\n",
       "  </tbody>\n",
       "</table>\n",
       "</div>"
      ],
      "text/plain": [
       "   customer_id  store_id first_name last_name\n",
       "0            1         1       Mike      Mike"
      ]
     },
     "execution_count": 40,
     "metadata": {},
     "output_type": "execute_result"
    }
   ],
   "source": [
    "cur = conn.cursor()\n",
    "\n",
    "cur.execute('''\n",
    "           create or replace function first_function()\n",
    "            returns setof customer\n",
    "            as $$\n",
    "            select * from customer;\n",
    "            $$\n",
    "            language sql\n",
    "            ''')\n",
    "\n",
    "\n",
    "cur.execute('''\n",
    "           select * from first_function();\n",
    "            ''')\n",
    "\n",
    "results = cur.fetchall()\n",
    "pd.DataFrame(results, columns=['customer_id', 'store_id', 'first_name', 'last_name'])"
   ]
  },
  {
   "cell_type": "markdown",
   "id": "2b82498b",
   "metadata": {},
   "source": [
    "### Процедура копирования определения таблицы  DDL внутри процедуры\n"
   ]
  },
  {
   "cell_type": "code",
   "execution_count": 95,
   "id": "0e4e97ab",
   "metadata": {
    "scrolled": true
   },
   "outputs": [
    {
     "data": {
      "text/html": [
       "<div>\n",
       "<style scoped>\n",
       "    .dataframe tbody tr th:only-of-type {\n",
       "        vertical-align: middle;\n",
       "    }\n",
       "\n",
       "    .dataframe tbody tr th {\n",
       "        vertical-align: top;\n",
       "    }\n",
       "\n",
       "    .dataframe thead th {\n",
       "        text-align: right;\n",
       "    }\n",
       "</style>\n",
       "<table border=\"1\" class=\"dataframe\">\n",
       "  <thead>\n",
       "    <tr style=\"text-align: right;\">\n",
       "      <th></th>\n",
       "      <th>customer_id</th>\n",
       "      <th>store_id</th>\n",
       "      <th>first_name</th>\n",
       "      <th>last_name</th>\n",
       "    </tr>\n",
       "  </thead>\n",
       "  <tbody>\n",
       "    <tr>\n",
       "      <th>0</th>\n",
       "      <td>1</td>\n",
       "      <td>1</td>\n",
       "      <td>Mike</td>\n",
       "      <td>Mike</td>\n",
       "    </tr>\n",
       "  </tbody>\n",
       "</table>\n",
       "</div>"
      ],
      "text/plain": [
       "   customer_id  store_id first_name last_name\n",
       "0            1         1       Mike      Mike"
      ]
     },
     "execution_count": 95,
     "metadata": {},
     "output_type": "execute_result"
    }
   ],
   "source": [
    "cur.execute('''\n",
    "           Create or replace PROCEDURE copy_table(\n",
    "\t\t\tname_old text,\n",
    "\t\t\tname_new text)\n",
    "            language 'plpgsql'\n",
    "            As $$\n",
    "            declare str_table text;\n",
    "            begin\n",
    "                str_table:= 'create table ' || name_new || ' as select * from ' || name_old ;\n",
    "                execute str_table;\n",
    "                raise notice 'str = %', str_table;\n",
    "            end $$\t\n",
    "            ''')\n",
    "\n",
    "cur.execute('''\n",
    "           call copy_table('customer', 'copy_customer');\n",
    "            ''')\n",
    "\n",
    "cur.execute('''\n",
    "           select* from copy_customer;\n",
    "            ''')\n",
    "\n",
    "results = cur.fetchall()\n",
    "pd.DataFrame(results, columns=['customer_id', 'store_id', 'first_name', 'last_name'])"
   ]
  },
  {
   "cell_type": "markdown",
   "id": "f851e2a6",
   "metadata": {},
   "source": [
    "### Вывести все таблицы заданной схемы"
   ]
  },
  {
   "cell_type": "code",
   "execution_count": 100,
   "id": "9f7cf44b",
   "metadata": {},
   "outputs": [
    {
     "name": "stdout",
     "output_type": "stream",
     "text": [
      "['NOTICE:  table_2 - 0\\n', 'NOTICE:  table_1 - 0\\n']\n"
     ]
    }
   ],
   "source": [
    "cur.execute('''\n",
    "           Create or replace PROCEDURE view_tables(name_sch text)\n",
    "            language 'plpgsql'\n",
    "            as $$\n",
    "            DECLARE\n",
    "                r record;\n",
    "                cnt int;\n",
    "            begin\n",
    "                For r in\n",
    "                    select table_name from information_schema.TABLES\n",
    "                    where table_schema = name_sch\n",
    "                    order by table_name desc\n",
    "                loop\n",
    "                    execute 'select count(*) cnt from ' ||  r.table_name into cnt;\n",
    "                    raise notice '% - %', r.table_name, cnt;\n",
    "                end loop;\n",
    "            end\t$$; \n",
    "            ''')\n",
    "\n",
    "cur.execute('''\n",
    "           call view_tables('public');\n",
    "            ''')\n",
    "\n",
    "print(conn.notices)"
   ]
  },
  {
   "cell_type": "code",
   "execution_count": 104,
   "id": "f6efc3ba",
   "metadata": {},
   "outputs": [
    {
     "name": "stdout",
     "output_type": "stream",
     "text": [
      "['NOTICE:  table_2 - 0\\n', 'NOTICE:  table_1 - 0\\n']\n"
     ]
    }
   ],
   "source": [
    "cur.execute('''\n",
    "           call view_tables('clients');\n",
    "            ''')\n",
    "\n",
    "print(conn.notices)"
   ]
  },
  {
   "cell_type": "markdown",
   "id": "56b83363",
   "metadata": {},
   "source": [
    "### Транзакции в хранимой процедуре\n"
   ]
  },
  {
   "cell_type": "code",
   "execution_count": 112,
   "id": "af9fd296",
   "metadata": {},
   "outputs": [
    {
     "data": {
      "text/html": [
       "<div>\n",
       "<style scoped>\n",
       "    .dataframe tbody tr th:only-of-type {\n",
       "        vertical-align: middle;\n",
       "    }\n",
       "\n",
       "    .dataframe tbody tr th {\n",
       "        vertical-align: top;\n",
       "    }\n",
       "\n",
       "    .dataframe thead th {\n",
       "        text-align: right;\n",
       "    }\n",
       "</style>\n",
       "<table border=\"1\" class=\"dataframe\">\n",
       "  <thead>\n",
       "    <tr style=\"text-align: right;\">\n",
       "      <th></th>\n",
       "      <th>id</th>\n",
       "    </tr>\n",
       "  </thead>\n",
       "  <tbody>\n",
       "    <tr>\n",
       "      <th>0</th>\n",
       "      <td>1</td>\n",
       "    </tr>\n",
       "    <tr>\n",
       "      <th>1</th>\n",
       "      <td>3</td>\n",
       "    </tr>\n",
       "  </tbody>\n",
       "</table>\n",
       "</div>"
      ],
      "text/plain": [
       "   id\n",
       "0   1\n",
       "1   3"
      ]
     },
     "execution_count": 112,
     "metadata": {},
     "output_type": "execute_result"
    }
   ],
   "source": [
    "cur.execute('''\n",
    "\n",
    "            Create or replace PROCEDURE public.trans_in_sp()\n",
    "            language 'plpgsql'\n",
    "            as $$\n",
    "            DECLARE\n",
    "                r record;\n",
    "                cnt int;\n",
    "            begin\n",
    "                create table IF NOT EXISTS t2(id int ); --ddl\n",
    "                insert into t2 values(1);\n",
    "                insert into t2 values(3);\n",
    "            -- Новая транзакция запускается автоматически после завершения \n",
    "            -- транзакции с использованием этих команд, поэтому отдельной \n",
    "            -- команды START TRANSACTION не существует. \n",
    "           \n",
    "           --dml\n",
    "                --update t1\n",
    "                --set id =2;\n",
    "                --commit; --COMMIT TRANSACTION\n",
    "\n",
    "            end\t$$; \n",
    "            ''')\n",
    "\n",
    "cur.execute('''\n",
    "           call public.trans_in_sp();\n",
    "            ''')\n",
    "\n",
    "cur.execute('''\n",
    "           select * from t2;\n",
    "            ''')\n",
    "\n",
    "results = cur.fetchall()\n",
    "pd.DataFrame(results, columns=['id'])"
   ]
  },
  {
   "cell_type": "markdown",
   "id": "cdd27297",
   "metadata": {},
   "source": [
    "### удаление процедуры\n"
   ]
  },
  {
   "cell_type": "code",
   "execution_count": 113,
   "id": "5768d386",
   "metadata": {},
   "outputs": [
    {
     "name": "stdout",
     "output_type": "stream",
     "text": [
      "[]\n"
     ]
    }
   ],
   "source": [
    "cur.execute('''\n",
    "           DROP PROCEDURE IF exists public.trans_in_sp()\n",
    "            ''')\n",
    "print(conn.notices)"
   ]
  },
  {
   "cell_type": "markdown",
   "id": "4cd45063",
   "metadata": {},
   "source": [
    "### обработка ошибок\n"
   ]
  },
  {
   "cell_type": "code",
   "execution_count": 114,
   "id": "3c3b9dc5",
   "metadata": {},
   "outputs": [
    {
     "name": "stdout",
     "output_type": "stream",
     "text": [
      "['NOTICE:  SQLSTATE: 23505\\n']\n"
     ]
    }
   ],
   "source": [
    "cur.execute('''\n",
    "\n",
    "            Create or replace PROCEDURE public.error_handl_sp()\n",
    "            language 'plpgsql'\n",
    "            AS $$\n",
    "            BEGIN\n",
    "              CREATE TABLE test_table(\n",
    "                name varchar UNIQUE\n",
    "              );\n",
    "\n",
    "              INSERT INTO test_table(name) VALUES('my name');\n",
    "              INSERT INTO test_table(name) VALUES('my name'); \n",
    "             EXCEPTION\n",
    "              WHEN others then\n",
    "                RAISE NOTICE 'SQLSTATE: %', SQLSTATE;--Команда RAISE предназначена для вывода сообщений и вызова ошибок.\n",
    "                --RAISE SQLSTATE '22012';\n",
    "                --RAISE EXCEPTION 'Дубликат --> %', 'my name'\n",
    "                --  USING HINT = 'Проверьте уникальность';\n",
    "              /*\n",
    "               WHEN unique_violation THEN\n",
    "               RAISE NOTICE 'Illegal operation: %', SQLERRM;\n",
    "                */\n",
    "                \n",
    "            END $$;\n",
    "\n",
    "\n",
    "            ''')\n",
    "\n",
    "cur.execute('''\n",
    "           call public.error_handl_sp();\n",
    "            ''')\n",
    "print(conn.notices)"
   ]
  },
  {
   "cell_type": "code",
   "execution_count": 115,
   "id": "59075043",
   "metadata": {},
   "outputs": [],
   "source": [
    "conn.rollback()\n",
    "conn.close()"
   ]
  }
 ],
 "metadata": {
  "kernelspec": {
   "display_name": "Python 3 (ipykernel)",
   "language": "python",
   "name": "python3"
  },
  "language_info": {
   "codemirror_mode": {
    "name": "ipython",
    "version": 3
   },
   "file_extension": ".py",
   "mimetype": "text/x-python",
   "name": "python",
   "nbconvert_exporter": "python",
   "pygments_lexer": "ipython3",
   "version": "3.9.12"
  }
 },
 "nbformat": 4,
 "nbformat_minor": 5
}
