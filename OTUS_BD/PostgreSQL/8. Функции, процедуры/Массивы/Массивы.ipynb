{
 "cells": [
  {
   "cell_type": "code",
   "execution_count": 1,
   "id": "734ea6a1",
   "metadata": {},
   "outputs": [],
   "source": [
    "import psycopg2\n",
    "import pandas as pd\n",
    "import sqlalchemy"
   ]
  },
  {
   "cell_type": "code",
   "execution_count": 14,
   "id": "e57c11a1",
   "metadata": {},
   "outputs": [],
   "source": [
    "conn = psycopg2.connect(host=\"127.0.0.1\", port=\"5432\", database=\"Adventureworks\", \n",
    "                            user=\"postgres\", password=\"postgres\")\n",
    "cur = conn.cursor()"
   ]
  },
  {
   "cell_type": "markdown",
   "id": "2ad2b8fc",
   "metadata": {},
   "source": [
    "### смотрим, что за данные"
   ]
  },
  {
   "cell_type": "code",
   "execution_count": 3,
   "id": "4d93e1c1",
   "metadata": {},
   "outputs": [
    {
     "name": "stderr",
     "output_type": "stream",
     "text": [
      "/Users/denis/opt/anaconda3/lib/python3.9/site-packages/pandas/io/sql.py:761: UserWarning: pandas only support SQLAlchemy connectable(engine/connection) ordatabase string URI or sqlite3 DBAPI2 connectionother DBAPI2 objects are not tested, please consider using SQLAlchemy\n",
      "  warnings.warn(\n"
     ]
    },
    {
     "data": {
      "text/html": [
       "<div>\n",
       "<style scoped>\n",
       "    .dataframe tbody tr th:only-of-type {\n",
       "        vertical-align: middle;\n",
       "    }\n",
       "\n",
       "    .dataframe tbody tr th {\n",
       "        vertical-align: top;\n",
       "    }\n",
       "\n",
       "    .dataframe thead th {\n",
       "        text-align: right;\n",
       "    }\n",
       "</style>\n",
       "<table border=\"1\" class=\"dataframe\">\n",
       "  <thead>\n",
       "    <tr style=\"text-align: right;\">\n",
       "      <th></th>\n",
       "      <th>customerid</th>\n",
       "      <th>personid</th>\n",
       "      <th>storeid</th>\n",
       "      <th>territoryid</th>\n",
       "      <th>rowguid</th>\n",
       "      <th>modifieddate</th>\n",
       "    </tr>\n",
       "  </thead>\n",
       "  <tbody>\n",
       "    <tr>\n",
       "      <th>0</th>\n",
       "      <td>14</td>\n",
       "      <td>NaN</td>\n",
       "      <td>1020.0</td>\n",
       "      <td>8</td>\n",
       "      <td>2f96bedc-723d-468f-834b-b2b8ae79c849</td>\n",
       "      <td>2014-09-12 11:15:07.263</td>\n",
       "    </tr>\n",
       "    <tr>\n",
       "      <th>1</th>\n",
       "      <td>32</td>\n",
       "      <td>NaN</td>\n",
       "      <td>1008.0</td>\n",
       "      <td>8</td>\n",
       "      <td>b9a28813-542a-4fbf-ae79-bad64a5e133b</td>\n",
       "      <td>2014-09-12 11:15:07.263</td>\n",
       "    </tr>\n",
       "    <tr>\n",
       "      <th>2</th>\n",
       "      <td>50</td>\n",
       "      <td>NaN</td>\n",
       "      <td>996.0</td>\n",
       "      <td>8</td>\n",
       "      <td>0a3e846a-2dcc-4b6e-8ab3-968b5ab859f4</td>\n",
       "      <td>2014-09-12 11:15:07.263</td>\n",
       "    </tr>\n",
       "    <tr>\n",
       "      <th>3</th>\n",
       "      <td>68</td>\n",
       "      <td>NaN</td>\n",
       "      <td>532.0</td>\n",
       "      <td>8</td>\n",
       "      <td>2138def5-80eb-4d95-b340-706bcd60adda</td>\n",
       "      <td>2014-09-12 11:15:07.263</td>\n",
       "    </tr>\n",
       "    <tr>\n",
       "      <th>4</th>\n",
       "      <td>86</td>\n",
       "      <td>NaN</td>\n",
       "      <td>636.0</td>\n",
       "      <td>8</td>\n",
       "      <td>2a8b2702-4644-4002-90e4-99a8adba5261</td>\n",
       "      <td>2014-09-12 11:15:07.263</td>\n",
       "    </tr>\n",
       "  </tbody>\n",
       "</table>\n",
       "</div>"
      ],
      "text/plain": [
       "   customerid  personid  storeid  territoryid  \\\n",
       "0          14       NaN   1020.0            8   \n",
       "1          32       NaN   1008.0            8   \n",
       "2          50       NaN    996.0            8   \n",
       "3          68       NaN    532.0            8   \n",
       "4          86       NaN    636.0            8   \n",
       "\n",
       "                                rowguid            modifieddate  \n",
       "0  2f96bedc-723d-468f-834b-b2b8ae79c849 2014-09-12 11:15:07.263  \n",
       "1  b9a28813-542a-4fbf-ae79-bad64a5e133b 2014-09-12 11:15:07.263  \n",
       "2  0a3e846a-2dcc-4b6e-8ab3-968b5ab859f4 2014-09-12 11:15:07.263  \n",
       "3  2138def5-80eb-4d95-b340-706bcd60adda 2014-09-12 11:15:07.263  \n",
       "4  2a8b2702-4644-4002-90e4-99a8adba5261 2014-09-12 11:15:07.263  "
      ]
     },
     "execution_count": 3,
     "metadata": {},
     "output_type": "execute_result"
    }
   ],
   "source": [
    "query = f'''\n",
    "         select * from sales.customer\n",
    "        where territoryid =8\n",
    "'''\n",
    "df = pd.read_sql_query(query, conn)\n",
    "df.head()"
   ]
  },
  {
   "cell_type": "markdown",
   "id": "6b5142de",
   "metadata": {},
   "source": [
    "### Есть два пути. Один из них - агрегировать"
   ]
  },
  {
   "cell_type": "code",
   "execution_count": 4,
   "id": "428b1fef",
   "metadata": {},
   "outputs": [
    {
     "name": "stderr",
     "output_type": "stream",
     "text": [
      "/Users/denis/opt/anaconda3/lib/python3.9/site-packages/pandas/io/sql.py:761: UserWarning: pandas only support SQLAlchemy connectable(engine/connection) ordatabase string URI or sqlite3 DBAPI2 connectionother DBAPI2 objects are not tested, please consider using SQLAlchemy\n",
      "  warnings.warn(\n"
     ]
    },
    {
     "data": {
      "text/html": [
       "<div>\n",
       "<style scoped>\n",
       "    .dataframe tbody tr th:only-of-type {\n",
       "        vertical-align: middle;\n",
       "    }\n",
       "\n",
       "    .dataframe tbody tr th {\n",
       "        vertical-align: top;\n",
       "    }\n",
       "\n",
       "    .dataframe thead th {\n",
       "        text-align: right;\n",
       "    }\n",
       "</style>\n",
       "<table border=\"1\" class=\"dataframe\">\n",
       "  <thead>\n",
       "    <tr style=\"text-align: right;\">\n",
       "      <th></th>\n",
       "      <th>array_agg</th>\n",
       "    </tr>\n",
       "  </thead>\n",
       "  <tbody>\n",
       "    <tr>\n",
       "      <th>0</th>\n",
       "      <td>[3, 4, 5, 6, 21, 23, 24, 25, 40, 41, 42, 59, 6...</td>\n",
       "    </tr>\n",
       "  </tbody>\n",
       "</table>\n",
       "</div>"
      ],
      "text/plain": [
       "                                           array_agg\n",
       "0  [3, 4, 5, 6, 21, 23, 24, 25, 40, 41, 42, 59, 6..."
      ]
     },
     "execution_count": 4,
     "metadata": {},
     "output_type": "execute_result"
    }
   ],
   "source": [
    "query = f'''\n",
    "         SELECT array_agg(customerid::text)\n",
    "        FROM sales.customer\n",
    "        where territoryid =4\n",
    "'''\n",
    "df = pd.read_sql_query(query, conn)\n",
    "df.head()"
   ]
  },
  {
   "cell_type": "markdown",
   "id": "3db9803d",
   "metadata": {},
   "source": [
    "### Другой - использовать конструктор массива:\n",
    "### где customerid собирается по territoryid = 8, а массив по where territoryid =10\n",
    "### это только рекордсет, нельзя обратиться по имени acc_array или cus. используется в констуркции insert into select\n",
    "### SELECT customerid, array("
   ]
  },
  {
   "cell_type": "code",
   "execution_count": 8,
   "id": "716e2109",
   "metadata": {},
   "outputs": [
    {
     "name": "stderr",
     "output_type": "stream",
     "text": [
      "/Users/denis/opt/anaconda3/lib/python3.9/site-packages/pandas/io/sql.py:761: UserWarning: pandas only support SQLAlchemy connectable(engine/connection) ordatabase string URI or sqlite3 DBAPI2 connectionother DBAPI2 objects are not tested, please consider using SQLAlchemy\n",
      "  warnings.warn(\n"
     ]
    },
    {
     "data": {
      "text/html": [
       "<div>\n",
       "<style scoped>\n",
       "    .dataframe tbody tr th:only-of-type {\n",
       "        vertical-align: middle;\n",
       "    }\n",
       "\n",
       "    .dataframe tbody tr th {\n",
       "        vertical-align: top;\n",
       "    }\n",
       "\n",
       "    .dataframe thead th {\n",
       "        text-align: right;\n",
       "    }\n",
       "</style>\n",
       "<table border=\"1\" class=\"dataframe\">\n",
       "  <thead>\n",
       "    <tr style=\"text-align: right;\">\n",
       "      <th></th>\n",
       "      <th>customerid</th>\n",
       "      <th>acc_array</th>\n",
       "    </tr>\n",
       "  </thead>\n",
       "  <tbody>\n",
       "    <tr>\n",
       "      <th>0</th>\n",
       "      <td>14</td>\n",
       "      <td>[c9381589-d31c-4efe-8978-8d3449eb1f0f, 9edda79...</td>\n",
       "    </tr>\n",
       "    <tr>\n",
       "      <th>1</th>\n",
       "      <td>32</td>\n",
       "      <td>[c9381589-d31c-4efe-8978-8d3449eb1f0f, 9edda79...</td>\n",
       "    </tr>\n",
       "    <tr>\n",
       "      <th>2</th>\n",
       "      <td>50</td>\n",
       "      <td>[c9381589-d31c-4efe-8978-8d3449eb1f0f, 9edda79...</td>\n",
       "    </tr>\n",
       "    <tr>\n",
       "      <th>3</th>\n",
       "      <td>68</td>\n",
       "      <td>[c9381589-d31c-4efe-8978-8d3449eb1f0f, 9edda79...</td>\n",
       "    </tr>\n",
       "    <tr>\n",
       "      <th>4</th>\n",
       "      <td>86</td>\n",
       "      <td>[c9381589-d31c-4efe-8978-8d3449eb1f0f, 9edda79...</td>\n",
       "    </tr>\n",
       "  </tbody>\n",
       "</table>\n",
       "</div>"
      ],
      "text/plain": [
       "   customerid                                          acc_array\n",
       "0          14  [c9381589-d31c-4efe-8978-8d3449eb1f0f, 9edda79...\n",
       "1          32  [c9381589-d31c-4efe-8978-8d3449eb1f0f, 9edda79...\n",
       "2          50  [c9381589-d31c-4efe-8978-8d3449eb1f0f, 9edda79...\n",
       "3          68  [c9381589-d31c-4efe-8978-8d3449eb1f0f, 9edda79...\n",
       "4          86  [c9381589-d31c-4efe-8978-8d3449eb1f0f, 9edda79..."
      ]
     },
     "execution_count": 8,
     "metadata": {},
     "output_type": "execute_result"
    }
   ],
   "source": [
    "query = f'''\n",
    "         SELECT customerid, array(\n",
    "        SELECT rowguid ::TEXT\n",
    "         FROM sales.customer\n",
    "\t\twhere territoryid =10\n",
    "        )\n",
    "           AS acc_array \n",
    "        FROM sales.customer as cus\n",
    "        where territoryid = 8;\n",
    "'''\n",
    "df = pd.read_sql_query(query, conn)\n",
    "df.head()"
   ]
  },
  {
   "cell_type": "markdown",
   "id": "a909be57",
   "metadata": {},
   "source": [
    "### выборки из таблицы, где несколько полей = массив\n"
   ]
  },
  {
   "cell_type": "code",
   "execution_count": 9,
   "id": "75d48140",
   "metadata": {},
   "outputs": [
    {
     "data": {
      "text/html": [
       "<div>\n",
       "<style scoped>\n",
       "    .dataframe tbody tr th:only-of-type {\n",
       "        vertical-align: middle;\n",
       "    }\n",
       "\n",
       "    .dataframe tbody tr th {\n",
       "        vertical-align: top;\n",
       "    }\n",
       "\n",
       "    .dataframe thead th {\n",
       "        text-align: right;\n",
       "    }\n",
       "</style>\n",
       "<table border=\"1\" class=\"dataframe\">\n",
       "  <thead>\n",
       "    <tr style=\"text-align: right;\">\n",
       "      <th></th>\n",
       "      <th>type</th>\n",
       "      <th>address</th>\n",
       "      <th>test_scores</th>\n",
       "    </tr>\n",
       "  </thead>\n",
       "  <tbody>\n",
       "    <tr>\n",
       "      <th>0</th>\n",
       "      <td>work</td>\n",
       "      <td>work1@gmail.com</td>\n",
       "      <td>92</td>\n",
       "    </tr>\n",
       "  </tbody>\n",
       "</table>\n",
       "</div>"
      ],
      "text/plain": [
       "   type          address  test_scores\n",
       "0  work  work1@gmail.com           92"
      ]
     },
     "execution_count": 9,
     "metadata": {},
     "output_type": "execute_result"
    }
   ],
   "source": [
    "cur.execute('''\n",
    "           CREATE TABLE grades (\n",
    "                student_id int,\n",
    "                email text[][],\n",
    "                test_scores int[]\n",
    "            );\n",
    "            ''')\n",
    "\n",
    "cur.execute('''\n",
    "            INSERT INTO grades\n",
    "            VALUES(1, '{ {\"work\", \"work1@gmail.com\"}, {\"home\", \"home1@gmail.com\"} }',\n",
    "            '{92, 58,98, 100}');\n",
    "            ''')\n",
    "\n",
    "cur.execute('''\n",
    "            SELECT\n",
    "            email[1][1] as type, -- обращаться можно по индексу массива\n",
    "            email[1][2] as address,\n",
    "            test_scores[1]\n",
    "            FROM\n",
    "            grades;\n",
    "            ''')\n",
    "\n",
    "\n",
    "results = cur.fetchall()\n",
    "pd.DataFrame(results, columns=['type', 'address', 'test_scores'])"
   ]
  },
  {
   "cell_type": "markdown",
   "id": "92d214ab",
   "metadata": {},
   "source": [
    "### создать свой сложный тип и его возвращать\n"
   ]
  },
  {
   "cell_type": "code",
   "execution_count": 15,
   "id": "0c444c69",
   "metadata": {},
   "outputs": [
    {
     "data": {
      "text/html": [
       "<div>\n",
       "<style scoped>\n",
       "    .dataframe tbody tr th:only-of-type {\n",
       "        vertical-align: middle;\n",
       "    }\n",
       "\n",
       "    .dataframe tbody tr th {\n",
       "        vertical-align: top;\n",
       "    }\n",
       "\n",
       "    .dataframe thead th {\n",
       "        text-align: right;\n",
       "    }\n",
       "</style>\n",
       "<table border=\"1\" class=\"dataframe\">\n",
       "  <thead>\n",
       "    <tr style=\"text-align: right;\">\n",
       "      <th></th>\n",
       "      <th>customerid</th>\n",
       "      <th>rowguid</th>\n",
       "    </tr>\n",
       "  </thead>\n",
       "  <tbody>\n",
       "    <tr>\n",
       "      <th>0</th>\n",
       "      <td>1</td>\n",
       "      <td>3f5ae95e-b87d-4aed-95b4-c3797afcb74f</td>\n",
       "    </tr>\n",
       "    <tr>\n",
       "      <th>1</th>\n",
       "      <td>2</td>\n",
       "      <td>e552f657-a9af-4a7d-a645-c429d6e02491</td>\n",
       "    </tr>\n",
       "    <tr>\n",
       "      <th>2</th>\n",
       "      <td>3</td>\n",
       "      <td>130774b1-db21-4ef3-98c8-c104bcd6ed6d</td>\n",
       "    </tr>\n",
       "    <tr>\n",
       "      <th>3</th>\n",
       "      <td>4</td>\n",
       "      <td>ff862851-1daa-4044-be7c-3e85583c054d</td>\n",
       "    </tr>\n",
       "    <tr>\n",
       "      <th>4</th>\n",
       "      <td>5</td>\n",
       "      <td>83905bdc-6f5e-4f71-b162-c98da069f38a</td>\n",
       "    </tr>\n",
       "    <tr>\n",
       "      <th>...</th>\n",
       "      <td>...</td>\n",
       "      <td>...</td>\n",
       "    </tr>\n",
       "    <tr>\n",
       "      <th>19815</th>\n",
       "      <td>30114</td>\n",
       "      <td>97154f3d-28f1-4b15-ae03-9518b781ece3</td>\n",
       "    </tr>\n",
       "    <tr>\n",
       "      <th>19816</th>\n",
       "      <td>30115</td>\n",
       "      <td>e4cf8fd5-30a4-4b8e-8fd8-47032e255778</td>\n",
       "    </tr>\n",
       "    <tr>\n",
       "      <th>19817</th>\n",
       "      <td>30116</td>\n",
       "      <td>ec409609-d25d-41b8-9d15-a1aa6e89fc77</td>\n",
       "    </tr>\n",
       "    <tr>\n",
       "      <th>19818</th>\n",
       "      <td>30117</td>\n",
       "      <td>6f08e2fb-1cd3-4f6e-a2e6-385669598b19</td>\n",
       "    </tr>\n",
       "    <tr>\n",
       "      <th>19819</th>\n",
       "      <td>30118</td>\n",
       "      <td>2495b4eb-fe8b-459e-a1b6-dba25c04e626</td>\n",
       "    </tr>\n",
       "  </tbody>\n",
       "</table>\n",
       "<p>19820 rows × 2 columns</p>\n",
       "</div>"
      ],
      "text/plain": [
       "      customerid                               rowguid\n",
       "0              1  3f5ae95e-b87d-4aed-95b4-c3797afcb74f\n",
       "1              2  e552f657-a9af-4a7d-a645-c429d6e02491\n",
       "2              3  130774b1-db21-4ef3-98c8-c104bcd6ed6d\n",
       "3              4  ff862851-1daa-4044-be7c-3e85583c054d\n",
       "4              5  83905bdc-6f5e-4f71-b162-c98da069f38a\n",
       "...          ...                                   ...\n",
       "19815      30114  97154f3d-28f1-4b15-ae03-9518b781ece3\n",
       "19816      30115  e4cf8fd5-30a4-4b8e-8fd8-47032e255778\n",
       "19817      30116  ec409609-d25d-41b8-9d15-a1aa6e89fc77\n",
       "19818      30117  6f08e2fb-1cd3-4f6e-a2e6-385669598b19\n",
       "19819      30118  2495b4eb-fe8b-459e-a1b6-dba25c04e626\n",
       "\n",
       "[19820 rows x 2 columns]"
      ]
     },
     "execution_count": 15,
     "metadata": {},
     "output_type": "execute_result"
    }
   ],
   "source": [
    "cur.execute('''\n",
    "            CREATE TYPE compozit AS (f1 text, f2 text);\n",
    "            ''')\n",
    "\n",
    "cur.execute('''\n",
    "            CREATE FUNCTION getCompozit() RETURNS SETOF compozit AS $$\n",
    "            SELECT customerid, rowguid FROM sales.customer\n",
    "            $$ LANGUAGE SQL;\n",
    "            ''')\n",
    "\n",
    "cur.execute('''\n",
    "            SELECT * from getCompozit()\n",
    "            ''')\n",
    "\n",
    "results = cur.fetchall()\n",
    "pd.DataFrame(results, columns=['customerid', 'rowguid'])"
   ]
  },
  {
   "cell_type": "code",
   "execution_count": 12,
   "id": "50992452",
   "metadata": {},
   "outputs": [],
   "source": [
    "conn.rollback()\n",
    "conn.close()"
   ]
  }
 ],
 "metadata": {
  "kernelspec": {
   "display_name": "Python 3 (ipykernel)",
   "language": "python",
   "name": "python3"
  },
  "language_info": {
   "codemirror_mode": {
    "name": "ipython",
    "version": 3
   },
   "file_extension": ".py",
   "mimetype": "text/x-python",
   "name": "python",
   "nbconvert_exporter": "python",
   "pygments_lexer": "ipython3",
   "version": "3.9.12"
  }
 },
 "nbformat": 4,
 "nbformat_minor": 5
}
