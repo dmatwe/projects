{
 "cells": [
  {
   "cell_type": "markdown",
   "id": "e801b494",
   "metadata": {},
   "source": [
    "### Импорт библиотек для работы с бд и дф"
   ]
  },
  {
   "cell_type": "code",
   "execution_count": 1,
   "id": "ef394c7b",
   "metadata": {},
   "outputs": [],
   "source": [
    "import psycopg2\n",
    "import pandas as pd\n",
    "import sqlalchemy"
   ]
  },
  {
   "cell_type": "markdown",
   "id": "71afa10a",
   "metadata": {},
   "source": [
    "### Кредиты для коннекта к бд\n"
   ]
  },
  {
   "cell_type": "code",
   "execution_count": 44,
   "id": "f3cdbba7",
   "metadata": {},
   "outputs": [],
   "source": [
    "conn = psycopg2.connect(host=\"127.0.0.1\", port=\"5433\", database=\"online_store\", \n",
    "                            user=\"admin\", password=\"root\")"
   ]
  },
  {
   "cell_type": "markdown",
   "id": "a676e638",
   "metadata": {},
   "source": [
    "### Наполняем таблицу clients.sessions_info "
   ]
  },
  {
   "cell_type": "code",
   "execution_count": 5,
   "id": "2ad18cff",
   "metadata": {
    "scrolled": true
   },
   "outputs": [
    {
     "data": {
      "text/html": [
       "<div>\n",
       "<style scoped>\n",
       "    .dataframe tbody tr th:only-of-type {\n",
       "        vertical-align: middle;\n",
       "    }\n",
       "\n",
       "    .dataframe tbody tr th {\n",
       "        vertical-align: top;\n",
       "    }\n",
       "\n",
       "    .dataframe thead th {\n",
       "        text-align: right;\n",
       "    }\n",
       "</style>\n",
       "<table border=\"1\" class=\"dataframe\">\n",
       "  <thead>\n",
       "    <tr style=\"text-align: right;\">\n",
       "      <th></th>\n",
       "      <th>session_id</th>\n",
       "      <th>client_id</th>\n",
       "      <th>src_id</th>\n",
       "      <th>Purchase_flg</th>\n",
       "      <th>visit_dttm</th>\n",
       "      <th>duration</th>\n",
       "      <th>page_count</th>\n",
       "      <th>last_page_id</th>\n",
       "    </tr>\n",
       "  </thead>\n",
       "  <tbody>\n",
       "    <tr>\n",
       "      <th>0</th>\n",
       "      <td>2232</td>\n",
       "      <td>100</td>\n",
       "      <td>2</td>\n",
       "      <td>1</td>\n",
       "      <td>2022-09-25</td>\n",
       "      <td>15.0000000000</td>\n",
       "      <td>4</td>\n",
       "      <td>5</td>\n",
       "    </tr>\n",
       "    <tr>\n",
       "      <th>1</th>\n",
       "      <td>4232</td>\n",
       "      <td>200</td>\n",
       "      <td>1</td>\n",
       "      <td>0</td>\n",
       "      <td>2022-09-26</td>\n",
       "      <td>2.2000000000</td>\n",
       "      <td>12</td>\n",
       "      <td>1</td>\n",
       "    </tr>\n",
       "    <tr>\n",
       "      <th>2</th>\n",
       "      <td>5232</td>\n",
       "      <td>300</td>\n",
       "      <td>3</td>\n",
       "      <td>1</td>\n",
       "      <td>2022-09-24</td>\n",
       "      <td>10.0000000000</td>\n",
       "      <td>2</td>\n",
       "      <td>4</td>\n",
       "    </tr>\n",
       "    <tr>\n",
       "      <th>3</th>\n",
       "      <td>7232</td>\n",
       "      <td>300</td>\n",
       "      <td>3</td>\n",
       "      <td>0</td>\n",
       "      <td>2022-09-20</td>\n",
       "      <td>10.0000000000</td>\n",
       "      <td>2</td>\n",
       "      <td>4</td>\n",
       "    </tr>\n",
       "    <tr>\n",
       "      <th>4</th>\n",
       "      <td>6232</td>\n",
       "      <td>400</td>\n",
       "      <td>3</td>\n",
       "      <td>1</td>\n",
       "      <td>2022-09-21</td>\n",
       "      <td>10.0000000000</td>\n",
       "      <td>2</td>\n",
       "      <td>4</td>\n",
       "    </tr>\n",
       "  </tbody>\n",
       "</table>\n",
       "</div>"
      ],
      "text/plain": [
       "   session_id  client_id  src_id  Purchase_flg  visit_dttm       duration  \\\n",
       "0        2232        100       2             1  2022-09-25  15.0000000000   \n",
       "1        4232        200       1             0  2022-09-26   2.2000000000   \n",
       "2        5232        300       3             1  2022-09-24  10.0000000000   \n",
       "3        7232        300       3             0  2022-09-20  10.0000000000   \n",
       "4        6232        400       3             1  2022-09-21  10.0000000000   \n",
       "\n",
       "   page_count  last_page_id  \n",
       "0           4             5  \n",
       "1          12             1  \n",
       "2           2             4  \n",
       "3           2             4  \n",
       "4           2             4  "
      ]
     },
     "execution_count": 5,
     "metadata": {},
     "output_type": "execute_result"
    }
   ],
   "source": [
    "cur = conn.cursor()\n",
    "cur.execute('''\n",
    "            insert  into clients.sessions_info \n",
    "            (session_id, client_id, src_id, Purchase_flg, visit_dttm, duration, page_count, last_page_id)\n",
    "            values \n",
    "            (2232, 100, 2, 1, '2022-09-25', 15, 4, 5),\n",
    "            (4232, 200, 1, 0, '2022-09-26', 2.2, 12, 1),\n",
    "            (5232, 300, 3, 1, '2022-09-24', 10, 2, 4),\n",
    "            (7232, 300, 3, 0, '2022-09-20', 10, 2, 4),\n",
    "            (6232, 400, 3, 1, '2022-09-21', 10, 2, 4);\n",
    "            ''')\n",
    "\n",
    "cur.execute('''\n",
    "           select* from clients.sessions_info \n",
    "            ''')\n",
    "\n",
    "results = cur.fetchall()\n",
    "pd.DataFrame(results, columns=['session_id', 'client_id', 'src_id', 'Purchase_flg', 'visit_dttm', 'duration', \n",
    "                              'page_count', 'last_page_id'])"
   ]
  },
  {
   "cell_type": "markdown",
   "id": "48407694",
   "metadata": {},
   "source": [
    "### Наполняем таблицу clients.clients_info "
   ]
  },
  {
   "cell_type": "code",
   "execution_count": 4,
   "id": "4db9fa7a",
   "metadata": {},
   "outputs": [
    {
     "data": {
      "text/html": [
       "<div>\n",
       "<style scoped>\n",
       "    .dataframe tbody tr th:only-of-type {\n",
       "        vertical-align: middle;\n",
       "    }\n",
       "\n",
       "    .dataframe tbody tr th {\n",
       "        vertical-align: top;\n",
       "    }\n",
       "\n",
       "    .dataframe thead th {\n",
       "        text-align: right;\n",
       "    }\n",
       "</style>\n",
       "<table border=\"1\" class=\"dataframe\">\n",
       "  <thead>\n",
       "    <tr style=\"text-align: right;\">\n",
       "      <th></th>\n",
       "      <th>client_id</th>\n",
       "      <th>client_name</th>\n",
       "      <th>src_id</th>\n",
       "      <th>status_id</th>\n",
       "      <th>city</th>\n",
       "      <th>address</th>\n",
       "      <th>registration_dttm</th>\n",
       "      <th>start_dttm</th>\n",
       "      <th>end_dttm</th>\n",
       "    </tr>\n",
       "  </thead>\n",
       "  <tbody>\n",
       "    <tr>\n",
       "      <th>0</th>\n",
       "      <td>100</td>\n",
       "      <td>Andrew Link</td>\n",
       "      <td>2</td>\n",
       "      <td>1</td>\n",
       "      <td>Moscow</td>\n",
       "      <td>Ul. Zatonnaia 6k1</td>\n",
       "      <td>2022-08-25</td>\n",
       "      <td>2022-08-25</td>\n",
       "      <td>3000-01-01</td>\n",
       "    </tr>\n",
       "    <tr>\n",
       "      <th>1</th>\n",
       "      <td>200</td>\n",
       "      <td>German Gaban</td>\n",
       "      <td>1</td>\n",
       "      <td>1</td>\n",
       "      <td>Saint-Petersburg</td>\n",
       "      <td>Ul. Hermulich 15</td>\n",
       "      <td>2022-08-24</td>\n",
       "      <td>2022-08-24</td>\n",
       "      <td>3000-01-01</td>\n",
       "    </tr>\n",
       "    <tr>\n",
       "      <th>2</th>\n",
       "      <td>300</td>\n",
       "      <td>Fedor Vlasov</td>\n",
       "      <td>1</td>\n",
       "      <td>1</td>\n",
       "      <td>Tver</td>\n",
       "      <td>Ul. Dorojnaia 8</td>\n",
       "      <td>2022-08-24</td>\n",
       "      <td>2022-08-24</td>\n",
       "      <td>3000-01-01</td>\n",
       "    </tr>\n",
       "    <tr>\n",
       "      <th>3</th>\n",
       "      <td>400</td>\n",
       "      <td>Anna Vlasova</td>\n",
       "      <td>3</td>\n",
       "      <td>1</td>\n",
       "      <td>Tver</td>\n",
       "      <td>Ul. Dorojnaia 8</td>\n",
       "      <td>2022-08-21</td>\n",
       "      <td>2022-08-21</td>\n",
       "      <td>3000-01-01</td>\n",
       "    </tr>\n",
       "  </tbody>\n",
       "</table>\n",
       "</div>"
      ],
      "text/plain": [
       "   client_id   client_name  src_id  status_id              city  \\\n",
       "0        100   Andrew Link       2          1            Moscow   \n",
       "1        200  German Gaban       1          1  Saint-Petersburg   \n",
       "2        300  Fedor Vlasov       1          1              Tver   \n",
       "3        400  Anna Vlasova       3          1              Tver   \n",
       "\n",
       "             address registration_dttm  start_dttm    end_dttm  \n",
       "0  Ul. Zatonnaia 6k1        2022-08-25  2022-08-25  3000-01-01  \n",
       "1   Ul. Hermulich 15        2022-08-24  2022-08-24  3000-01-01  \n",
       "2    Ul. Dorojnaia 8        2022-08-24  2022-08-24  3000-01-01  \n",
       "3    Ul. Dorojnaia 8        2022-08-21  2022-08-21  3000-01-01  "
      ]
     },
     "execution_count": 4,
     "metadata": {},
     "output_type": "execute_result"
    }
   ],
   "source": [
    "cur.execute('''\n",
    "            insert  into clients.clients_info \n",
    "            (client_id, client_name, src_id, status_id, city, address, registration_dttm, start_dttm, end_dttm)\n",
    "            values\n",
    "            (100, 'Andrew Link', 2, 1, 'Moscow', 'Ul. Zatonnaia 6k1', '2022-08-25', '2022-08-25', '3000-01-01'),\n",
    "            (200, 'German Gaban', 1, 1, 'Saint-Petersburg', 'Ul. Hermulich 15', '2022-08-24', '2022-08-24', '3000-01-01'),\n",
    "            (300, 'Fedor Vlasov', 1, 1, 'Tver', 'Ul. Dorojnaia 8', '2022-08-24', '2022-08-24', '3000-01-01'),\n",
    "            (400, 'Anna Vlasova', 3, 1, 'Tver', 'Ul. Dorojnaia 8', '2022-08-21', '2022-08-21', '3000-01-01');\n",
    "            ''')\n",
    "\n",
    "cur.execute('''\n",
    "           select* from clients.clients_info \n",
    "            ''')\n",
    "\n",
    "results = cur.fetchall()\n",
    "pd.DataFrame(results, columns=['client_id', 'client_name', 'src_id', 'status_id', 'city', 'address', \n",
    "                              'registration_dttm', 'start_dttm', 'end_dttm'])\n"
   ]
  },
  {
   "cell_type": "markdown",
   "id": "b30bbeae",
   "metadata": {},
   "source": [
    "### Наполняем таблицу orders.orders_info "
   ]
  },
  {
   "cell_type": "code",
   "execution_count": 7,
   "id": "b62454ac",
   "metadata": {
    "scrolled": true
   },
   "outputs": [
    {
     "data": {
      "text/html": [
       "<div>\n",
       "<style scoped>\n",
       "    .dataframe tbody tr th:only-of-type {\n",
       "        vertical-align: middle;\n",
       "    }\n",
       "\n",
       "    .dataframe tbody tr th {\n",
       "        vertical-align: top;\n",
       "    }\n",
       "\n",
       "    .dataframe thead th {\n",
       "        text-align: right;\n",
       "    }\n",
       "</style>\n",
       "<table border=\"1\" class=\"dataframe\">\n",
       "  <thead>\n",
       "    <tr style=\"text-align: right;\">\n",
       "      <th></th>\n",
       "      <th>order_id</th>\n",
       "      <th>client_id</th>\n",
       "      <th>status_id</th>\n",
       "      <th>session_id</th>\n",
       "      <th>amount</th>\n",
       "      <th>discount_flg</th>\n",
       "      <th>order_dttm</th>\n",
       "      <th>start_dttm</th>\n",
       "      <th>end_dttm</th>\n",
       "    </tr>\n",
       "  </thead>\n",
       "  <tbody>\n",
       "    <tr>\n",
       "      <th>0</th>\n",
       "      <td>2367742</td>\n",
       "      <td>100</td>\n",
       "      <td>1</td>\n",
       "      <td>2232</td>\n",
       "      <td>3500.0000000000</td>\n",
       "      <td>0</td>\n",
       "      <td>2022-09-25</td>\n",
       "      <td>2022-09-25</td>\n",
       "      <td>3000-01-01</td>\n",
       "    </tr>\n",
       "    <tr>\n",
       "      <th>1</th>\n",
       "      <td>3327834</td>\n",
       "      <td>300</td>\n",
       "      <td>1</td>\n",
       "      <td>5232</td>\n",
       "      <td>6000.0000000000</td>\n",
       "      <td>0</td>\n",
       "      <td>2022-09-24</td>\n",
       "      <td>2022-09-24</td>\n",
       "      <td>3000-01-01</td>\n",
       "    </tr>\n",
       "    <tr>\n",
       "      <th>2</th>\n",
       "      <td>4834594</td>\n",
       "      <td>400</td>\n",
       "      <td>1</td>\n",
       "      <td>6232</td>\n",
       "      <td>1500.0000000000</td>\n",
       "      <td>0</td>\n",
       "      <td>2022-09-21</td>\n",
       "      <td>2022-09-21</td>\n",
       "      <td>3000-01-01</td>\n",
       "    </tr>\n",
       "  </tbody>\n",
       "</table>\n",
       "</div>"
      ],
      "text/plain": [
       "   order_id  client_id  status_id  session_id           amount  discount_flg  \\\n",
       "0   2367742        100          1        2232  3500.0000000000             0   \n",
       "1   3327834        300          1        5232  6000.0000000000             0   \n",
       "2   4834594        400          1        6232  1500.0000000000             0   \n",
       "\n",
       "   order_dttm  start_dttm    end_dttm  \n",
       "0  2022-09-25  2022-09-25  3000-01-01  \n",
       "1  2022-09-24  2022-09-24  3000-01-01  \n",
       "2  2022-09-21  2022-09-21  3000-01-01  "
      ]
     },
     "execution_count": 7,
     "metadata": {},
     "output_type": "execute_result"
    }
   ],
   "source": [
    "cur.execute('''\n",
    "            insert into orders.orders_info\n",
    "            (order_id, client_id, status_id, session_id, amount, discount_flg, order_dttm, start_dttm, end_dttm)\n",
    "            values\n",
    "            (2367742, 100, 1, 2232, 3500, 0, '2022-09-25', '2022-09-25', '3000-01-01'),\n",
    "            (3327834, 300, 1, 5232, 6000, 0, '2022-09-24', '2022-09-24', '3000-01-01'),\n",
    "            (4834594, 400, 1, 6232, 1500, 0, '2022-09-21', '2022-09-21', '3000-01-01');\n",
    "            ''')\n",
    "\n",
    "cur.execute('''\n",
    "            select* from orders.orders_info \n",
    "            ''')\n",
    "\n",
    "results = cur.fetchall()\n",
    "pd.DataFrame(results, columns=['order_id', 'client_id', 'status_id', 'session_id', 'amount', 'discount_flg', \n",
    "                              'order_dttm', 'start_dttm', 'end_dttm'])\n"
   ]
  },
  {
   "cell_type": "code",
   "execution_count": 5,
   "id": "32a105f7",
   "metadata": {},
   "outputs": [],
   "source": [
    "conn.commit()\n",
    "cur.close()\n",
    "conn.close()"
   ]
  },
  {
   "cell_type": "markdown",
   "id": "adab220e",
   "metadata": {},
   "source": [
    "### Запрос с регулярным выражением для поиска клиентов с фамилиией Vlasov"
   ]
  },
  {
   "cell_type": "code",
   "execution_count": 20,
   "id": "0004601c",
   "metadata": {},
   "outputs": [
    {
     "name": "stderr",
     "output_type": "stream",
     "text": [
      "/Users/denis/opt/anaconda3/lib/python3.9/site-packages/pandas/io/sql.py:761: UserWarning: pandas only support SQLAlchemy connectable(engine/connection) ordatabase string URI or sqlite3 DBAPI2 connectionother DBAPI2 objects are not tested, please consider using SQLAlchemy\n",
      "  warnings.warn(\n"
     ]
    },
    {
     "data": {
      "text/html": [
       "<div>\n",
       "<style scoped>\n",
       "    .dataframe tbody tr th:only-of-type {\n",
       "        vertical-align: middle;\n",
       "    }\n",
       "\n",
       "    .dataframe tbody tr th {\n",
       "        vertical-align: top;\n",
       "    }\n",
       "\n",
       "    .dataframe thead th {\n",
       "        text-align: right;\n",
       "    }\n",
       "</style>\n",
       "<table border=\"1\" class=\"dataframe\">\n",
       "  <thead>\n",
       "    <tr style=\"text-align: right;\">\n",
       "      <th></th>\n",
       "      <th>client_id</th>\n",
       "      <th>client_name</th>\n",
       "      <th>src_id</th>\n",
       "      <th>status_id</th>\n",
       "      <th>city</th>\n",
       "      <th>address</th>\n",
       "      <th>registration_dttm</th>\n",
       "      <th>start_dttm</th>\n",
       "      <th>end_dttm</th>\n",
       "    </tr>\n",
       "  </thead>\n",
       "  <tbody>\n",
       "    <tr>\n",
       "      <th>0</th>\n",
       "      <td>300</td>\n",
       "      <td>Fedor Vlasov</td>\n",
       "      <td>1</td>\n",
       "      <td>1</td>\n",
       "      <td>Tver</td>\n",
       "      <td>Ul. Dorojnaia 8</td>\n",
       "      <td>2022-08-24</td>\n",
       "      <td>2022-08-24</td>\n",
       "      <td>3000-01-01</td>\n",
       "    </tr>\n",
       "    <tr>\n",
       "      <th>1</th>\n",
       "      <td>400</td>\n",
       "      <td>Anna Vlasova</td>\n",
       "      <td>3</td>\n",
       "      <td>1</td>\n",
       "      <td>Tver</td>\n",
       "      <td>Ul. Dorojnaia 8</td>\n",
       "      <td>2022-08-21</td>\n",
       "      <td>2022-08-21</td>\n",
       "      <td>3000-01-01</td>\n",
       "    </tr>\n",
       "  </tbody>\n",
       "</table>\n",
       "</div>"
      ],
      "text/plain": [
       "  client_id   client_name src_id status_id  city          address  \\\n",
       "0       300  Fedor Vlasov      1         1  Tver  Ul. Dorojnaia 8   \n",
       "1       400  Anna Vlasova      3         1  Tver  Ul. Dorojnaia 8   \n",
       "\n",
       "  registration_dttm  start_dttm    end_dttm  \n",
       "0        2022-08-24  2022-08-24  3000-01-01  \n",
       "1        2022-08-21  2022-08-21  3000-01-01  "
      ]
     },
     "execution_count": 20,
     "metadata": {},
     "output_type": "execute_result"
    }
   ],
   "source": [
    "query = '''\n",
    " \n",
    "        select * from clients.clients_info \n",
    "        where client_name ilike('%vlasov%')\n",
    "  \n",
    "        '''\n",
    "pd.read_sql_query(query, conn, dtype='object')"
   ]
  },
  {
   "cell_type": "markdown",
   "id": "f6902ecb",
   "metadata": {},
   "source": [
    "## INNER JOIN \n",
    "### Объединяет записи из двух таблиц, если в связующих полях этих таблиц содержатся одинаковые значения"
   ]
  },
  {
   "cell_type": "code",
   "execution_count": 29,
   "id": "b95fd254",
   "metadata": {},
   "outputs": [
    {
     "name": "stderr",
     "output_type": "stream",
     "text": [
      "/Users/denis/opt/anaconda3/lib/python3.9/site-packages/pandas/io/sql.py:761: UserWarning: pandas only support SQLAlchemy connectable(engine/connection) ordatabase string URI or sqlite3 DBAPI2 connectionother DBAPI2 objects are not tested, please consider using SQLAlchemy\n",
      "  warnings.warn(\n"
     ]
    },
    {
     "data": {
      "text/html": [
       "<div>\n",
       "<style scoped>\n",
       "    .dataframe tbody tr th:only-of-type {\n",
       "        vertical-align: middle;\n",
       "    }\n",
       "\n",
       "    .dataframe tbody tr th {\n",
       "        vertical-align: top;\n",
       "    }\n",
       "\n",
       "    .dataframe thead th {\n",
       "        text-align: right;\n",
       "    }\n",
       "</style>\n",
       "<table border=\"1\" class=\"dataframe\">\n",
       "  <thead>\n",
       "    <tr style=\"text-align: right;\">\n",
       "      <th></th>\n",
       "      <th>client_name</th>\n",
       "      <th>src_id</th>\n",
       "      <th>order_dttm</th>\n",
       "    </tr>\n",
       "  </thead>\n",
       "  <tbody>\n",
       "    <tr>\n",
       "      <th>0</th>\n",
       "      <td>Andrew Link</td>\n",
       "      <td>2</td>\n",
       "      <td>2022-09-25</td>\n",
       "    </tr>\n",
       "    <tr>\n",
       "      <th>1</th>\n",
       "      <td>Fedor Vlasov</td>\n",
       "      <td>1</td>\n",
       "      <td>2022-09-24</td>\n",
       "    </tr>\n",
       "    <tr>\n",
       "      <th>2</th>\n",
       "      <td>Anna Vlasova</td>\n",
       "      <td>3</td>\n",
       "      <td>2022-09-21</td>\n",
       "    </tr>\n",
       "  </tbody>\n",
       "</table>\n",
       "</div>"
      ],
      "text/plain": [
       "    client_name src_id  order_dttm\n",
       "0   Andrew Link      2  2022-09-25\n",
       "1  Fedor Vlasov      1  2022-09-24\n",
       "2  Anna Vlasova      3  2022-09-21"
      ]
     },
     "execution_count": 29,
     "metadata": {},
     "output_type": "execute_result"
    }
   ],
   "source": [
    "query = '''\n",
    " \n",
    "        select \n",
    "        c.client_name,\n",
    "        c.src_id,\n",
    "        o.order_dttm\n",
    "        from clients.clients_info c\n",
    "        join orders.orders_info o\n",
    "        on c.client_id = o.client_id\n",
    "  \n",
    "        '''\n",
    "pd.read_sql_query(query, conn, dtype='object')"
   ]
  },
  {
   "cell_type": "markdown",
   "id": "20747260",
   "metadata": {},
   "source": [
    "## LEFT JOIN\n",
    "### Cоздает левое внешнее соединение. С помощью левого внешнего соединения выбираются все записи первой (левой) таблицы, даже если они не соответствуют записям во второй (правой) таблице"
   ]
  },
  {
   "cell_type": "code",
   "execution_count": 28,
   "id": "8a09df45",
   "metadata": {},
   "outputs": [
    {
     "name": "stderr",
     "output_type": "stream",
     "text": [
      "/Users/denis/opt/anaconda3/lib/python3.9/site-packages/pandas/io/sql.py:761: UserWarning: pandas only support SQLAlchemy connectable(engine/connection) ordatabase string URI or sqlite3 DBAPI2 connectionother DBAPI2 objects are not tested, please consider using SQLAlchemy\n",
      "  warnings.warn(\n"
     ]
    },
    {
     "data": {
      "text/html": [
       "<div>\n",
       "<style scoped>\n",
       "    .dataframe tbody tr th:only-of-type {\n",
       "        vertical-align: middle;\n",
       "    }\n",
       "\n",
       "    .dataframe tbody tr th {\n",
       "        vertical-align: top;\n",
       "    }\n",
       "\n",
       "    .dataframe thead th {\n",
       "        text-align: right;\n",
       "    }\n",
       "</style>\n",
       "<table border=\"1\" class=\"dataframe\">\n",
       "  <thead>\n",
       "    <tr style=\"text-align: right;\">\n",
       "      <th></th>\n",
       "      <th>client_name</th>\n",
       "      <th>src_id</th>\n",
       "      <th>order_dttm</th>\n",
       "    </tr>\n",
       "  </thead>\n",
       "  <tbody>\n",
       "    <tr>\n",
       "      <th>0</th>\n",
       "      <td>Andrew Link</td>\n",
       "      <td>2</td>\n",
       "      <td>2022-09-25</td>\n",
       "    </tr>\n",
       "    <tr>\n",
       "      <th>1</th>\n",
       "      <td>Fedor Vlasov</td>\n",
       "      <td>1</td>\n",
       "      <td>2022-09-24</td>\n",
       "    </tr>\n",
       "    <tr>\n",
       "      <th>2</th>\n",
       "      <td>Anna Vlasova</td>\n",
       "      <td>3</td>\n",
       "      <td>2022-09-21</td>\n",
       "    </tr>\n",
       "    <tr>\n",
       "      <th>3</th>\n",
       "      <td>German Gaban</td>\n",
       "      <td>1</td>\n",
       "      <td>None</td>\n",
       "    </tr>\n",
       "  </tbody>\n",
       "</table>\n",
       "</div>"
      ],
      "text/plain": [
       "    client_name src_id  order_dttm\n",
       "0   Andrew Link      2  2022-09-25\n",
       "1  Fedor Vlasov      1  2022-09-24\n",
       "2  Anna Vlasova      3  2022-09-21\n",
       "3  German Gaban      1        None"
      ]
     },
     "execution_count": 28,
     "metadata": {},
     "output_type": "execute_result"
    }
   ],
   "source": [
    "query = '''\n",
    " \n",
    "        select \n",
    "        c.client_name,\n",
    "        c.src_id,\n",
    "        o.order_dttm\n",
    "        from clients.clients_info c\n",
    "        left join orders.orders_info o\n",
    "        on c.client_id = o.client_id\n",
    "  \n",
    "        '''\n",
    "pd.read_sql_query(query, conn, dtype='object')"
   ]
  },
  {
   "cell_type": "markdown",
   "id": "b75e6d06",
   "metadata": {},
   "source": [
    "### Запрос с обновлением данных используя UPDATE WHERE"
   ]
  },
  {
   "cell_type": "code",
   "execution_count": 36,
   "id": "4bfd901f",
   "metadata": {
    "scrolled": true
   },
   "outputs": [
    {
     "data": {
      "text/html": [
       "<div>\n",
       "<style scoped>\n",
       "    .dataframe tbody tr th:only-of-type {\n",
       "        vertical-align: middle;\n",
       "    }\n",
       "\n",
       "    .dataframe tbody tr th {\n",
       "        vertical-align: top;\n",
       "    }\n",
       "\n",
       "    .dataframe thead th {\n",
       "        text-align: right;\n",
       "    }\n",
       "</style>\n",
       "<table border=\"1\" class=\"dataframe\">\n",
       "  <thead>\n",
       "    <tr style=\"text-align: right;\">\n",
       "      <th></th>\n",
       "      <th>client_name</th>\n",
       "      <th>status_id</th>\n",
       "    </tr>\n",
       "  </thead>\n",
       "  <tbody>\n",
       "    <tr>\n",
       "      <th>0</th>\n",
       "      <td>Anna Vlasova</td>\n",
       "      <td>2</td>\n",
       "    </tr>\n",
       "    <tr>\n",
       "      <th>1</th>\n",
       "      <td>Fedor Vlasov</td>\n",
       "      <td>2</td>\n",
       "    </tr>\n",
       "    <tr>\n",
       "      <th>2</th>\n",
       "      <td>Andrew Link</td>\n",
       "      <td>2</td>\n",
       "    </tr>\n",
       "  </tbody>\n",
       "</table>\n",
       "</div>"
      ],
      "text/plain": [
       "    client_name  status_id\n",
       "0  Anna Vlasova          2\n",
       "1  Fedor Vlasov          2\n",
       "2   Andrew Link          2"
      ]
     },
     "execution_count": 36,
     "metadata": {},
     "output_type": "execute_result"
    }
   ],
   "source": [
    "cur = conn.cursor()\n",
    "cur.execute('''\n",
    "            update clients.clients_info c\n",
    "            set status_id = 2\n",
    "            where client_id in\n",
    "            (select distinct client_id\n",
    "            from orders.orders_info)\n",
    "            returning c.client_name, c.status_id\n",
    "            ''')\n",
    "\n",
    "results = cur.fetchall()\n",
    "pd.DataFrame(results, columns=['client_name', 'status_id'])"
   ]
  },
  {
   "cell_type": "markdown",
   "id": "3345cb8f",
   "metadata": {},
   "source": [
    "### Запрос с добавление нового атрибута для подсчета кол-ва сессий и с обновлением данных используя UPDATE FROM"
   ]
  },
  {
   "cell_type": "code",
   "execution_count": 18,
   "id": "408c125a",
   "metadata": {},
   "outputs": [
    {
     "data": {
      "text/html": [
       "<div>\n",
       "<style scoped>\n",
       "    .dataframe tbody tr th:only-of-type {\n",
       "        vertical-align: middle;\n",
       "    }\n",
       "\n",
       "    .dataframe tbody tr th {\n",
       "        vertical-align: top;\n",
       "    }\n",
       "\n",
       "    .dataframe thead th {\n",
       "        text-align: right;\n",
       "    }\n",
       "</style>\n",
       "<table border=\"1\" class=\"dataframe\">\n",
       "  <thead>\n",
       "    <tr style=\"text-align: right;\">\n",
       "      <th></th>\n",
       "      <th>client_id</th>\n",
       "      <th>sessions_count</th>\n",
       "    </tr>\n",
       "  </thead>\n",
       "  <tbody>\n",
       "    <tr>\n",
       "      <th>0</th>\n",
       "      <td>200</td>\n",
       "      <td>1</td>\n",
       "    </tr>\n",
       "    <tr>\n",
       "      <th>1</th>\n",
       "      <td>400</td>\n",
       "      <td>1</td>\n",
       "    </tr>\n",
       "    <tr>\n",
       "      <th>2</th>\n",
       "      <td>300</td>\n",
       "      <td>2</td>\n",
       "    </tr>\n",
       "    <tr>\n",
       "      <th>3</th>\n",
       "      <td>100</td>\n",
       "      <td>1</td>\n",
       "    </tr>\n",
       "  </tbody>\n",
       "</table>\n",
       "</div>"
      ],
      "text/plain": [
       "   client_id  sessions_count\n",
       "0        200               1\n",
       "1        400               1\n",
       "2        300               2\n",
       "3        100               1"
      ]
     },
     "execution_count": 18,
     "metadata": {},
     "output_type": "execute_result"
    }
   ],
   "source": [
    "cur = conn.cursor()\n",
    "cur.execute('''\n",
    "            alter table clients.clients_info \n",
    "            add column sessions_count int;\n",
    "            ''')\n",
    "\n",
    "cur.execute('''\n",
    "           UPDATE clients.clients_info as c\n",
    "           set sessions_count = s.sessions_count\n",
    "           from \n",
    "           (select client_id, count(session_id) as sessions_count \n",
    "           from clients.sessions_info \n",
    "           group by client_id) as s\n",
    "           where c.client_id = s.client_id\n",
    "           returning c.client_id, c.sessions_count\n",
    "            ''')\n",
    "\n",
    "results = cur.fetchall()\n",
    "pd.DataFrame(results, columns=['client_id', 'sessions_count'])"
   ]
  },
  {
   "cell_type": "markdown",
   "id": "209923e0",
   "metadata": {},
   "source": [
    "### Запрос на добавление данных с выводом информации о добавленных строках"
   ]
  },
  {
   "cell_type": "code",
   "execution_count": 26,
   "id": "36a89349",
   "metadata": {
    "scrolled": true
   },
   "outputs": [
    {
     "data": {
      "text/html": [
       "<div>\n",
       "<style scoped>\n",
       "    .dataframe tbody tr th:only-of-type {\n",
       "        vertical-align: middle;\n",
       "    }\n",
       "\n",
       "    .dataframe tbody tr th {\n",
       "        vertical-align: top;\n",
       "    }\n",
       "\n",
       "    .dataframe thead th {\n",
       "        text-align: right;\n",
       "    }\n",
       "</style>\n",
       "<table border=\"1\" class=\"dataframe\">\n",
       "  <thead>\n",
       "    <tr style=\"text-align: right;\">\n",
       "      <th></th>\n",
       "      <th>client_id</th>\n",
       "      <th>client_name</th>\n",
       "    </tr>\n",
       "  </thead>\n",
       "  <tbody>\n",
       "    <tr>\n",
       "      <th>0</th>\n",
       "      <td>500</td>\n",
       "      <td>Alex Link</td>\n",
       "    </tr>\n",
       "  </tbody>\n",
       "</table>\n",
       "</div>"
      ],
      "text/plain": [
       "   client_id client_name\n",
       "0        500   Alex Link"
      ]
     },
     "execution_count": 26,
     "metadata": {},
     "output_type": "execute_result"
    }
   ],
   "source": [
    "cur = conn.cursor()\n",
    "cur.execute('''\n",
    "            insert into clients.clients_info \n",
    "            (client_id, client_name, src_id, status_id, city, address, registration_dttm, start_dttm, end_dttm)\n",
    "            values\n",
    "            (500, 'Alex Link', 2, 1, 'Moscow', 'Ul. Zatonnaia 6k1', '2022-08-25', '2022-08-25', '3000-01-01')\n",
    "            returning client_id, client_name\n",
    "            ''')\n",
    "results = cur.fetchall()\n",
    "pd.DataFrame(results, columns=['client_id', 'client_name'])"
   ]
  },
  {
   "cell_type": "markdown",
   "id": "78865681",
   "metadata": {},
   "source": [
    "### Запрос для удаления данных с оператором DELETE используя join с другой таблицей с помощью using"
   ]
  },
  {
   "cell_type": "code",
   "execution_count": 41,
   "id": "5c18f6ee",
   "metadata": {},
   "outputs": [
    {
     "data": {
      "text/html": [
       "<div>\n",
       "<style scoped>\n",
       "    .dataframe tbody tr th:only-of-type {\n",
       "        vertical-align: middle;\n",
       "    }\n",
       "\n",
       "    .dataframe tbody tr th {\n",
       "        vertical-align: top;\n",
       "    }\n",
       "\n",
       "    .dataframe thead th {\n",
       "        text-align: right;\n",
       "    }\n",
       "</style>\n",
       "<table border=\"1\" class=\"dataframe\">\n",
       "  <thead>\n",
       "    <tr style=\"text-align: right;\">\n",
       "      <th></th>\n",
       "      <th>client_id</th>\n",
       "    </tr>\n",
       "  </thead>\n",
       "  <tbody>\n",
       "    <tr>\n",
       "      <th>0</th>\n",
       "      <td>200</td>\n",
       "    </tr>\n",
       "    <tr>\n",
       "      <th>1</th>\n",
       "      <td>300</td>\n",
       "    </tr>\n",
       "    <tr>\n",
       "      <th>2</th>\n",
       "      <td>300</td>\n",
       "    </tr>\n",
       "  </tbody>\n",
       "</table>\n",
       "</div>"
      ],
      "text/plain": [
       "   client_id\n",
       "0        200\n",
       "1        300\n",
       "2        300"
      ]
     },
     "execution_count": 41,
     "metadata": {},
     "output_type": "execute_result"
    }
   ],
   "source": [
    "cur = conn.cursor()\n",
    "cur.execute('''\n",
    "            delete from clients.sessions_info s\n",
    "            using clients.clients_info c\n",
    "            where s.client_id = c.client_id\n",
    "            and c.src_id = 1\n",
    "            returning c.client_id\n",
    "            ''')\n",
    "results = cur.fetchall()\n",
    "pd.DataFrame(results, columns=['client_id'])"
   ]
  },
  {
   "cell_type": "code",
   "execution_count": 45,
   "id": "69e5f1ce",
   "metadata": {},
   "outputs": [],
   "source": [
    "conn.rollback()\n",
    "conn.close()"
   ]
  }
 ],
 "metadata": {
  "kernelspec": {
   "display_name": "Python 3 (ipykernel)",
   "language": "python",
   "name": "python3"
  },
  "language_info": {
   "codemirror_mode": {
    "name": "ipython",
    "version": 3
   },
   "file_extension": ".py",
   "mimetype": "text/x-python",
   "name": "python",
   "nbconvert_exporter": "python",
   "pygments_lexer": "ipython3",
   "version": "3.9.12"
  }
 },
 "nbformat": 4,
 "nbformat_minor": 5
}
