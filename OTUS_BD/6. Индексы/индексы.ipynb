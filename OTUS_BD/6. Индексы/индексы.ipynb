{
 "cells": [
  {
   "cell_type": "code",
   "execution_count": 152,
   "id": "cb96d24e",
   "metadata": {},
   "outputs": [],
   "source": [
    "import psycopg2\n",
    "import pandas as pd\n",
    "import sqlalchemy"
   ]
  },
  {
   "cell_type": "code",
   "execution_count": 153,
   "id": "4d5e151d",
   "metadata": {},
   "outputs": [],
   "source": [
    "conn = psycopg2.connect(host=\"127.0.0.1\", port=\"5433\", database=\"online_store\", \n",
    "                            user=\"admin\", password=\"root\")"
   ]
  },
  {
   "cell_type": "code",
   "execution_count": 142,
   "id": "8c39e35e",
   "metadata": {},
   "outputs": [
    {
     "data": {
      "text/html": [
       "<div>\n",
       "<style scoped>\n",
       "    .dataframe tbody tr th:only-of-type {\n",
       "        vertical-align: middle;\n",
       "    }\n",
       "\n",
       "    .dataframe tbody tr th {\n",
       "        vertical-align: top;\n",
       "    }\n",
       "\n",
       "    .dataframe thead th {\n",
       "        text-align: right;\n",
       "    }\n",
       "</style>\n",
       "<table border=\"1\" class=\"dataframe\">\n",
       "  <thead>\n",
       "    <tr style=\"text-align: right;\">\n",
       "      <th></th>\n",
       "      <th>session_id</th>\n",
       "      <th>client_id</th>\n",
       "      <th>src_id</th>\n",
       "      <th>Purchase_flg</th>\n",
       "      <th>visit_dttm</th>\n",
       "      <th>duration</th>\n",
       "      <th>page_count</th>\n",
       "      <th>last_page_id</th>\n",
       "    </tr>\n",
       "  </thead>\n",
       "  <tbody>\n",
       "    <tr>\n",
       "      <th>0</th>\n",
       "      <td>2232</td>\n",
       "      <td>100</td>\n",
       "      <td>2</td>\n",
       "      <td>1</td>\n",
       "      <td>2022-09-25</td>\n",
       "      <td>15.0000000000</td>\n",
       "      <td>4</td>\n",
       "      <td>5</td>\n",
       "    </tr>\n",
       "    <tr>\n",
       "      <th>1</th>\n",
       "      <td>4232</td>\n",
       "      <td>200</td>\n",
       "      <td>1</td>\n",
       "      <td>0</td>\n",
       "      <td>2022-09-26</td>\n",
       "      <td>2.2000000000</td>\n",
       "      <td>12</td>\n",
       "      <td>1</td>\n",
       "    </tr>\n",
       "    <tr>\n",
       "      <th>2</th>\n",
       "      <td>5232</td>\n",
       "      <td>300</td>\n",
       "      <td>3</td>\n",
       "      <td>1</td>\n",
       "      <td>2022-09-24</td>\n",
       "      <td>10.0000000000</td>\n",
       "      <td>2</td>\n",
       "      <td>4</td>\n",
       "    </tr>\n",
       "    <tr>\n",
       "      <th>3</th>\n",
       "      <td>7232</td>\n",
       "      <td>300</td>\n",
       "      <td>3</td>\n",
       "      <td>0</td>\n",
       "      <td>2022-09-20</td>\n",
       "      <td>10.0000000000</td>\n",
       "      <td>2</td>\n",
       "      <td>4</td>\n",
       "    </tr>\n",
       "    <tr>\n",
       "      <th>4</th>\n",
       "      <td>6232</td>\n",
       "      <td>400</td>\n",
       "      <td>3</td>\n",
       "      <td>1</td>\n",
       "      <td>2022-09-21</td>\n",
       "      <td>10.0000000000</td>\n",
       "      <td>2</td>\n",
       "      <td>4</td>\n",
       "    </tr>\n",
       "  </tbody>\n",
       "</table>\n",
       "</div>"
      ],
      "text/plain": [
       "   session_id  client_id  src_id  Purchase_flg  visit_dttm       duration  \\\n",
       "0        2232        100       2             1  2022-09-25  15.0000000000   \n",
       "1        4232        200       1             0  2022-09-26   2.2000000000   \n",
       "2        5232        300       3             1  2022-09-24  10.0000000000   \n",
       "3        7232        300       3             0  2022-09-20  10.0000000000   \n",
       "4        6232        400       3             1  2022-09-21  10.0000000000   \n",
       "\n",
       "   page_count  last_page_id  \n",
       "0           4             5  \n",
       "1          12             1  \n",
       "2           2             4  \n",
       "3           2             4  \n",
       "4           2             4  "
      ]
     },
     "execution_count": 142,
     "metadata": {},
     "output_type": "execute_result"
    }
   ],
   "source": [
    "cur = conn.cursor()\n",
    "\n",
    "cur.execute('''\n",
    "           select* from clients.sessions_info \n",
    "            ''')\n",
    "\n",
    "results = cur.fetchall()\n",
    "pd.DataFrame(results, columns=['session_id', 'client_id', 'src_id', 'Purchase_flg', 'visit_dttm', 'duration', \n",
    "                              'page_count', 'last_page_id'])"
   ]
  },
  {
   "cell_type": "markdown",
   "id": "f5d7ffbc",
   "metadata": {},
   "source": [
    "## Обновление статистики"
   ]
  },
  {
   "cell_type": "code",
   "execution_count": 143,
   "id": "166b105d",
   "metadata": {},
   "outputs": [],
   "source": [
    "cur.execute('''\n",
    "            analyze clients.sessions_info \n",
    "            ''')"
   ]
  },
  {
   "cell_type": "markdown",
   "id": "e51b12b3",
   "metadata": {},
   "source": [
    "### Смотрим время выполнения запроса без индексов\n",
    "#### Посчитать кол-во сессий  источника 3"
   ]
  },
  {
   "cell_type": "code",
   "execution_count": 146,
   "id": "2dca7569",
   "metadata": {
    "scrolled": true
   },
   "outputs": [
    {
     "data": {
      "text/plain": [
       "[('GroupAggregate  (cost=0.00..1.10 rows=2 width=12) (actual time=0.301..0.301 rows=1 loops=1)',),\n",
       " ('  Group Key: src_id',),\n",
       " ('  ->  Seq Scan on sessions_info  (cost=0.00..1.06 rows=3 width=4) (actual time=0.238..0.239 rows=3 loops=1)',),\n",
       " ('        Filter: (src_id = 3)',),\n",
       " ('        Rows Removed by Filter: 2',),\n",
       " ('Planning Time: 1.666 ms',),\n",
       " ('Execution Time: 0.760 ms',)]"
      ]
     },
     "execution_count": 146,
     "metadata": {},
     "output_type": "execute_result"
    }
   ],
   "source": [
    "cur.execute('''\n",
    "            explain analyze\n",
    "            select \n",
    "            count(*) as sessions_count, \n",
    "            src_id\n",
    "            from clients.sessions_info \n",
    "            where src_id = 3\n",
    "            group by src_id\n",
    "            ''')\n",
    "cur.fetchall()"
   ]
  },
  {
   "cell_type": "markdown",
   "id": "7c6fa530",
   "metadata": {},
   "source": [
    "### Посмотреть стоимость последовательного сканирования "
   ]
  },
  {
   "cell_type": "code",
   "execution_count": 118,
   "id": "70076e6b",
   "metadata": {
    "scrolled": true
   },
   "outputs": [
    {
     "data": {
      "text/plain": [
       "[('1',)]"
      ]
     },
     "execution_count": 118,
     "metadata": {},
     "output_type": "execute_result"
    }
   ],
   "source": [
    "cur.execute('''\n",
    "            show seq_page_cost;\n",
    "            ''')\n",
    "cur.fetchall()"
   ]
  },
  {
   "cell_type": "markdown",
   "id": "8a01c26b",
   "metadata": {},
   "source": [
    "### Посмотреть стоимость произвольного чтения "
   ]
  },
  {
   "cell_type": "code",
   "execution_count": 119,
   "id": "e9e006e8",
   "metadata": {},
   "outputs": [
    {
     "data": {
      "text/plain": [
       "[('4',)]"
      ]
     },
     "execution_count": 119,
     "metadata": {},
     "output_type": "execute_result"
    }
   ],
   "source": [
    "cur.execute('''\n",
    "            show random_page_cost;\n",
    "            ''')\n",
    "cur.fetchall()"
   ]
  },
  {
   "cell_type": "markdown",
   "id": "5053a5f0",
   "metadata": {},
   "source": [
    "### Изменить стоимость произвольного чтения "
   ]
  },
  {
   "cell_type": "code",
   "execution_count": 172,
   "id": "bc2ead12",
   "metadata": {},
   "outputs": [
    {
     "data": {
      "text/plain": [
       "[('0.1',)]"
      ]
     },
     "execution_count": 172,
     "metadata": {},
     "output_type": "execute_result"
    }
   ],
   "source": [
    "cur.execute('''\n",
    "            set random_page_cost = 0.1;\n",
    "            ''')\n",
    "cur.execute('''\n",
    "            show random_page_cost;\n",
    "            ''')\n",
    "cur.fetchall()"
   ]
  },
  {
   "cell_type": "markdown",
   "id": "2b6318d2",
   "metadata": {},
   "source": [
    "### Создаем индексы для таблицы sessions_info на поле src_id и смотрим время выполнения запроса"
   ]
  },
  {
   "cell_type": "code",
   "execution_count": 147,
   "id": "747a60b5",
   "metadata": {},
   "outputs": [
    {
     "data": {
      "text/plain": [
       "[('GroupAggregate  (cost=0.13..0.52 rows=2 width=12) (actual time=0.170..0.171 rows=1 loops=1)',),\n",
       " ('  Group Key: src_id',),\n",
       " ('  ->  Index Only Scan using idx_src_id on sessions_info  (cost=0.13..0.49 rows=3 width=4) (actual time=0.164..0.165 rows=3 loops=1)',),\n",
       " ('        Index Cond: (src_id = 3)',),\n",
       " ('        Heap Fetches: 3',),\n",
       " ('Planning Time: 0.875 ms',),\n",
       " ('Execution Time: 0.233 ms',)]"
      ]
     },
     "execution_count": 147,
     "metadata": {},
     "output_type": "execute_result"
    }
   ],
   "source": [
    "cur.execute('''\n",
    "            CREATE INDEX idx_src_id\n",
    "            ON clients.sessions_info (src_id);\n",
    "            ''')\n",
    "cur.execute('''\n",
    "            explain analyze\n",
    "            select \n",
    "            count(*) as sessions_count, \n",
    "            src_id\n",
    "            from clients.sessions_info \n",
    "            where src_id = 3\n",
    "            group by src_id\n",
    "            ''')\n",
    "cur.fetchall()"
   ]
  },
  {
   "cell_type": "markdown",
   "id": "4e9bbadc",
   "metadata": {},
   "source": [
    "####  После добавления индекса скорость значительно увеличилась "
   ]
  },
  {
   "cell_type": "code",
   "execution_count": 63,
   "id": "00439a70",
   "metadata": {},
   "outputs": [
    {
     "data": {
      "text/html": [
       "<div>\n",
       "<style scoped>\n",
       "    .dataframe tbody tr th:only-of-type {\n",
       "        vertical-align: middle;\n",
       "    }\n",
       "\n",
       "    .dataframe tbody tr th {\n",
       "        vertical-align: top;\n",
       "    }\n",
       "\n",
       "    .dataframe thead th {\n",
       "        text-align: right;\n",
       "    }\n",
       "</style>\n",
       "<table border=\"1\" class=\"dataframe\">\n",
       "  <thead>\n",
       "    <tr style=\"text-align: right;\">\n",
       "      <th></th>\n",
       "      <th>client_id</th>\n",
       "      <th>client_name</th>\n",
       "      <th>src_id</th>\n",
       "      <th>status_id</th>\n",
       "      <th>city</th>\n",
       "      <th>address</th>\n",
       "      <th>registration_dttm</th>\n",
       "      <th>start_dttm</th>\n",
       "      <th>end_dttm</th>\n",
       "    </tr>\n",
       "  </thead>\n",
       "  <tbody>\n",
       "    <tr>\n",
       "      <th>0</th>\n",
       "      <td>100</td>\n",
       "      <td>Andrew Link</td>\n",
       "      <td>2</td>\n",
       "      <td>1</td>\n",
       "      <td>Moscow</td>\n",
       "      <td>Ul. Zatonnaia 6k1</td>\n",
       "      <td>2022-08-25</td>\n",
       "      <td>2022-08-25</td>\n",
       "      <td>3000-01-01</td>\n",
       "    </tr>\n",
       "    <tr>\n",
       "      <th>1</th>\n",
       "      <td>200</td>\n",
       "      <td>German Gaban</td>\n",
       "      <td>1</td>\n",
       "      <td>1</td>\n",
       "      <td>Saint-Petersburg</td>\n",
       "      <td>Ul. Hermulich 15</td>\n",
       "      <td>2022-08-24</td>\n",
       "      <td>2022-08-24</td>\n",
       "      <td>3000-01-01</td>\n",
       "    </tr>\n",
       "    <tr>\n",
       "      <th>2</th>\n",
       "      <td>300</td>\n",
       "      <td>Fedor Vlasov</td>\n",
       "      <td>1</td>\n",
       "      <td>1</td>\n",
       "      <td>Tver</td>\n",
       "      <td>Ul. Dorojnaia 8</td>\n",
       "      <td>2022-08-24</td>\n",
       "      <td>2022-08-24</td>\n",
       "      <td>3000-01-01</td>\n",
       "    </tr>\n",
       "    <tr>\n",
       "      <th>3</th>\n",
       "      <td>400</td>\n",
       "      <td>Anna Vlasova</td>\n",
       "      <td>3</td>\n",
       "      <td>1</td>\n",
       "      <td>Tver</td>\n",
       "      <td>Ul. Dorojnaia 8</td>\n",
       "      <td>2022-08-21</td>\n",
       "      <td>2022-08-21</td>\n",
       "      <td>3000-01-01</td>\n",
       "    </tr>\n",
       "  </tbody>\n",
       "</table>\n",
       "</div>"
      ],
      "text/plain": [
       "   client_id   client_name  src_id  status_id              city  \\\n",
       "0        100   Andrew Link       2          1            Moscow   \n",
       "1        200  German Gaban       1          1  Saint-Petersburg   \n",
       "2        300  Fedor Vlasov       1          1              Tver   \n",
       "3        400  Anna Vlasova       3          1              Tver   \n",
       "\n",
       "             address registration_dttm  start_dttm    end_dttm  \n",
       "0  Ul. Zatonnaia 6k1        2022-08-25  2022-08-25  3000-01-01  \n",
       "1   Ul. Hermulich 15        2022-08-24  2022-08-24  3000-01-01  \n",
       "2    Ul. Dorojnaia 8        2022-08-24  2022-08-24  3000-01-01  \n",
       "3    Ul. Dorojnaia 8        2022-08-21  2022-08-21  3000-01-01  "
      ]
     },
     "execution_count": 63,
     "metadata": {},
     "output_type": "execute_result"
    }
   ],
   "source": [
    "cur.execute('''\n",
    "           select* from clients.clients_info \n",
    "            ''')\n",
    "\n",
    "results = cur.fetchall()\n",
    "pd.DataFrame(results, columns=['client_id', 'client_name', 'src_id', 'status_id', 'city', 'address', \n",
    "                              'registration_dttm', 'start_dttm', 'end_dttm'])"
   ]
  },
  {
   "cell_type": "markdown",
   "id": "c35f0c24",
   "metadata": {},
   "source": [
    "### Смотрим время выполнения запроса без индексов\n",
    "#### Посмотреть клиентов, проживающих на улице Дорожной"
   ]
  },
  {
   "cell_type": "code",
   "execution_count": 148,
   "id": "8d5be678",
   "metadata": {},
   "outputs": [
    {
     "data": {
      "text/plain": [
       "[('Seq Scan on clients_info  (cost=0.00..10.90 rows=1 width=118) (actual time=0.618..0.618 rows=0 loops=1)',),\n",
       " (\"  Filter: (((address)::text ~~* '%Dorojnaia%'::text) AND ((city)::text = 'Moscow'::text))\",),\n",
       " ('  Rows Removed by Filter: 4',),\n",
       " ('Planning Time: 4.649 ms',),\n",
       " ('Execution Time: 2.266 ms',)]"
      ]
     },
     "execution_count": 148,
     "metadata": {},
     "output_type": "execute_result"
    }
   ],
   "source": [
    "cur.execute('''\n",
    "            explain analyze\n",
    "            select \n",
    "            client_name\n",
    "            from clients.clients_info \n",
    "            where address ilike ('%Dorojnaia%')\n",
    "            and city = 'Moscow'\n",
    "            ''')\n",
    "cur.fetchall()"
   ]
  },
  {
   "cell_type": "markdown",
   "id": "230b9edd",
   "metadata": {},
   "source": [
    "### Создаем индекс для полнотекстового поиска"
   ]
  },
  {
   "cell_type": "code",
   "execution_count": 158,
   "id": "ef447260",
   "metadata": {
    "scrolled": true
   },
   "outputs": [
    {
     "data": {
      "text/plain": [
       "[('Seq Scan on clients_info  (cost=0.00..1.06 rows=1 width=12) (actual time=0.011..0.012 rows=0 loops=1)',),\n",
       " (\"  Filter: (((address)::text ~~* '%Dorojnaia%'::text) AND ((city)::text = 'Moscow'::text))\",),\n",
       " ('  Rows Removed by Filter: 4',),\n",
       " ('Planning Time: 0.354 ms',),\n",
       " ('Execution Time: 0.048 ms',)]"
      ]
     },
     "execution_count": 158,
     "metadata": {},
     "output_type": "execute_result"
    }
   ],
   "source": [
    "cur.execute('''\n",
    "            alter table clients.clients_info\n",
    "            add column tsvector_address tsvector;\n",
    "            ''')\n",
    "\n",
    "cur.execute('''\n",
    "            update clients.clients_info\n",
    "            set tsvector_address = to_tsvector(address)\n",
    "            ''')\n",
    "\n",
    "\n",
    "cur.execute('''\n",
    "            CREATE INDEX idx_gin_document \n",
    "            ON clients.clients_info\n",
    "            USING gin (\"tsvector_address\")\n",
    "            ''')\n",
    "\n",
    "cur.execute('''\n",
    "            analyze clients.clients_info \n",
    "            ''')\n",
    "\n",
    "cur.execute('''\n",
    "            explain analyze\n",
    "            select \n",
    "            client_name\n",
    "            from clients.clients_info \n",
    "            where address ilike ('%Dorojnaia%')\n",
    "            and city = 'Moscow'\n",
    "            ''')\n",
    "cur.fetchall()"
   ]
  },
  {
   "cell_type": "markdown",
   "id": "ca18525f",
   "metadata": {},
   "source": [
    "####  После добавления индекса скорость значительно увеличилась "
   ]
  },
  {
   "cell_type": "code",
   "execution_count": 92,
   "id": "9dcffed1",
   "metadata": {},
   "outputs": [
    {
     "data": {
      "text/html": [
       "<div>\n",
       "<style scoped>\n",
       "    .dataframe tbody tr th:only-of-type {\n",
       "        vertical-align: middle;\n",
       "    }\n",
       "\n",
       "    .dataframe tbody tr th {\n",
       "        vertical-align: top;\n",
       "    }\n",
       "\n",
       "    .dataframe thead th {\n",
       "        text-align: right;\n",
       "    }\n",
       "</style>\n",
       "<table border=\"1\" class=\"dataframe\">\n",
       "  <thead>\n",
       "    <tr style=\"text-align: right;\">\n",
       "      <th></th>\n",
       "      <th>order_id</th>\n",
       "      <th>client_id</th>\n",
       "      <th>status_id</th>\n",
       "      <th>session_id</th>\n",
       "      <th>amount</th>\n",
       "      <th>discount_flg</th>\n",
       "      <th>order_dttm</th>\n",
       "      <th>start_dttm</th>\n",
       "      <th>end_dttm</th>\n",
       "    </tr>\n",
       "  </thead>\n",
       "  <tbody>\n",
       "    <tr>\n",
       "      <th>0</th>\n",
       "      <td>2367742</td>\n",
       "      <td>100</td>\n",
       "      <td>1</td>\n",
       "      <td>2232</td>\n",
       "      <td>3500.0000000000</td>\n",
       "      <td>0</td>\n",
       "      <td>2022-09-25</td>\n",
       "      <td>2022-09-25</td>\n",
       "      <td>3000-01-01</td>\n",
       "    </tr>\n",
       "    <tr>\n",
       "      <th>1</th>\n",
       "      <td>3327834</td>\n",
       "      <td>300</td>\n",
       "      <td>1</td>\n",
       "      <td>5232</td>\n",
       "      <td>6000.0000000000</td>\n",
       "      <td>0</td>\n",
       "      <td>2022-09-24</td>\n",
       "      <td>2022-09-24</td>\n",
       "      <td>3000-01-01</td>\n",
       "    </tr>\n",
       "    <tr>\n",
       "      <th>2</th>\n",
       "      <td>4834594</td>\n",
       "      <td>400</td>\n",
       "      <td>1</td>\n",
       "      <td>6232</td>\n",
       "      <td>1500.0000000000</td>\n",
       "      <td>0</td>\n",
       "      <td>2022-09-21</td>\n",
       "      <td>2022-09-21</td>\n",
       "      <td>3000-01-01</td>\n",
       "    </tr>\n",
       "  </tbody>\n",
       "</table>\n",
       "</div>"
      ],
      "text/plain": [
       "   order_id  client_id  status_id  session_id           amount  discount_flg  \\\n",
       "0   2367742        100          1        2232  3500.0000000000             0   \n",
       "1   3327834        300          1        5232  6000.0000000000             0   \n",
       "2   4834594        400          1        6232  1500.0000000000             0   \n",
       "\n",
       "   order_dttm  start_dttm    end_dttm  \n",
       "0  2022-09-25  2022-09-25  3000-01-01  \n",
       "1  2022-09-24  2022-09-24  3000-01-01  \n",
       "2  2022-09-21  2022-09-21  3000-01-01  "
      ]
     },
     "execution_count": 92,
     "metadata": {},
     "output_type": "execute_result"
    }
   ],
   "source": [
    "cur.execute('''\n",
    "            select* from orders.orders_info \n",
    "            ''')\n",
    "\n",
    "results = cur.fetchall()\n",
    "pd.DataFrame(results, columns=['order_id', 'client_id', 'status_id', 'session_id', 'amount', 'discount_flg', \n",
    "                              'order_dttm', 'start_dttm', 'end_dttm'])"
   ]
  },
  {
   "cell_type": "markdown",
   "id": "8cc01782",
   "metadata": {},
   "source": [
    "### Смотрим время выполнения запроса без индексов\n",
    "#### Посмотреть клиентов, c суммой заказов > 3000"
   ]
  },
  {
   "cell_type": "code",
   "execution_count": 167,
   "id": "7b382a4a",
   "metadata": {},
   "outputs": [
    {
     "data": {
      "text/plain": [
       "[('Seq Scan on orders_info  (cost=0.00..1.04 rows=1 width=50) (actual time=0.157..0.159 rows=2 loops=1)',),\n",
       " (\"  Filter: (amount > '3000'::numeric)\",),\n",
       " ('  Rows Removed by Filter: 1',),\n",
       " ('Planning Time: 0.621 ms',),\n",
       " ('Execution Time: 0.250 ms',)]"
      ]
     },
     "execution_count": 167,
     "metadata": {},
     "output_type": "execute_result"
    }
   ],
   "source": [
    "cur.execute('''\n",
    "            explain analyze\n",
    "            select \n",
    "            client_id,\n",
    "            amount\n",
    "            from orders.orders_info \n",
    "            where amount > 3000\n",
    "            ''')\n",
    "cur.fetchall()"
   ]
  },
  {
   "cell_type": "markdown",
   "id": "ac80c701",
   "metadata": {},
   "source": [
    "### Создаем индекс на часть таблицы "
   ]
  },
  {
   "cell_type": "code",
   "execution_count": 168,
   "id": "133917e3",
   "metadata": {
    "scrolled": false
   },
   "outputs": [
    {
     "data": {
      "text/plain": [
       "[('Index Scan using idx_amount_3000 on orders_info  (cost=0.13..0.46 rows=2 width=9) (actual time=0.123..0.125 rows=2 loops=1)',),\n",
       " ('Planning Time: 0.330 ms',),\n",
       " ('Execution Time: 0.162 ms',)]"
      ]
     },
     "execution_count": 168,
     "metadata": {},
     "output_type": "execute_result"
    }
   ],
   "source": [
    "cur.execute('''\n",
    "            CREATE INDEX idx_amount_3000\n",
    "            ON orders.orders_info(amount) \n",
    "            where amount > 3000\n",
    "            ''')\n",
    "\n",
    "cur.execute('''\n",
    "            analyze orders.orders_info \n",
    "            ''')\n",
    "\n",
    "cur.execute('''\n",
    "            explain analyze\n",
    "            select \n",
    "            client_id,\n",
    "            amount\n",
    "            from orders.orders_info \n",
    "            where amount > 3000\n",
    "            ''')\n",
    "cur.fetchall()"
   ]
  },
  {
   "cell_type": "markdown",
   "id": "bcda6b9b",
   "metadata": {},
   "source": [
    "### Смотрим время выполнения запроса без индексов\n",
    "#### Посчитать кол-во сессий клиентов из источника 3 с флагом покупки"
   ]
  },
  {
   "cell_type": "code",
   "execution_count": 171,
   "id": "3c7a757b",
   "metadata": {},
   "outputs": [
    {
     "data": {
      "text/plain": [
       "[('Aggregate  (cost=1.08..1.09 rows=1 width=8) (actual time=0.373..0.373 rows=1 loops=1)',),\n",
       " ('  ->  Seq Scan on sessions_info  (cost=0.00..1.07 rows=1 width=4) (actual time=0.191..0.193 rows=2 loops=1)',),\n",
       " ('        Filter: ((src_id = 3) AND (purchase_flg = 1))',),\n",
       " ('        Rows Removed by Filter: 3',),\n",
       " ('Planning Time: 7.288 ms',),\n",
       " ('Execution Time: 1.661 ms',)]"
      ]
     },
     "execution_count": 171,
     "metadata": {},
     "output_type": "execute_result"
    }
   ],
   "source": [
    "cur.execute('''\n",
    "            explain analyze\n",
    "            select \n",
    "            count(client_id) \n",
    "            from clients.sessions_info\n",
    "            where src_id = 3\n",
    "            and Purchase_flg = 1\n",
    "            ''')\n",
    "cur.fetchall()"
   ]
  },
  {
   "cell_type": "markdown",
   "id": "c054d36b",
   "metadata": {},
   "source": [
    "### Создать индекс на несколько полей\n"
   ]
  },
  {
   "cell_type": "code",
   "execution_count": 173,
   "id": "84317d69",
   "metadata": {},
   "outputs": [
    {
     "data": {
      "text/plain": [
       "[('Aggregate  (cost=0.38..0.39 rows=1 width=8) (actual time=0.195..0.196 rows=1 loops=1)',),\n",
       " ('  ->  Index Scan using idx_amount_order_dttm on sessions_info  (cost=0.13..0.37 rows=2 width=4) (actual time=0.181..0.182 rows=2 loops=1)',),\n",
       " ('        Index Cond: ((src_id = 3) AND (purchase_flg = 1))',),\n",
       " ('Planning Time: 1.072 ms',),\n",
       " ('Execution Time: 0.718 ms',)]"
      ]
     },
     "execution_count": 173,
     "metadata": {},
     "output_type": "execute_result"
    }
   ],
   "source": [
    "cur.execute('''\n",
    "            CREATE INDEX idx_amount_order_dttm\n",
    "            ON clients.sessions_info(src_id, Purchase_flg);\n",
    "            ''')\n",
    "\n",
    "cur.execute('''\n",
    "            analyze clients.sessions_info\n",
    "            ''')\n",
    "\n",
    "cur.execute('''\n",
    "            explain analyze\n",
    "            select \n",
    "            count(client_id) \n",
    "            from clients.sessions_info\n",
    "            where src_id = 3\n",
    "            and Purchase_flg = 1\n",
    "            ''')\n",
    "cur.fetchall()"
   ]
  },
  {
   "cell_type": "markdown",
   "id": "f2655074",
   "metadata": {},
   "source": [
    "####  После добавления индекса скорость значительно увеличилась "
   ]
  }
 ],
 "metadata": {
  "kernelspec": {
   "display_name": "Python 3 (ipykernel)",
   "language": "python",
   "name": "python3"
  },
  "language_info": {
   "codemirror_mode": {
    "name": "ipython",
    "version": 3
   },
   "file_extension": ".py",
   "mimetype": "text/x-python",
   "name": "python",
   "nbconvert_exporter": "python",
   "pygments_lexer": "ipython3",
   "version": "3.9.12"
  }
 },
 "nbformat": 4,
 "nbformat_minor": 5
}
