{
 "cells": [
  {
   "cell_type": "markdown",
   "id": "4504596a",
   "metadata": {},
   "source": [
    "### Обычно курсоры автоматически закрываются при фиксации транзакции. Однако курсор, созданный как часть такого цикла,\n",
    "\n",
    "### автоматически преобразуется в удерживаемый курсор при первом выполнении COMMIT или ROLLBACK.\n",
    "\n",
    "### Это означает, что курсор полностью вычисляется при первом COMMIT или ROLLBACK, а не построчно.\n",
    "\n",
    "### Курсор по-прежнему автоматически удаляется после цикла, поэтому это в основном невидимо для пользователя."
   ]
  },
  {
   "cell_type": "code",
   "execution_count": 17,
   "id": "ee811be4",
   "metadata": {},
   "outputs": [],
   "source": [
    "import psycopg2\n",
    "import pandas as pd\n",
    "import sqlalchemy"
   ]
  },
  {
   "cell_type": "code",
   "execution_count": 18,
   "id": "99455c00",
   "metadata": {},
   "outputs": [],
   "source": [
    "conn = psycopg2.connect(host=\"127.0.0.1\", port=\"5432\", database=\"Adventureworks\", \n",
    "                            user=\"postgres\", password=\"postgres\")\n",
    "cur = conn.cursor()"
   ]
  },
  {
   "cell_type": "code",
   "execution_count": 19,
   "id": "fb3ea12d",
   "metadata": {},
   "outputs": [
    {
     "data": {
      "text/html": [
       "<div>\n",
       "<style scoped>\n",
       "    .dataframe tbody tr th:only-of-type {\n",
       "        vertical-align: middle;\n",
       "    }\n",
       "\n",
       "    .dataframe tbody tr th {\n",
       "        vertical-align: top;\n",
       "    }\n",
       "\n",
       "    .dataframe thead th {\n",
       "        text-align: right;\n",
       "    }\n",
       "</style>\n",
       "<table border=\"1\" class=\"dataframe\">\n",
       "  <thead>\n",
       "    <tr style=\"text-align: right;\">\n",
       "      <th></th>\n",
       "      <th>customer_id</th>\n",
       "      <th>store_id</th>\n",
       "      <th>first_name</th>\n",
       "      <th>last_name</th>\n",
       "    </tr>\n",
       "  </thead>\n",
       "  <tbody>\n",
       "    <tr>\n",
       "      <th>0</th>\n",
       "      <td>1</td>\n",
       "      <td>1</td>\n",
       "      <td>Mike</td>\n",
       "      <td>Mike</td>\n",
       "    </tr>\n",
       "  </tbody>\n",
       "</table>\n",
       "</div>"
      ],
      "text/plain": [
       "   customer_id  store_id first_name last_name\n",
       "0            1         1       Mike      Mike"
      ]
     },
     "execution_count": 19,
     "metadata": {},
     "output_type": "execute_result"
    }
   ],
   "source": [
    "cur.execute('''\n",
    "           create table if not exists  customer \n",
    "            (customer_id int,\n",
    "             store_id int,\n",
    "             first_name varchar,\n",
    "             last_name varchar)\n",
    "            ''')\n",
    "\n",
    "\n",
    "cur.execute('''\n",
    "           insert into   customer\n",
    "            values(1,1,'Mike','Mike');\n",
    "            ''')\n",
    "\n",
    "\n",
    "cur.execute('''\n",
    "           select* from customer\n",
    "        \n",
    "            ''')\n",
    "\n",
    "results = cur.fetchall()\n",
    "pd.DataFrame(results, columns=['customer_id', 'store_id', 'first_name', 'last_name'])"
   ]
  },
  {
   "cell_type": "code",
   "execution_count": 21,
   "id": "8bb579b9",
   "metadata": {},
   "outputs": [
    {
     "data": {
      "text/html": [
       "<div>\n",
       "<style scoped>\n",
       "    .dataframe tbody tr th:only-of-type {\n",
       "        vertical-align: middle;\n",
       "    }\n",
       "\n",
       "    .dataframe tbody tr th {\n",
       "        vertical-align: top;\n",
       "    }\n",
       "\n",
       "    .dataframe thead th {\n",
       "        text-align: right;\n",
       "    }\n",
       "</style>\n",
       "<table border=\"1\" class=\"dataframe\">\n",
       "  <thead>\n",
       "    <tr style=\"text-align: right;\">\n",
       "      <th></th>\n",
       "      <th>customer_id</th>\n",
       "      <th>store_id</th>\n",
       "      <th>first_name</th>\n",
       "      <th>last_name</th>\n",
       "    </tr>\n",
       "  </thead>\n",
       "  <tbody>\n",
       "    <tr>\n",
       "      <th>0</th>\n",
       "      <td>1</td>\n",
       "      <td>1</td>\n",
       "      <td>Mike</td>\n",
       "      <td>Mike</td>\n",
       "    </tr>\n",
       "  </tbody>\n",
       "</table>\n",
       "</div>"
      ],
      "text/plain": [
       "   customer_id  store_id first_name last_name\n",
       "0            1         1       Mike      Mike"
      ]
     },
     "execution_count": 21,
     "metadata": {},
     "output_type": "execute_result"
    }
   ],
   "source": [
    "cur.execute('''\n",
    "           create or replace function return_cursor() \n",
    "            returns refcursor as\n",
    "            $$\n",
    "            DECLARE\n",
    "                res CONSTANT refcursor := '_result';\n",
    "            begin\n",
    "                open res for select * from customer;\n",
    "                return res;\n",
    "\n",
    "            end\n",
    "            $$ language plpgsql;\n",
    "            ''')\n",
    "\n",
    "cur.execute('''\n",
    "           begin;\n",
    "            ''')\n",
    "\n",
    "cur.execute('''\n",
    "           begin;\n",
    "            select * from return_cursor();\n",
    "            fetch all from _result;\n",
    "            ''')\n",
    "\n",
    "results = cur.fetchall()\n",
    "pd.DataFrame(results, columns=['customer_id', 'store_id', 'first_name', 'last_name'])"
   ]
  },
  {
   "cell_type": "code",
   "execution_count": 22,
   "id": "504b4180",
   "metadata": {},
   "outputs": [],
   "source": [
    "cur.execute('''\n",
    "            -- получить последнего\n",
    "            begin;\n",
    "            select * from return_cursor();\n",
    "            fetch last from _result;\n",
    "            commit;\n",
    "            --получить 4-го\n",
    "            begin;\n",
    "            select * from return_cursor();\n",
    "            MOVE FORWARD 3 FROM _result;\n",
    "            fetch next from _result;\n",
    "            commit;\n",
    "            --CLOSE закрывает связанный с курсором портал. \n",
    "            --Используется для того, чтобы освободить ресурсы раньше, чем закончится транзакция, \n",
    "            -- или чтобы освободить курсорную переменную для повторного открытия.\n",
    "            ''')"
   ]
  },
  {
   "cell_type": "code",
   "execution_count": 16,
   "id": "fe70069f",
   "metadata": {},
   "outputs": [],
   "source": [
    "conn.rollback()\n",
    "conn.close()"
   ]
  }
 ],
 "metadata": {
  "kernelspec": {
   "display_name": "Python 3 (ipykernel)",
   "language": "python",
   "name": "python3"
  },
  "language_info": {
   "codemirror_mode": {
    "name": "ipython",
    "version": 3
   },
   "file_extension": ".py",
   "mimetype": "text/x-python",
   "name": "python",
   "nbconvert_exporter": "python",
   "pygments_lexer": "ipython3",
   "version": "3.9.12"
  }
 },
 "nbformat": 4,
 "nbformat_minor": 5
}
