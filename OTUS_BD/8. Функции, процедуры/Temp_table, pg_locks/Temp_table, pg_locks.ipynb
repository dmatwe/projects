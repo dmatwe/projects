{
 "cells": [
  {
   "cell_type": "code",
   "execution_count": 1,
   "id": "b7ab7f55",
   "metadata": {},
   "outputs": [],
   "source": [
    "import psycopg2\n",
    "import pandas as pd\n",
    "import sqlalchemy"
   ]
  },
  {
   "cell_type": "code",
   "execution_count": 18,
   "id": "a989ef7e",
   "metadata": {},
   "outputs": [],
   "source": [
    "conn = psycopg2.connect(host=\"127.0.0.1\", port=\"5432\", database=\"Adventureworks\", \n",
    "                            user=\"postgres\", password=\"postgres\")\n",
    "cur = conn.cursor()"
   ]
  },
  {
   "cell_type": "code",
   "execution_count": 19,
   "id": "f6b58362",
   "metadata": {},
   "outputs": [
    {
     "data": {
      "text/html": [
       "<div>\n",
       "<style scoped>\n",
       "    .dataframe tbody tr th:only-of-type {\n",
       "        vertical-align: middle;\n",
       "    }\n",
       "\n",
       "    .dataframe tbody tr th {\n",
       "        vertical-align: top;\n",
       "    }\n",
       "\n",
       "    .dataframe thead th {\n",
       "        text-align: right;\n",
       "    }\n",
       "</style>\n",
       "<table border=\"1\" class=\"dataframe\">\n",
       "  <thead>\n",
       "    <tr style=\"text-align: right;\">\n",
       "      <th></th>\n",
       "      <th>customer_id</th>\n",
       "      <th>store_id</th>\n",
       "      <th>first_name</th>\n",
       "      <th>last_name</th>\n",
       "    </tr>\n",
       "  </thead>\n",
       "  <tbody>\n",
       "    <tr>\n",
       "      <th>0</th>\n",
       "      <td>1</td>\n",
       "      <td>1</td>\n",
       "      <td>Mike</td>\n",
       "      <td>Mike</td>\n",
       "    </tr>\n",
       "    <tr>\n",
       "      <th>1</th>\n",
       "      <td>1</td>\n",
       "      <td>1</td>\n",
       "      <td>Mike</td>\n",
       "      <td>Mike</td>\n",
       "    </tr>\n",
       "  </tbody>\n",
       "</table>\n",
       "</div>"
      ],
      "text/plain": [
       "   customer_id  store_id first_name last_name\n",
       "0            1         1       Mike      Mike\n",
       "1            1         1       Mike      Mike"
      ]
     },
     "execution_count": 19,
     "metadata": {},
     "output_type": "execute_result"
    }
   ],
   "source": [
    "\n",
    "\n",
    "cur.execute('''\n",
    "           create table if not exists  customer \n",
    "            (customer_id int,\n",
    "             store_id int,\n",
    "             first_name varchar,\n",
    "             last_name varchar)\n",
    "            ''')\n",
    "\n",
    "\n",
    "cur.execute('''\n",
    "           insert into   customer\n",
    "            values(1,1,'Mike','Mike');\n",
    "            ''')\n",
    "\n",
    "\n",
    "cur.execute('''\n",
    "           select* from customer\n",
    "        \n",
    "            ''')\n",
    "\n",
    "results = cur.fetchall()\n",
    "pd.DataFrame(results, columns=['customer_id', 'store_id', 'first_name', 'last_name'])"
   ]
  },
  {
   "cell_type": "code",
   "execution_count": 20,
   "id": "9bfef4fe",
   "metadata": {},
   "outputs": [],
   "source": [
    "cur.execute('''\n",
    "           CREATE TEMP TABLE temp_customer AS\n",
    "        SELECT customer_id\n",
    "             , store_id\n",
    "             , first_name\n",
    "             , last_name\n",
    "        FROM   public.customer\n",
    "        WHERE  store_id =1;\n",
    "            ''')"
   ]
  },
  {
   "cell_type": "code",
   "execution_count": 21,
   "id": "85e976fa",
   "metadata": {},
   "outputs": [
    {
     "name": "stderr",
     "output_type": "stream",
     "text": [
      "/Users/denis/opt/anaconda3/lib/python3.9/site-packages/pandas/io/sql.py:761: UserWarning: pandas only support SQLAlchemy connectable(engine/connection) ordatabase string URI or sqlite3 DBAPI2 connectionother DBAPI2 objects are not tested, please consider using SQLAlchemy\n",
      "  warnings.warn(\n"
     ]
    },
    {
     "data": {
      "text/html": [
       "<div>\n",
       "<style scoped>\n",
       "    .dataframe tbody tr th:only-of-type {\n",
       "        vertical-align: middle;\n",
       "    }\n",
       "\n",
       "    .dataframe tbody tr th {\n",
       "        vertical-align: top;\n",
       "    }\n",
       "\n",
       "    .dataframe thead th {\n",
       "        text-align: right;\n",
       "    }\n",
       "</style>\n",
       "<table border=\"1\" class=\"dataframe\">\n",
       "  <thead>\n",
       "    <tr style=\"text-align: right;\">\n",
       "      <th></th>\n",
       "      <th>customer_id</th>\n",
       "      <th>store_id</th>\n",
       "      <th>first_name</th>\n",
       "      <th>last_name</th>\n",
       "    </tr>\n",
       "  </thead>\n",
       "  <tbody>\n",
       "    <tr>\n",
       "      <th>0</th>\n",
       "      <td>1</td>\n",
       "      <td>1</td>\n",
       "      <td>Mike</td>\n",
       "      <td>Mike</td>\n",
       "    </tr>\n",
       "    <tr>\n",
       "      <th>1</th>\n",
       "      <td>1</td>\n",
       "      <td>1</td>\n",
       "      <td>Mike</td>\n",
       "      <td>Mike</td>\n",
       "    </tr>\n",
       "  </tbody>\n",
       "</table>\n",
       "</div>"
      ],
      "text/plain": [
       "   customer_id  store_id first_name last_name\n",
       "0            1         1       Mike      Mike\n",
       "1            1         1       Mike      Mike"
      ]
     },
     "execution_count": 21,
     "metadata": {},
     "output_type": "execute_result"
    }
   ],
   "source": [
    "query = f'''\n",
    "        select * from temp_customer;\n",
    "'''\n",
    "df = pd.read_sql_query(query, conn)\n",
    "df.head()"
   ]
  },
  {
   "cell_type": "markdown",
   "id": "c5c585b8",
   "metadata": {},
   "source": [
    "### использование временной таблицы в функции"
   ]
  },
  {
   "cell_type": "code",
   "execution_count": 22,
   "id": "690b8366",
   "metadata": {},
   "outputs": [
    {
     "data": {
      "text/html": [
       "<div>\n",
       "<style scoped>\n",
       "    .dataframe tbody tr th:only-of-type {\n",
       "        vertical-align: middle;\n",
       "    }\n",
       "\n",
       "    .dataframe tbody tr th {\n",
       "        vertical-align: top;\n",
       "    }\n",
       "\n",
       "    .dataframe thead th {\n",
       "        text-align: right;\n",
       "    }\n",
       "</style>\n",
       "<table border=\"1\" class=\"dataframe\">\n",
       "  <thead>\n",
       "    <tr style=\"text-align: right;\">\n",
       "      <th></th>\n",
       "      <th>first_name</th>\n",
       "      <th>last_name</th>\n",
       "    </tr>\n",
       "  </thead>\n",
       "  <tbody>\n",
       "    <tr>\n",
       "      <th>0</th>\n",
       "      <td>Mike</td>\n",
       "      <td>Mike</td>\n",
       "    </tr>\n",
       "    <tr>\n",
       "      <th>1</th>\n",
       "      <td>Mike</td>\n",
       "      <td>Mike</td>\n",
       "    </tr>\n",
       "  </tbody>\n",
       "</table>\n",
       "</div>"
      ],
      "text/plain": [
       "  first_name last_name\n",
       "0       Mike      Mike\n",
       "1       Mike      Mike"
      ]
     },
     "execution_count": 22,
     "metadata": {},
     "output_type": "execute_result"
    }
   ],
   "source": [
    "cur.execute('''\n",
    "            Create or replace function use_temp_table() returns \n",
    "            table(first_name text, last_name text) as\n",
    "            $$\n",
    "            begin\n",
    "            DROP TABLE IF EXISTS temp_table CASCADE;\n",
    "            CREATE TEMP TABLE temp_table  AS\n",
    "            SELECT customer.first_name\n",
    "                 , customer.last_name\n",
    "            FROM   customer\n",
    "            WHERE  store_id =1;\n",
    "\n",
    "             return query\n",
    "                SELECT  temp_table.first_name::text, temp_table.last_name::text FROM \n",
    "                  temp_table;\n",
    "            END\n",
    "            $$ language plpgsql;\n",
    "            ''')\n",
    "\n",
    "cur.execute('''\n",
    "            select * from  use_temp_table();\n",
    "            ''')\n",
    "\n",
    "results = cur.fetchall()\n",
    "pd.DataFrame(results, columns=['first_name', 'last_name'])"
   ]
  },
  {
   "cell_type": "code",
   "execution_count": 16,
   "id": "933bfc9e",
   "metadata": {},
   "outputs": [],
   "source": [
    "conn.rollback()\n",
    "conn.close()"
   ]
  },
  {
   "cell_type": "markdown",
   "id": "1c740bc6",
   "metadata": {},
   "source": [
    "### Просмотр pg_locks показывает, какие блокировки предоставлены и какие процессы ожидают получения блокировок.\n"
   ]
  },
  {
   "cell_type": "code",
   "execution_count": 23,
   "id": "f3e1e369",
   "metadata": {},
   "outputs": [
    {
     "name": "stderr",
     "output_type": "stream",
     "text": [
      "/Users/denis/opt/anaconda3/lib/python3.9/site-packages/pandas/io/sql.py:761: UserWarning: pandas only support SQLAlchemy connectable(engine/connection) ordatabase string URI or sqlite3 DBAPI2 connectionother DBAPI2 objects are not tested, please consider using SQLAlchemy\n",
      "  warnings.warn(\n"
     ]
    },
    {
     "data": {
      "text/html": [
       "<div>\n",
       "<style scoped>\n",
       "    .dataframe tbody tr th:only-of-type {\n",
       "        vertical-align: middle;\n",
       "    }\n",
       "\n",
       "    .dataframe tbody tr th {\n",
       "        vertical-align: top;\n",
       "    }\n",
       "\n",
       "    .dataframe thead th {\n",
       "        text-align: right;\n",
       "    }\n",
       "</style>\n",
       "<table border=\"1\" class=\"dataframe\">\n",
       "  <thead>\n",
       "    <tr style=\"text-align: right;\">\n",
       "      <th></th>\n",
       "      <th>relation</th>\n",
       "      <th>locktype</th>\n",
       "      <th>database</th>\n",
       "      <th>relation</th>\n",
       "      <th>page</th>\n",
       "      <th>tuple</th>\n",
       "      <th>virtualxid</th>\n",
       "      <th>transactionid</th>\n",
       "      <th>classid</th>\n",
       "      <th>objid</th>\n",
       "      <th>objsubid</th>\n",
       "      <th>virtualtransaction</th>\n",
       "      <th>pid</th>\n",
       "      <th>mode</th>\n",
       "      <th>granted</th>\n",
       "      <th>fastpath</th>\n",
       "      <th>waitstart</th>\n",
       "    </tr>\n",
       "  </thead>\n",
       "  <tbody>\n",
       "  </tbody>\n",
       "</table>\n",
       "</div>"
      ],
      "text/plain": [
       "Empty DataFrame\n",
       "Columns: [relation, locktype, database, relation, page, tuple, virtualxid, transactionid, classid, objid, objsubid, virtualtransaction, pid, mode, granted, fastpath, waitstart]\n",
       "Index: []"
      ]
     },
     "execution_count": 23,
     "metadata": {},
     "output_type": "execute_result"
    }
   ],
   "source": [
    "query = f'''\n",
    "         select relation::regclass, * from pg_locks where not granted;\n",
    "'''\n",
    "df = pd.read_sql_query(query, conn)\n",
    "df.head()"
   ]
  },
  {
   "cell_type": "markdown",
   "id": "11a25363",
   "metadata": {},
   "source": [
    "### Следующий запрос может быть полезен, чтобы увидеть, какие процессы блокируют операторы SQL \n",
    "### они находят блокировки только на уровне строк, но не на уровне объектов)."
   ]
  },
  {
   "cell_type": "code",
   "execution_count": 24,
   "id": "34589d0e",
   "metadata": {},
   "outputs": [
    {
     "name": "stderr",
     "output_type": "stream",
     "text": [
      "/Users/denis/opt/anaconda3/lib/python3.9/site-packages/pandas/io/sql.py:761: UserWarning: pandas only support SQLAlchemy connectable(engine/connection) ordatabase string URI or sqlite3 DBAPI2 connectionother DBAPI2 objects are not tested, please consider using SQLAlchemy\n",
      "  warnings.warn(\n"
     ]
    },
    {
     "data": {
      "text/html": [
       "<div>\n",
       "<style scoped>\n",
       "    .dataframe tbody tr th:only-of-type {\n",
       "        vertical-align: middle;\n",
       "    }\n",
       "\n",
       "    .dataframe tbody tr th {\n",
       "        vertical-align: top;\n",
       "    }\n",
       "\n",
       "    .dataframe thead th {\n",
       "        text-align: right;\n",
       "    }\n",
       "</style>\n",
       "<table border=\"1\" class=\"dataframe\">\n",
       "  <thead>\n",
       "    <tr style=\"text-align: right;\">\n",
       "      <th></th>\n",
       "      <th>blocked_pid</th>\n",
       "      <th>blocked_user</th>\n",
       "      <th>blocking_pid</th>\n",
       "      <th>blocking_user</th>\n",
       "      <th>blocked_statement</th>\n",
       "      <th>current_statement_in_blocking_process</th>\n",
       "    </tr>\n",
       "  </thead>\n",
       "  <tbody>\n",
       "  </tbody>\n",
       "</table>\n",
       "</div>"
      ],
      "text/plain": [
       "Empty DataFrame\n",
       "Columns: [blocked_pid, blocked_user, blocking_pid, blocking_user, blocked_statement, current_statement_in_blocking_process]\n",
       "Index: []"
      ]
     },
     "execution_count": 24,
     "metadata": {},
     "output_type": "execute_result"
    }
   ],
   "source": [
    "query = f'''\n",
    "          SELECT blocked_locks.pid     AS blocked_pid,\n",
    "         blocked_activity.usename  AS blocked_user,\n",
    "         blocking_locks.pid     AS blocking_pid,\n",
    "         blocking_activity.usename AS blocking_user,\n",
    "         blocked_activity.query    AS blocked_statement,\n",
    "         blocking_activity.query   AS current_statement_in_blocking_process\n",
    "   FROM  pg_catalog.pg_locks         blocked_locks\n",
    "    JOIN pg_catalog.pg_stat_activity blocked_activity  ON blocked_activity.pid = blocked_locks.pid\n",
    "    JOIN pg_catalog.pg_locks         blocking_locks \n",
    "        ON blocking_locks.locktype = blocked_locks.locktype\n",
    "        AND blocking_locks.database IS NOT DISTINCT FROM blocked_locks.database\n",
    "        AND blocking_locks.relation IS NOT DISTINCT FROM blocked_locks.relation\n",
    "        AND blocking_locks.page IS NOT DISTINCT FROM blocked_locks.page\n",
    "        AND blocking_locks.tuple IS NOT DISTINCT FROM blocked_locks.tuple\n",
    "        AND blocking_locks.virtualxid IS NOT DISTINCT FROM blocked_locks.virtualxid\n",
    "        AND blocking_locks.transactionid IS NOT DISTINCT FROM blocked_locks.transactionid\n",
    "        AND blocking_locks.classid IS NOT DISTINCT FROM blocked_locks.classid\n",
    "        AND blocking_locks.objid IS NOT DISTINCT FROM blocked_locks.objid\n",
    "        AND blocking_locks.objsubid IS NOT DISTINCT FROM blocked_locks.objsubid\n",
    "        AND blocking_locks.pid != blocked_locks.pid\n",
    "    JOIN pg_catalog.pg_stat_activity blocking_activity ON blocking_activity.pid = blocking_locks.pid\n",
    "   WHERE NOT blocked_locks.granted;\n",
    "'''\n",
    "df = pd.read_sql_query(query, conn)\n",
    "df.head()"
   ]
  },
  {
   "cell_type": "markdown",
   "id": "2e9a30c1",
   "metadata": {},
   "source": [
    "### Эффекты команды SET LOCAL для переменной ограничиваются процедурой\\функцией, внутри которой выполняется команда; \n",
    "### предыдущее значение параметра конфигурации восстанавливается после выхода из процедуры. \n",
    "###  Эффекты конфигурации сохранятся после выхода из процедуры\\функции, \n",
    "### если текущая транзакция не будет отменена\n",
    "### console"
   ]
  },
  {
   "cell_type": "code",
   "execution_count": 26,
   "id": "0125b854",
   "metadata": {},
   "outputs": [
    {
     "name": "stdout",
     "output_type": "stream",
     "text": [
      "['NOTICE:  relation \"customer\" already exists, skipping\\n', 'NOTICE:  table \"temp_table\" does not exist, skipping\\n', 'NOTICE:  Current Date is : Sat 22 Jul 19:26:39.891879 2023 UTC \\n']\n"
     ]
    }
   ],
   "source": [
    "cur.execute('''\n",
    "            CREATE OR REPLACE PROCEDURE datestyle_change() \n",
    "            LANGUAGE plpgsql \n",
    "            SET datestyle TO postgres, dmy\n",
    "            AS $$\n",
    "                BEGIN\n",
    "                    RAISE NOTICE 'Current Date is : % ', now();\n",
    "                END;\n",
    "            $$ ;\n",
    "\n",
    "            ''')\n",
    "\n",
    "cur.execute('''\n",
    "            call datestyle_change();\n",
    "            ''')\n",
    "\n",
    "print(conn.notices)"
   ]
  }
 ],
 "metadata": {
  "kernelspec": {
   "display_name": "Python 3 (ipykernel)",
   "language": "python",
   "name": "python3"
  },
  "language_info": {
   "codemirror_mode": {
    "name": "ipython",
    "version": 3
   },
   "file_extension": ".py",
   "mimetype": "text/x-python",
   "name": "python",
   "nbconvert_exporter": "python",
   "pygments_lexer": "ipython3",
   "version": "3.9.12"
  }
 },
 "nbformat": 4,
 "nbformat_minor": 5
}
