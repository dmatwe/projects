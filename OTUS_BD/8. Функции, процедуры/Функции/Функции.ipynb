{
 "cells": [
  {
   "cell_type": "code",
   "execution_count": 33,
   "id": "66a1e1ce",
   "metadata": {},
   "outputs": [],
   "source": [
    "import psycopg2\n",
    "import pandas as pd\n",
    "import sqlalchemy"
   ]
  },
  {
   "cell_type": "code",
   "execution_count": 65,
   "id": "3e34e319",
   "metadata": {},
   "outputs": [],
   "source": [
    "conn = psycopg2.connect(host=\"127.0.0.1\", port=\"5432\", database=\"Adventureworks\", \n",
    "                            user=\"postgres\", password=\"postgres\")\n",
    "cur = conn.cursor()"
   ]
  },
  {
   "cell_type": "code",
   "execution_count": 42,
   "id": "42ef57a1",
   "metadata": {
    "scrolled": true
   },
   "outputs": [
    {
     "data": {
      "text/html": [
       "<div>\n",
       "<style scoped>\n",
       "    .dataframe tbody tr th:only-of-type {\n",
       "        vertical-align: middle;\n",
       "    }\n",
       "\n",
       "    .dataframe tbody tr th {\n",
       "        vertical-align: top;\n",
       "    }\n",
       "\n",
       "    .dataframe thead th {\n",
       "        text-align: right;\n",
       "    }\n",
       "</style>\n",
       "<table border=\"1\" class=\"dataframe\">\n",
       "  <thead>\n",
       "    <tr style=\"text-align: right;\">\n",
       "      <th></th>\n",
       "      <th>customer_id</th>\n",
       "      <th>store_id</th>\n",
       "      <th>first_name</th>\n",
       "      <th>last_name</th>\n",
       "    </tr>\n",
       "  </thead>\n",
       "  <tbody>\n",
       "    <tr>\n",
       "      <th>0</th>\n",
       "      <td>1</td>\n",
       "      <td>1</td>\n",
       "      <td>Mike</td>\n",
       "      <td>Mike</td>\n",
       "    </tr>\n",
       "  </tbody>\n",
       "</table>\n",
       "</div>"
      ],
      "text/plain": [
       "   customer_id  store_id first_name last_name\n",
       "0            1         1       Mike      Mike"
      ]
     },
     "execution_count": 42,
     "metadata": {},
     "output_type": "execute_result"
    }
   ],
   "source": [
    "cur = conn.cursor()\n",
    "\n",
    "cur.execute('''\n",
    "           create table if not exists  customer \n",
    "            (customer_id int,\n",
    "             store_id int,\n",
    "             first_name varchar,\n",
    "             last_name varchar)\n",
    "            ''')\n",
    "\n",
    "\n",
    "cur.execute('''\n",
    "           insert into   customer\n",
    "            values(1,1,'Mike','Mike');\n",
    "            ''')\n",
    "\n",
    "\n",
    "cur.execute('''\n",
    "           select* from customer\n",
    "        \n",
    "            ''')\n",
    "\n",
    "results = cur.fetchall()\n",
    "pd.DataFrame(results, columns=['customer_id', 'store_id', 'first_name', 'last_name'])"
   ]
  },
  {
   "cell_type": "code",
   "execution_count": 36,
   "id": "56a3e04f",
   "metadata": {},
   "outputs": [
    {
     "data": {
      "text/html": [
       "<div>\n",
       "<style scoped>\n",
       "    .dataframe tbody tr th:only-of-type {\n",
       "        vertical-align: middle;\n",
       "    }\n",
       "\n",
       "    .dataframe tbody tr th {\n",
       "        vertical-align: top;\n",
       "    }\n",
       "\n",
       "    .dataframe thead th {\n",
       "        text-align: right;\n",
       "    }\n",
       "</style>\n",
       "<table border=\"1\" class=\"dataframe\">\n",
       "  <thead>\n",
       "    <tr style=\"text-align: right;\">\n",
       "      <th></th>\n",
       "      <th>customer_id</th>\n",
       "      <th>store_id</th>\n",
       "      <th>first_name</th>\n",
       "      <th>last_name</th>\n",
       "    </tr>\n",
       "  </thead>\n",
       "  <tbody>\n",
       "    <tr>\n",
       "      <th>0</th>\n",
       "      <td>1</td>\n",
       "      <td>1</td>\n",
       "      <td>Mike</td>\n",
       "      <td>Mike</td>\n",
       "    </tr>\n",
       "  </tbody>\n",
       "</table>\n",
       "</div>"
      ],
      "text/plain": [
       "   customer_id  store_id first_name last_name\n",
       "0            1         1       Mike      Mike"
      ]
     },
     "execution_count": 36,
     "metadata": {},
     "output_type": "execute_result"
    }
   ],
   "source": [
    "cur = conn.cursor()\n",
    "\n",
    "cur.execute('''\n",
    "           create or replace function first_function()\n",
    "            returns setof customer\n",
    "            as $$\n",
    "            select * from customer;\n",
    "            $$\n",
    "            language sql\n",
    "            ''')\n",
    "\n",
    "\n",
    "cur.execute('''\n",
    "           select * from first_function();\n",
    "            ''')\n",
    "\n",
    "results = cur.fetchall()\n",
    "pd.DataFrame(results, columns=['customer_id', 'store_id', 'first_name', 'last_name'])"
   ]
  },
  {
   "cell_type": "markdown",
   "id": "1f583880",
   "metadata": {},
   "source": [
    "### вызов функции из функции\n"
   ]
  },
  {
   "cell_type": "code",
   "execution_count": 9,
   "id": "5627a911",
   "metadata": {},
   "outputs": [
    {
     "data": {
      "text/html": [
       "<div>\n",
       "<style scoped>\n",
       "    .dataframe tbody tr th:only-of-type {\n",
       "        vertical-align: middle;\n",
       "    }\n",
       "\n",
       "    .dataframe tbody tr th {\n",
       "        vertical-align: top;\n",
       "    }\n",
       "\n",
       "    .dataframe thead th {\n",
       "        text-align: right;\n",
       "    }\n",
       "</style>\n",
       "<table border=\"1\" class=\"dataframe\">\n",
       "  <thead>\n",
       "    <tr style=\"text-align: right;\">\n",
       "      <th></th>\n",
       "      <th>first_function</th>\n",
       "    </tr>\n",
       "  </thead>\n",
       "  <tbody>\n",
       "    <tr>\n",
       "      <th>0</th>\n",
       "      <td>Mike</td>\n",
       "    </tr>\n",
       "  </tbody>\n",
       "</table>\n",
       "</div>"
      ],
      "text/plain": [
       "  first_function\n",
       "0           Mike"
      ]
     },
     "execution_count": 9,
     "metadata": {},
     "output_type": "execute_result"
    }
   ],
   "source": [
    "\n",
    "cur.execute('''\n",
    "            Create or replace function call_function_in_function()\n",
    "            returns text\n",
    "            as $$\n",
    "                select first_name from  first_function() limit 1;\n",
    "            $$ \n",
    "            language sql;\n",
    "            ''')\n",
    "\n",
    "cur.execute('''\n",
    "           select * from public.call_function_in_function();\n",
    "            ''')\n",
    "results = cur.fetchall()\n",
    "pd.DataFrame(results, columns=['first_function'])"
   ]
  },
  {
   "cell_type": "markdown",
   "id": "56ad1ab4",
   "metadata": {},
   "source": [
    "### Разрешение функций с переменными параметрами"
   ]
  },
  {
   "cell_type": "code",
   "execution_count": 11,
   "id": "96f7a64d",
   "metadata": {},
   "outputs": [],
   "source": [
    "cur.execute('''\n",
    "            CREATE or REPLACE FUNCTION public.variadic_example(VARIADIC numeric[]) \n",
    "                RETURNS int\n",
    "                  LANGUAGE sql AS 'SELECT 1';\n",
    "\n",
    "            ''')\n",
    "\n",
    "cur.execute('''\n",
    "            SELECT public.variadic_example(0),\n",
    "               public.variadic_example(0.0),\n",
    "               public.variadic_example(VARIADIC array[0.0]);\n",
    "\n",
    "            ''')\n",
    "\n",
    "results = cur.fetchall()\n"
   ]
  },
  {
   "cell_type": "code",
   "execution_count": 14,
   "id": "816ad2bf",
   "metadata": {},
   "outputs": [
    {
     "data": {
      "text/html": [
       "<div>\n",
       "<style scoped>\n",
       "    .dataframe tbody tr th:only-of-type {\n",
       "        vertical-align: middle;\n",
       "    }\n",
       "\n",
       "    .dataframe tbody tr th {\n",
       "        vertical-align: top;\n",
       "    }\n",
       "\n",
       "    .dataframe thead th {\n",
       "        text-align: right;\n",
       "    }\n",
       "</style>\n",
       "<table border=\"1\" class=\"dataframe\">\n",
       "  <thead>\n",
       "    <tr style=\"text-align: right;\">\n",
       "      <th></th>\n",
       "      <th>variadic_example_1</th>\n",
       "      <th>variadic_example_2</th>\n",
       "      <th>variadic_example_3</th>\n",
       "    </tr>\n",
       "  </thead>\n",
       "  <tbody>\n",
       "    <tr>\n",
       "      <th>0</th>\n",
       "      <td>1</td>\n",
       "      <td>1</td>\n",
       "      <td>1</td>\n",
       "    </tr>\n",
       "  </tbody>\n",
       "</table>\n",
       "</div>"
      ],
      "text/plain": [
       "   variadic_example_1  variadic_example_2  variadic_example_3\n",
       "0                   1                   1                   1"
      ]
     },
     "execution_count": 14,
     "metadata": {},
     "output_type": "execute_result"
    }
   ],
   "source": [
    "pd.DataFrame(results, columns=['variadic_example_1', 'variadic_example_2',\n",
    "                               'variadic_example_3'])"
   ]
  },
  {
   "cell_type": "markdown",
   "id": "5f0f38e5",
   "metadata": {},
   "source": [
    "### Функция преобразования строки \n"
   ]
  },
  {
   "cell_type": "code",
   "execution_count": 17,
   "id": "3e3ed6a6",
   "metadata": {},
   "outputs": [
    {
     "data": {
      "text/html": [
       "<div>\n",
       "<style scoped>\n",
       "    .dataframe tbody tr th:only-of-type {\n",
       "        vertical-align: middle;\n",
       "    }\n",
       "\n",
       "    .dataframe tbody tr th {\n",
       "        vertical-align: top;\n",
       "    }\n",
       "\n",
       "    .dataframe thead th {\n",
       "        text-align: right;\n",
       "    }\n",
       "</style>\n",
       "<table border=\"1\" class=\"dataframe\">\n",
       "  <thead>\n",
       "    <tr style=\"text-align: right;\">\n",
       "      <th></th>\n",
       "      <th>lower_or_upper</th>\n",
       "    </tr>\n",
       "  </thead>\n",
       "  <tbody>\n",
       "    <tr>\n",
       "      <th>0</th>\n",
       "      <td>СИДРОРОВ ИВАН</td>\n",
       "    </tr>\n",
       "  </tbody>\n",
       "</table>\n",
       "</div>"
      ],
      "text/plain": [
       "  lower_or_upper\n",
       "0  СИДРОРОВ ИВАН"
      ]
     },
     "execution_count": 17,
     "metadata": {},
     "output_type": "execute_result"
    }
   ],
   "source": [
    "cur.execute('''\n",
    "            create or replace function lower_or_upper\n",
    "            (last_name text, first_name text, flag int default 0)\n",
    "            returns text\n",
    "            as $$\n",
    "              select case $3\n",
    "                            when 0 then INITCAP ($1 || ' ' || $2)\n",
    "                            when 1 then upper($1 || ' ' || $2)\n",
    "                            when 2 then lower($1 || ' ' || $2)\n",
    "                            else $1 || ' ' || $2\n",
    "                            end;\n",
    "            $$ Language sql;\n",
    "\n",
    "            ''')\n",
    "\n",
    "cur.execute('''\n",
    "           select \n",
    "           lower_or_upper('СидрОрОВ', 'ИвАн',1);\n",
    "            ''')\n",
    "\n",
    "results = cur.fetchall()\n",
    "pd.DataFrame(results, columns=['lower_or_upper'])"
   ]
  },
  {
   "cell_type": "code",
   "execution_count": 18,
   "id": "ceef606e",
   "metadata": {},
   "outputs": [
    {
     "data": {
      "text/html": [
       "<div>\n",
       "<style scoped>\n",
       "    .dataframe tbody tr th:only-of-type {\n",
       "        vertical-align: middle;\n",
       "    }\n",
       "\n",
       "    .dataframe tbody tr th {\n",
       "        vertical-align: top;\n",
       "    }\n",
       "\n",
       "    .dataframe thead th {\n",
       "        text-align: right;\n",
       "    }\n",
       "</style>\n",
       "<table border=\"1\" class=\"dataframe\">\n",
       "  <thead>\n",
       "    <tr style=\"text-align: right;\">\n",
       "      <th></th>\n",
       "      <th>lower_or_upper</th>\n",
       "    </tr>\n",
       "  </thead>\n",
       "  <tbody>\n",
       "    <tr>\n",
       "      <th>0</th>\n",
       "      <td>Сидроров Иван</td>\n",
       "    </tr>\n",
       "  </tbody>\n",
       "</table>\n",
       "</div>"
      ],
      "text/plain": [
       "  lower_or_upper\n",
       "0  Сидроров Иван"
      ]
     },
     "execution_count": 18,
     "metadata": {},
     "output_type": "execute_result"
    }
   ],
   "source": [
    "cur.execute('''\n",
    "           select lower_or_upper(last_name=> 'СидрОрОВ', first_name=>'ИвАн');\n",
    "            ''')\n",
    "\n",
    "results = cur.fetchall()\n",
    "pd.DataFrame(results, columns=['lower_or_upper'])"
   ]
  },
  {
   "cell_type": "code",
   "execution_count": 19,
   "id": "48a8f909",
   "metadata": {},
   "outputs": [
    {
     "data": {
      "text/html": [
       "<div>\n",
       "<style scoped>\n",
       "    .dataframe tbody tr th:only-of-type {\n",
       "        vertical-align: middle;\n",
       "    }\n",
       "\n",
       "    .dataframe tbody tr th {\n",
       "        vertical-align: top;\n",
       "    }\n",
       "\n",
       "    .dataframe thead th {\n",
       "        text-align: right;\n",
       "    }\n",
       "</style>\n",
       "<table border=\"1\" class=\"dataframe\">\n",
       "  <thead>\n",
       "    <tr style=\"text-align: right;\">\n",
       "      <th></th>\n",
       "      <th>lower_or_upper</th>\n",
       "    </tr>\n",
       "  </thead>\n",
       "  <tbody>\n",
       "    <tr>\n",
       "      <th>0</th>\n",
       "      <td>сидроров иван</td>\n",
       "    </tr>\n",
       "  </tbody>\n",
       "</table>\n",
       "</div>"
      ],
      "text/plain": [
       "  lower_or_upper\n",
       "0  сидроров иван"
      ]
     },
     "execution_count": 19,
     "metadata": {},
     "output_type": "execute_result"
    }
   ],
   "source": [
    "cur.execute('''\n",
    "           select lower_or_upper('СидрОрОВ', 'ИвАн', flag=>2);\n",
    "            ''')\n",
    "\n",
    "results = cur.fetchall()\n",
    "pd.DataFrame(results, columns=['lower_or_upper'])"
   ]
  },
  {
   "cell_type": "markdown",
   "id": "1cffacf6",
   "metadata": {},
   "source": [
    "### Функция возвращает несколько значений"
   ]
  },
  {
   "cell_type": "code",
   "execution_count": 20,
   "id": "4a59b0f3",
   "metadata": {},
   "outputs": [
    {
     "data": {
      "text/html": [
       "<div>\n",
       "<style scoped>\n",
       "    .dataframe tbody tr th:only-of-type {\n",
       "        vertical-align: middle;\n",
       "    }\n",
       "\n",
       "    .dataframe tbody tr th {\n",
       "        vertical-align: top;\n",
       "    }\n",
       "\n",
       "    .dataframe thead th {\n",
       "        text-align: right;\n",
       "    }\n",
       "</style>\n",
       "<table border=\"1\" class=\"dataframe\">\n",
       "  <thead>\n",
       "    <tr style=\"text-align: right;\">\n",
       "      <th></th>\n",
       "      <th>return_setof_int</th>\n",
       "    </tr>\n",
       "  </thead>\n",
       "  <tbody>\n",
       "    <tr>\n",
       "      <th>0</th>\n",
       "      <td>1</td>\n",
       "    </tr>\n",
       "    <tr>\n",
       "      <th>1</th>\n",
       "      <td>2</td>\n",
       "    </tr>\n",
       "    <tr>\n",
       "      <th>2</th>\n",
       "      <td>3</td>\n",
       "    </tr>\n",
       "    <tr>\n",
       "      <th>3</th>\n",
       "      <td>4</td>\n",
       "    </tr>\n",
       "    <tr>\n",
       "      <th>4</th>\n",
       "      <td>5</td>\n",
       "    </tr>\n",
       "  </tbody>\n",
       "</table>\n",
       "</div>"
      ],
      "text/plain": [
       "   return_setof_int\n",
       "0                 1\n",
       "1                 2\n",
       "2                 3\n",
       "3                 4\n",
       "4                 5"
      ]
     },
     "execution_count": 20,
     "metadata": {},
     "output_type": "execute_result"
    }
   ],
   "source": [
    "cur.execute('''\n",
    "           create or replace function return_setof_int(max_i integer) \n",
    "            returns setof int as\n",
    "            $$\n",
    "            declare\n",
    "                i integer;\n",
    "            begin\n",
    "              for i in 1 .. max_i\n",
    "              loop\n",
    "             return next i;\n",
    "            end loop;\n",
    "            end;\n",
    "            $$ language plpgsql; \n",
    "            ''')\n",
    "\n",
    "cur.execute('''\n",
    "           select return_setof_int(5); \n",
    "            ''')\n",
    "\n",
    "results = cur.fetchall()\n",
    "pd.DataFrame(results, columns=['return_setof_int'])"
   ]
  },
  {
   "cell_type": "markdown",
   "id": "726d834d",
   "metadata": {},
   "source": [
    "### пример переменной inout\n"
   ]
  },
  {
   "cell_type": "code",
   "execution_count": 26,
   "id": "05116c92",
   "metadata": {},
   "outputs": [
    {
     "data": {
      "text/html": [
       "<div>\n",
       "<style scoped>\n",
       "    .dataframe tbody tr th:only-of-type {\n",
       "        vertical-align: middle;\n",
       "    }\n",
       "\n",
       "    .dataframe tbody tr th {\n",
       "        vertical-align: top;\n",
       "    }\n",
       "\n",
       "    .dataframe thead th {\n",
       "        text-align: right;\n",
       "    }\n",
       "</style>\n",
       "<table border=\"1\" class=\"dataframe\">\n",
       "  <thead>\n",
       "    <tr style=\"text-align: right;\">\n",
       "      <th></th>\n",
       "      <th>return_inout</th>\n",
       "    </tr>\n",
       "  </thead>\n",
       "  <tbody>\n",
       "    <tr>\n",
       "      <th>0</th>\n",
       "      <td>(90,9)</td>\n",
       "    </tr>\n",
       "  </tbody>\n",
       "</table>\n",
       "</div>"
      ],
      "text/plain": [
       "  return_inout\n",
       "0       (90,9)"
      ]
     },
     "execution_count": 26,
     "metadata": {},
     "output_type": "execute_result"
    }
   ],
   "source": [
    "cur.execute('''\n",
    "           create or replace function return_inout(inout result1 int, out result2 int)\n",
    "            as $$\n",
    "            begin\n",
    "            result2 = result1;  result1= 10*result1;\n",
    "            return;\n",
    "            end\n",
    "            $$ language plpgsql;  \n",
    "            ''')\n",
    "\n",
    "\n",
    "cur.execute('''\n",
    "           select return_inout(9);\n",
    "            ''')\n",
    "\n",
    "results = cur.fetchall()\n",
    "pd.DataFrame(results, columns=['return_inout'])"
   ]
  },
  {
   "cell_type": "markdown",
   "id": "0b8b9c7c",
   "metadata": {},
   "source": [
    "### вывод таблицы customer через функцию"
   ]
  },
  {
   "cell_type": "code",
   "execution_count": 37,
   "id": "5aa72455",
   "metadata": {},
   "outputs": [
    {
     "data": {
      "text/html": [
       "<div>\n",
       "<style scoped>\n",
       "    .dataframe tbody tr th:only-of-type {\n",
       "        vertical-align: middle;\n",
       "    }\n",
       "\n",
       "    .dataframe tbody tr th {\n",
       "        vertical-align: top;\n",
       "    }\n",
       "\n",
       "    .dataframe thead th {\n",
       "        text-align: right;\n",
       "    }\n",
       "</style>\n",
       "<table border=\"1\" class=\"dataframe\">\n",
       "  <thead>\n",
       "    <tr style=\"text-align: right;\">\n",
       "      <th></th>\n",
       "      <th>return_customer</th>\n",
       "    </tr>\n",
       "  </thead>\n",
       "  <tbody>\n",
       "    <tr>\n",
       "      <th>0</th>\n",
       "      <td>1</td>\n",
       "    </tr>\n",
       "  </tbody>\n",
       "</table>\n",
       "</div>"
      ],
      "text/plain": [
       "   return_customer\n",
       "0                1"
      ]
     },
     "execution_count": 37,
     "metadata": {},
     "output_type": "execute_result"
    }
   ],
   "source": [
    "cur.execute('''\n",
    "            Create or replace function return_customer(out store int) \n",
    "            as\n",
    "            --do\n",
    "            $$\n",
    "            begin\n",
    "                select store_id into store from public.customer limit 1;\n",
    "                return;\n",
    "            end \n",
    "            $$ language plpgsql; \n",
    "            ''')\n",
    "\n",
    "\n",
    "cur.execute('''\n",
    "           select * from  public.return_customer();\n",
    "            ''')\n",
    "\n",
    "results = cur.fetchall()\n",
    "pd.DataFrame(results, columns=['return_customer'])"
   ]
  },
  {
   "cell_type": "markdown",
   "id": "04b123a4",
   "metadata": {},
   "source": [
    "### транзакции в функции\n"
   ]
  },
  {
   "cell_type": "code",
   "execution_count": 43,
   "id": "6652d683",
   "metadata": {},
   "outputs": [
    {
     "data": {
      "text/html": [
       "<div>\n",
       "<style scoped>\n",
       "    .dataframe tbody tr th:only-of-type {\n",
       "        vertical-align: middle;\n",
       "    }\n",
       "\n",
       "    .dataframe tbody tr th {\n",
       "        vertical-align: top;\n",
       "    }\n",
       "\n",
       "    .dataframe thead th {\n",
       "        text-align: right;\n",
       "    }\n",
       "</style>\n",
       "<table border=\"1\" class=\"dataframe\">\n",
       "  <thead>\n",
       "    <tr style=\"text-align: right;\">\n",
       "      <th></th>\n",
       "      <th>customer_id</th>\n",
       "      <th>store_id</th>\n",
       "      <th>first_name</th>\n",
       "      <th>last_name</th>\n",
       "    </tr>\n",
       "  </thead>\n",
       "  <tbody>\n",
       "    <tr>\n",
       "      <th>0</th>\n",
       "      <td>1</td>\n",
       "      <td>1</td>\n",
       "      <td>Mike</td>\n",
       "      <td>Mike</td>\n",
       "    </tr>\n",
       "  </tbody>\n",
       "</table>\n",
       "</div>"
      ],
      "text/plain": [
       "   customer_id  store_id first_name last_name\n",
       "0            1         1       Mike      Mike"
      ]
     },
     "execution_count": 43,
     "metadata": {},
     "output_type": "execute_result"
    }
   ],
   "source": [
    "cur.execute('''\n",
    "           Create or replace function fn_transaction() returns setof customer as\n",
    "            $$\n",
    "                update customer set first_name= 'Mike' where customer_id = 1;\n",
    "                select * from customer where customer_id = 1;\n",
    "            $$ language sql;\n",
    "\n",
    "            ''')\n",
    "\n",
    "cur.execute('''\n",
    "            select * from fn_transaction();\n",
    "            ''')\n",
    "\n",
    "results = cur.fetchall()\n",
    "pd.DataFrame(results, columns=['customer_id', 'store_id', 'first_name', 'last_name'])"
   ]
  },
  {
   "cell_type": "markdown",
   "id": "91ac0447",
   "metadata": {},
   "source": [
    "### использование переменной VARIADIC массив с переменным набором аргументов\n",
    "### Выдаёт ряд целых чисел от start до stop с шагом 1\n",
    "### generate_subscripts — это «функция, возвращающая множество», которая будет возвращать несколько строк при ее вызове. "
   ]
  },
  {
   "cell_type": "code",
   "execution_count": 48,
   "id": "43d407e1",
   "metadata": {},
   "outputs": [
    {
     "data": {
      "text/html": [
       "<div>\n",
       "<style scoped>\n",
       "    .dataframe tbody tr th:only-of-type {\n",
       "        vertical-align: middle;\n",
       "    }\n",
       "\n",
       "    .dataframe tbody tr th {\n",
       "        vertical-align: top;\n",
       "    }\n",
       "\n",
       "    .dataframe thead th {\n",
       "        text-align: right;\n",
       "    }\n",
       "</style>\n",
       "<table border=\"1\" class=\"dataframe\">\n",
       "  <thead>\n",
       "    <tr style=\"text-align: right;\">\n",
       "      <th></th>\n",
       "      <th>mleast</th>\n",
       "    </tr>\n",
       "  </thead>\n",
       "  <tbody>\n",
       "    <tr>\n",
       "      <th>0</th>\n",
       "      <td>-1</td>\n",
       "    </tr>\n",
       "  </tbody>\n",
       "</table>\n",
       "</div>"
      ],
      "text/plain": [
       "  mleast\n",
       "0     -1"
      ]
     },
     "execution_count": 48,
     "metadata": {},
     "output_type": "execute_result"
    }
   ],
   "source": [
    "cur.execute('''\n",
    "            CREATE or replace FUNCTION mleast(VARIADIC arr numeric[]) \n",
    "            RETURNS numeric AS $$\n",
    "                SELECT min($1[i]) FROM generate_subscripts($1, 1) g(i);\n",
    "            $$ LANGUAGE SQL;\n",
    "\n",
    "            ''')\n",
    "\n",
    "cur.execute('''\n",
    "            SELECT mleast(9, -1, 5, 4);\n",
    "            ''')\n",
    "\n",
    "results = cur.fetchall()\n",
    "pd.DataFrame(results, columns=['mleast'])"
   ]
  },
  {
   "cell_type": "markdown",
   "id": "ac79ee66",
   "metadata": {},
   "source": [
    " ### Еще один вывод таблицы customer через функцию\n",
    " ### цикл for"
   ]
  },
  {
   "cell_type": "code",
   "execution_count": 50,
   "id": "6eb2634b",
   "metadata": {},
   "outputs": [
    {
     "data": {
      "text/html": [
       "<div>\n",
       "<style scoped>\n",
       "    .dataframe tbody tr th:only-of-type {\n",
       "        vertical-align: middle;\n",
       "    }\n",
       "\n",
       "    .dataframe tbody tr th {\n",
       "        vertical-align: top;\n",
       "    }\n",
       "\n",
       "    .dataframe thead th {\n",
       "        text-align: right;\n",
       "    }\n",
       "</style>\n",
       "<table border=\"1\" class=\"dataframe\">\n",
       "  <thead>\n",
       "    <tr style=\"text-align: right;\">\n",
       "      <th></th>\n",
       "      <th>f_name</th>\n",
       "      <th>l_name</th>\n",
       "    </tr>\n",
       "  </thead>\n",
       "  <tbody>\n",
       "    <tr>\n",
       "      <th>0</th>\n",
       "      <td>Mike</td>\n",
       "      <td>Mike</td>\n",
       "    </tr>\n",
       "  </tbody>\n",
       "</table>\n",
       "</div>"
      ],
      "text/plain": [
       "  f_name l_name\n",
       "0   Mike   Mike"
      ]
     },
     "execution_count": 50,
     "metadata": {},
     "output_type": "execute_result"
    }
   ],
   "source": [
    "cur.execute('''\n",
    "            create or replace function select_customer() \n",
    "             returns table(f_name text, l_name text) as \n",
    "             $$\n",
    "             begin  \n",
    "                 for f_name, l_name in select first_name, last_name from customer\n",
    "                 loop\n",
    "                    return next;\n",
    "                 end loop;\n",
    "             end\n",
    "             $$ language plpgsql;\n",
    "            ''')\n",
    "\n",
    "\n",
    "cur.execute('''\n",
    "             select * from select_customer();\n",
    "            ''')\n",
    "\n",
    "results = cur.fetchall()\n",
    "pd.DataFrame(results, columns=['f_name', 'l_name'])"
   ]
  },
  {
   "cell_type": "markdown",
   "id": "b46cf17b",
   "metadata": {},
   "source": [
    " ### функция возвращает сведения о времени последнего процесса vacuum, analyze\n"
   ]
  },
  {
   "cell_type": "code",
   "execution_count": 52,
   "id": "dd140231",
   "metadata": {},
   "outputs": [
    {
     "data": {
      "text/html": [
       "<div>\n",
       "<style scoped>\n",
       "    .dataframe tbody tr th:only-of-type {\n",
       "        vertical-align: middle;\n",
       "    }\n",
       "\n",
       "    .dataframe tbody tr th {\n",
       "        vertical-align: top;\n",
       "    }\n",
       "\n",
       "    .dataframe thead th {\n",
       "        text-align: right;\n",
       "    }\n",
       "</style>\n",
       "<table border=\"1\" class=\"dataframe\">\n",
       "  <thead>\n",
       "    <tr style=\"text-align: right;\">\n",
       "      <th></th>\n",
       "      <th>sql_last_v_a</th>\n",
       "    </tr>\n",
       "  </thead>\n",
       "  <tbody>\n",
       "    <tr>\n",
       "      <th>0</th>\n",
       "      <td>(humanresources,department,,)</td>\n",
       "    </tr>\n",
       "    <tr>\n",
       "      <th>1</th>\n",
       "      <td>(humanresources,employee,,)</td>\n",
       "    </tr>\n",
       "    <tr>\n",
       "      <th>2</th>\n",
       "      <td>(humanresources,employeedepartmenthistory,,)</td>\n",
       "    </tr>\n",
       "    <tr>\n",
       "      <th>3</th>\n",
       "      <td>(humanresources,employeepayhistory,,)</td>\n",
       "    </tr>\n",
       "    <tr>\n",
       "      <th>4</th>\n",
       "      <td>(humanresources,jobcandidate,,)</td>\n",
       "    </tr>\n",
       "    <tr>\n",
       "      <th>...</th>\n",
       "      <td>...</td>\n",
       "    </tr>\n",
       "    <tr>\n",
       "      <th>226</th>\n",
       "      <td>(sales,salesterritoryhistory,,)</td>\n",
       "    </tr>\n",
       "    <tr>\n",
       "      <th>227</th>\n",
       "      <td>(sales,shoppingcartitem,,)</td>\n",
       "    </tr>\n",
       "    <tr>\n",
       "      <th>228</th>\n",
       "      <td>(sales,specialoffer,,)</td>\n",
       "    </tr>\n",
       "    <tr>\n",
       "      <th>229</th>\n",
       "      <td>(sales,specialofferproduct,,)</td>\n",
       "    </tr>\n",
       "    <tr>\n",
       "      <th>230</th>\n",
       "      <td>(sales,store,,)</td>\n",
       "    </tr>\n",
       "  </tbody>\n",
       "</table>\n",
       "<p>231 rows × 1 columns</p>\n",
       "</div>"
      ],
      "text/plain": [
       "                                     sql_last_v_a\n",
       "0                   (humanresources,department,,)\n",
       "1                     (humanresources,employee,,)\n",
       "2    (humanresources,employeedepartmenthistory,,)\n",
       "3           (humanresources,employeepayhistory,,)\n",
       "4                 (humanresources,jobcandidate,,)\n",
       "..                                            ...\n",
       "226               (sales,salesterritoryhistory,,)\n",
       "227                    (sales,shoppingcartitem,,)\n",
       "228                        (sales,specialoffer,,)\n",
       "229                 (sales,specialofferproduct,,)\n",
       "230                               (sales,store,,)\n",
       "\n",
       "[231 rows x 1 columns]"
      ]
     },
     "execution_count": 52,
     "metadata": {},
     "output_type": "execute_result"
    }
   ],
   "source": [
    "cur.execute('''\n",
    "             create or replace function sql_last_v_a() \n",
    "            returns setof record as\n",
    "            'select schemaname,relname, last_vacuum, last_analyze\n",
    "            from pg_stat_all_tables\n",
    "            order by schemaname, relname;' \n",
    "            language sql; \n",
    "            ''')\n",
    "\n",
    "cur.execute('''\n",
    "            select sql_last_v_a();\n",
    "            ''')\n",
    "\n",
    "results = cur.fetchall()\n",
    "pd.DataFrame(results, columns=['sql_last_v_a'])"
   ]
  },
  {
   "cell_type": "markdown",
   "id": "5e9a161f",
   "metadata": {},
   "source": [
    "### cистемные функции https://postgrespro.ru/docs/postgrespro/13/functions-info"
   ]
  },
  {
   "cell_type": "code",
   "execution_count": 54,
   "id": "3a400d53",
   "metadata": {},
   "outputs": [
    {
     "data": {
      "text/html": [
       "<div>\n",
       "<style scoped>\n",
       "    .dataframe tbody tr th:only-of-type {\n",
       "        vertical-align: middle;\n",
       "    }\n",
       "\n",
       "    .dataframe tbody tr th {\n",
       "        vertical-align: top;\n",
       "    }\n",
       "\n",
       "    .dataframe thead th {\n",
       "        text-align: right;\n",
       "    }\n",
       "</style>\n",
       "<table border=\"1\" class=\"dataframe\">\n",
       "  <thead>\n",
       "    <tr style=\"text-align: right;\">\n",
       "      <th></th>\n",
       "      <th>current_catalog</th>\n",
       "    </tr>\n",
       "  </thead>\n",
       "  <tbody>\n",
       "    <tr>\n",
       "      <th>0</th>\n",
       "      <td>Adventureworks</td>\n",
       "    </tr>\n",
       "  </tbody>\n",
       "</table>\n",
       "</div>"
      ],
      "text/plain": [
       "  current_catalog\n",
       "0  Adventureworks"
      ]
     },
     "execution_count": 54,
     "metadata": {},
     "output_type": "execute_result"
    }
   ],
   "source": [
    "cur.execute('''\n",
    "            select current_catalog; \n",
    "            --имя текущей базы данных (в стандарте SQL она называется «каталогом»)\n",
    "            ''')\n",
    "\n",
    "\n",
    "results = cur.fetchall()\n",
    "pd.DataFrame(results, columns=['current_catalog'])"
   ]
  },
  {
   "cell_type": "code",
   "execution_count": 55,
   "id": "7359eab7",
   "metadata": {},
   "outputs": [
    {
     "data": {
      "text/html": [
       "<div>\n",
       "<style scoped>\n",
       "    .dataframe tbody tr th:only-of-type {\n",
       "        vertical-align: middle;\n",
       "    }\n",
       "\n",
       "    .dataframe tbody tr th {\n",
       "        vertical-align: top;\n",
       "    }\n",
       "\n",
       "    .dataframe thead th {\n",
       "        text-align: right;\n",
       "    }\n",
       "</style>\n",
       "<table border=\"1\" class=\"dataframe\">\n",
       "  <thead>\n",
       "    <tr style=\"text-align: right;\">\n",
       "      <th></th>\n",
       "      <th>current_database</th>\n",
       "    </tr>\n",
       "  </thead>\n",
       "  <tbody>\n",
       "    <tr>\n",
       "      <th>0</th>\n",
       "      <td>Adventureworks</td>\n",
       "    </tr>\n",
       "  </tbody>\n",
       "</table>\n",
       "</div>"
      ],
      "text/plain": [
       "  current_database\n",
       "0   Adventureworks"
      ]
     },
     "execution_count": 55,
     "metadata": {},
     "output_type": "execute_result"
    }
   ],
   "source": [
    "cur.execute('''   \n",
    "        select current_database();\n",
    "        --имя текущей базы данных\n",
    "            ''')\n",
    "\n",
    "\n",
    "results = cur.fetchall()\n",
    "pd.DataFrame(results, columns=['current_database'])"
   ]
  },
  {
   "cell_type": "code",
   "execution_count": 56,
   "id": "c54ec668",
   "metadata": {},
   "outputs": [
    {
     "data": {
      "text/html": [
       "<div>\n",
       "<style scoped>\n",
       "    .dataframe tbody tr th:only-of-type {\n",
       "        vertical-align: middle;\n",
       "    }\n",
       "\n",
       "    .dataframe tbody tr th {\n",
       "        vertical-align: top;\n",
       "    }\n",
       "\n",
       "    .dataframe thead th {\n",
       "        text-align: right;\n",
       "    }\n",
       "</style>\n",
       "<table border=\"1\" class=\"dataframe\">\n",
       "  <thead>\n",
       "    <tr style=\"text-align: right;\">\n",
       "      <th></th>\n",
       "      <th>current_user</th>\n",
       "    </tr>\n",
       "  </thead>\n",
       "  <tbody>\n",
       "    <tr>\n",
       "      <th>0</th>\n",
       "      <td>postgres</td>\n",
       "    </tr>\n",
       "  </tbody>\n",
       "</table>\n",
       "</div>"
      ],
      "text/plain": [
       "  current_user\n",
       "0     postgres"
      ]
     },
     "execution_count": 56,
     "metadata": {},
     "output_type": "execute_result"
    }
   ],
   "source": [
    "cur.execute('''   \n",
    "        select current_user;\n",
    "            ''')\n",
    "\n",
    "\n",
    "results = cur.fetchall()\n",
    "pd.DataFrame(results, columns=['current_user'])"
   ]
  },
  {
   "cell_type": "code",
   "execution_count": 57,
   "id": "a19691c8",
   "metadata": {
    "scrolled": true
   },
   "outputs": [
    {
     "data": {
      "text/html": [
       "<div>\n",
       "<style scoped>\n",
       "    .dataframe tbody tr th:only-of-type {\n",
       "        vertical-align: middle;\n",
       "    }\n",
       "\n",
       "    .dataframe tbody tr th {\n",
       "        vertical-align: top;\n",
       "    }\n",
       "\n",
       "    .dataframe thead th {\n",
       "        text-align: right;\n",
       "    }\n",
       "</style>\n",
       "<table border=\"1\" class=\"dataframe\">\n",
       "  <thead>\n",
       "    <tr style=\"text-align: right;\">\n",
       "      <th></th>\n",
       "      <th>version</th>\n",
       "    </tr>\n",
       "  </thead>\n",
       "  <tbody>\n",
       "    <tr>\n",
       "      <th>0</th>\n",
       "      <td>PostgreSQL 15.1 (Debian 15.1-1.pgdg110+1) on a...</td>\n",
       "    </tr>\n",
       "  </tbody>\n",
       "</table>\n",
       "</div>"
      ],
      "text/plain": [
       "                                             version\n",
       "0  PostgreSQL 15.1 (Debian 15.1-1.pgdg110+1) on a..."
      ]
     },
     "execution_count": 57,
     "metadata": {},
     "output_type": "execute_result"
    }
   ],
   "source": [
    "cur.execute('''   \n",
    "        select version();\n",
    "            ''')\n",
    "\n",
    "\n",
    "results = cur.fetchall()\n",
    "pd.DataFrame(results, columns=['version'])"
   ]
  },
  {
   "cell_type": "markdown",
   "id": "827e8b1b",
   "metadata": {},
   "source": [
    "### CTE FUNC"
   ]
  },
  {
   "cell_type": "code",
   "execution_count": 68,
   "id": "3ab8922a",
   "metadata": {},
   "outputs": [
    {
     "name": "stderr",
     "output_type": "stream",
     "text": [
      "/Users/denis/opt/anaconda3/lib/python3.9/site-packages/pandas/io/sql.py:761: UserWarning: pandas only support SQLAlchemy connectable(engine/connection) ordatabase string URI or sqlite3 DBAPI2 connectionother DBAPI2 objects are not tested, please consider using SQLAlchemy\n",
      "  warnings.warn(\n"
     ]
    },
    {
     "data": {
      "text/html": [
       "<div>\n",
       "<style scoped>\n",
       "    .dataframe tbody tr th:only-of-type {\n",
       "        vertical-align: middle;\n",
       "    }\n",
       "\n",
       "    .dataframe tbody tr th {\n",
       "        vertical-align: top;\n",
       "    }\n",
       "\n",
       "    .dataframe thead th {\n",
       "        text-align: right;\n",
       "    }\n",
       "</style>\n",
       "<table border=\"1\" class=\"dataframe\">\n",
       "  <thead>\n",
       "    <tr style=\"text-align: right;\">\n",
       "      <th></th>\n",
       "      <th>countryregioncode</th>\n",
       "      <th>currencycode</th>\n",
       "      <th>modifieddate</th>\n",
       "    </tr>\n",
       "  </thead>\n",
       "  <tbody>\n",
       "    <tr>\n",
       "      <th>0</th>\n",
       "      <td>AE</td>\n",
       "      <td>AED</td>\n",
       "      <td>2014-02-08 10:17:21.510</td>\n",
       "    </tr>\n",
       "    <tr>\n",
       "      <th>1</th>\n",
       "      <td>AR</td>\n",
       "      <td>ARS</td>\n",
       "      <td>2014-02-08 10:17:21.510</td>\n",
       "    </tr>\n",
       "    <tr>\n",
       "      <th>2</th>\n",
       "      <td>AT</td>\n",
       "      <td>ATS</td>\n",
       "      <td>2014-02-08 10:17:21.510</td>\n",
       "    </tr>\n",
       "    <tr>\n",
       "      <th>3</th>\n",
       "      <td>AT</td>\n",
       "      <td>EUR</td>\n",
       "      <td>2008-04-30 00:00:00.000</td>\n",
       "    </tr>\n",
       "    <tr>\n",
       "      <th>4</th>\n",
       "      <td>AU</td>\n",
       "      <td>AUD</td>\n",
       "      <td>2014-02-08 10:17:21.510</td>\n",
       "    </tr>\n",
       "  </tbody>\n",
       "</table>\n",
       "</div>"
      ],
      "text/plain": [
       "  countryregioncode currencycode            modifieddate\n",
       "0                AE          AED 2014-02-08 10:17:21.510\n",
       "1                AR          ARS 2014-02-08 10:17:21.510\n",
       "2                AT          ATS 2014-02-08 10:17:21.510\n",
       "3                AT          EUR 2008-04-30 00:00:00.000\n",
       "4                AU          AUD 2014-02-08 10:17:21.510"
      ]
     },
     "execution_count": 68,
     "metadata": {},
     "output_type": "execute_result"
    }
   ],
   "source": [
    "query = f'''\n",
    "\n",
    "     select *\n",
    "     FROM sales.countryregioncurrency\n",
    "  \n",
    "'''\n",
    "df = pd.read_sql_query(query, conn)\n",
    "df.head()"
   ]
  },
  {
   "cell_type": "code",
   "execution_count": 73,
   "id": "60b1f150",
   "metadata": {},
   "outputs": [
    {
     "data": {
      "text/html": [
       "<div>\n",
       "<style scoped>\n",
       "    .dataframe tbody tr th:only-of-type {\n",
       "        vertical-align: middle;\n",
       "    }\n",
       "\n",
       "    .dataframe tbody tr th {\n",
       "        vertical-align: top;\n",
       "    }\n",
       "\n",
       "    .dataframe thead th {\n",
       "        text-align: right;\n",
       "    }\n",
       "</style>\n",
       "<table border=\"1\" class=\"dataframe\">\n",
       "  <thead>\n",
       "    <tr style=\"text-align: right;\">\n",
       "      <th></th>\n",
       "      <th>countryregioncurrency</th>\n",
       "    </tr>\n",
       "  </thead>\n",
       "  <tbody>\n",
       "    <tr>\n",
       "      <th>0</th>\n",
       "      <td>AE AED 2014-02-08 10:17:21.51</td>\n",
       "    </tr>\n",
       "  </tbody>\n",
       "</table>\n",
       "</div>"
      ],
      "text/plain": [
       "           countryregioncurrency\n",
       "0  AE AED 2014-02-08 10:17:21.51"
      ]
     },
     "execution_count": 73,
     "metadata": {},
     "output_type": "execute_result"
    }
   ],
   "source": [
    "cur.execute('''   \n",
    "        Create or replace function public.cte_in_function()\n",
    "            returns text\n",
    "            --returns table(full_address text) \n",
    "            as $$\n",
    "            WITH countryregioncurrency_cte AS (\n",
    "                select  countryregioncode || ' ' ||\n",
    "                currencycode || ' ' || modifieddate as countryregioncurrency\n",
    "                FROM sales.countryregioncurrency\n",
    "               )\n",
    "            SELECT countryregioncurrency\n",
    "            FROM countryregioncurrency_cte\n",
    "            $$ Language sql;\n",
    "            ''')\n",
    "\n",
    "cur.execute('''   \n",
    "        select public.cte_in_function();\n",
    "            ''')\n",
    "\n",
    "results = cur.fetchall()\n",
    "pd.DataFrame(results, columns=['countryregioncurrency'])"
   ]
  },
  {
   "cell_type": "code",
   "execution_count": 64,
   "id": "da66b810",
   "metadata": {},
   "outputs": [],
   "source": [
    "conn.rollback()\n",
    "conn.close()"
   ]
  }
 ],
 "metadata": {
  "kernelspec": {
   "display_name": "Python 3 (ipykernel)",
   "language": "python",
   "name": "python3"
  },
  "language_info": {
   "codemirror_mode": {
    "name": "ipython",
    "version": 3
   },
   "file_extension": ".py",
   "mimetype": "text/x-python",
   "name": "python",
   "nbconvert_exporter": "python",
   "pygments_lexer": "ipython3",
   "version": "3.9.12"
  }
 },
 "nbformat": 4,
 "nbformat_minor": 5
}
