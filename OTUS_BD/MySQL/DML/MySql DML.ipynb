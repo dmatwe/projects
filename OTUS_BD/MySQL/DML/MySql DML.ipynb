{
 "cells": [
  {
   "cell_type": "code",
   "execution_count": 18,
   "id": "94015550",
   "metadata": {},
   "outputs": [],
   "source": [
    "import pandas as pd\n",
    "import mysql.connector\n",
    "import sqlalchemy"
   ]
  },
  {
   "cell_type": "code",
   "execution_count": 19,
   "id": "6daf5ffd",
   "metadata": {},
   "outputs": [],
   "source": [
    "cnx = mysql.connector.connect(user='root', password='password', host='127.0.0.1', database='otus_db', port='3306')"
   ]
  },
  {
   "cell_type": "code",
   "execution_count": 14,
   "id": "03138a57",
   "metadata": {},
   "outputs": [
    {
     "data": {
      "text/plain": [
       "True"
      ]
     },
     "execution_count": 14,
     "metadata": {},
     "output_type": "execute_result"
    }
   ],
   "source": [
    "cnx.close()\n",
    "cur.close()"
   ]
  },
  {
   "cell_type": "code",
   "execution_count": 20,
   "id": "78682f85",
   "metadata": {},
   "outputs": [],
   "source": [
    "cur = cnx.cursor()"
   ]
  },
  {
   "cell_type": "markdown",
   "id": "b899969f",
   "metadata": {},
   "source": [
    "#### Дроп / создание таблицы customers (клиенты)\n",
    "##### customer_id -  id клиента\n",
    "##### email -  почта клиента\n",
    "##### gender -  пол клиента\n",
    "##### city -  город клиента"
   ]
  },
  {
   "cell_type": "code",
   "execution_count": 27,
   "id": "448c8d2f",
   "metadata": {},
   "outputs": [],
   "source": [
    "cur.execute('''\n",
    "            DROP TABLE IF EXISTS customers;\n",
    "            ''')\n",
    "\n",
    "cur.execute('''\n",
    "            CREATE TABLE customers (\n",
    "            customer_id SERIAL PRIMARY KEY,\n",
    "            email VARCHAR(255) UNIQUE NOT NULL,\n",
    "            gender CHAR(1) NOT NULL,\n",
    "            city VARCHAR(255)\n",
    "            );\n",
    "            ''')"
   ]
  },
  {
   "cell_type": "markdown",
   "id": "ac0cf85c",
   "metadata": {},
   "source": [
    "#### Наполнение таблицы customers"
   ]
  },
  {
   "cell_type": "code",
   "execution_count": 28,
   "id": "ce5a5529",
   "metadata": {},
   "outputs": [
    {
     "name": "stderr",
     "output_type": "stream",
     "text": [
      "/Users/denis/opt/anaconda3/lib/python3.9/site-packages/pandas/io/sql.py:761: UserWarning: pandas only support SQLAlchemy connectable(engine/connection) ordatabase string URI or sqlite3 DBAPI2 connectionother DBAPI2 objects are not tested, please consider using SQLAlchemy\n",
      "  warnings.warn(\n"
     ]
    },
    {
     "data": {
      "text/html": [
       "<div>\n",
       "<style scoped>\n",
       "    .dataframe tbody tr th:only-of-type {\n",
       "        vertical-align: middle;\n",
       "    }\n",
       "\n",
       "    .dataframe tbody tr th {\n",
       "        vertical-align: top;\n",
       "    }\n",
       "\n",
       "    .dataframe thead th {\n",
       "        text-align: right;\n",
       "    }\n",
       "</style>\n",
       "<table border=\"1\" class=\"dataframe\">\n",
       "  <thead>\n",
       "    <tr style=\"text-align: right;\">\n",
       "      <th></th>\n",
       "      <th>customer_id</th>\n",
       "      <th>email</th>\n",
       "      <th>gender</th>\n",
       "      <th>city</th>\n",
       "    </tr>\n",
       "  </thead>\n",
       "  <tbody>\n",
       "    <tr>\n",
       "      <th>0</th>\n",
       "      <td>1</td>\n",
       "      <td>dmitry@example.com</td>\n",
       "      <td>М</td>\n",
       "      <td>Зеленоград</td>\n",
       "    </tr>\n",
       "    <tr>\n",
       "      <th>1</th>\n",
       "      <td>2</td>\n",
       "      <td>vasya@example.com</td>\n",
       "      <td>М</td>\n",
       "      <td>Москва</td>\n",
       "    </tr>\n",
       "    <tr>\n",
       "      <th>2</th>\n",
       "      <td>3</td>\n",
       "      <td>olga@example.com</td>\n",
       "      <td>Ж</td>\n",
       "      <td>Волгоград</td>\n",
       "    </tr>\n",
       "  </tbody>\n",
       "</table>\n",
       "</div>"
      ],
      "text/plain": [
       "   customer_id               email gender        city\n",
       "0            1  dmitry@example.com      М  Зеленоград\n",
       "1            2   vasya@example.com      М      Москва\n",
       "2            3    olga@example.com      Ж   Волгоград"
      ]
     },
     "execution_count": 28,
     "metadata": {},
     "output_type": "execute_result"
    }
   ],
   "source": [
    "cur.execute('''\n",
    "           INSERT  INTO customers\n",
    "           (email, gender, city)\n",
    "            VALUES\n",
    "            ('dmitry@example.com', 'М', 'Зеленоград'),\n",
    "            ('vasya@example.com', 'М', 'Москва'),\n",
    "            ('olga@example.com', 'Ж', 'Волгоград');\n",
    "            ''')\n",
    "\n",
    "query = f'''\n",
    "            SELECT * from customers;\n",
    "'''\n",
    "df = pd.read_sql_query(query, cnx)\n",
    "df"
   ]
  },
  {
   "cell_type": "markdown",
   "id": "982ad8ef",
   "metadata": {},
   "source": [
    "#### Дроп / создание таблицы sessions (сессии клиентов)\n",
    "##### session_id - id сессии \n",
    "##### customer_id -  id клиента\n",
    "##### email -  почта клиента\n",
    "##### gender -  пол клиента\n",
    "##### city -  город клиента"
   ]
  },
  {
   "cell_type": "code",
   "execution_count": 29,
   "id": "910650fd",
   "metadata": {},
   "outputs": [],
   "source": [
    "cur.execute('''\n",
    "            DROP TABLE IF EXISTS sessions;\n",
    "            ''')\n",
    "\n",
    "cur.execute('''\n",
    "            CREATE TABLE sessions (\n",
    "                session_id SERIAL PRIMARY KEY,\n",
    "                customer_id  BIGINT UNSIGNED NOT NULL,\n",
    "                visit_dttm DATETIME NOT null,\n",
    "                Purchase_flg TINYINT(1) NOT null,\n",
    "            CONSTRAINT fk__sessions__customers\n",
    "                FOREIGN KEY (customer_id)\n",
    "                REFERENCES customers (customer_id)\n",
    "            );\n",
    "            ''')"
   ]
  },
  {
   "cell_type": "markdown",
   "id": "e5e46ec0",
   "metadata": {},
   "source": [
    "#### Наполнение таблицы sessions"
   ]
  },
  {
   "cell_type": "code",
   "execution_count": 40,
   "id": "1cb94c01",
   "metadata": {},
   "outputs": [
    {
     "name": "stderr",
     "output_type": "stream",
     "text": [
      "/Users/denis/opt/anaconda3/lib/python3.9/site-packages/pandas/io/sql.py:761: UserWarning: pandas only support SQLAlchemy connectable(engine/connection) ordatabase string URI or sqlite3 DBAPI2 connectionother DBAPI2 objects are not tested, please consider using SQLAlchemy\n",
      "  warnings.warn(\n"
     ]
    },
    {
     "data": {
      "text/html": [
       "<div>\n",
       "<style scoped>\n",
       "    .dataframe tbody tr th:only-of-type {\n",
       "        vertical-align: middle;\n",
       "    }\n",
       "\n",
       "    .dataframe tbody tr th {\n",
       "        vertical-align: top;\n",
       "    }\n",
       "\n",
       "    .dataframe thead th {\n",
       "        text-align: right;\n",
       "    }\n",
       "</style>\n",
       "<table border=\"1\" class=\"dataframe\">\n",
       "  <thead>\n",
       "    <tr style=\"text-align: right;\">\n",
       "      <th></th>\n",
       "      <th>session_id</th>\n",
       "      <th>customer_id</th>\n",
       "      <th>visit_dttm</th>\n",
       "      <th>Purchase_flg</th>\n",
       "    </tr>\n",
       "  </thead>\n",
       "  <tbody>\n",
       "    <tr>\n",
       "      <th>0</th>\n",
       "      <td>7</td>\n",
       "      <td>1</td>\n",
       "      <td>2023-09-04 18:16:25</td>\n",
       "      <td>0</td>\n",
       "    </tr>\n",
       "    <tr>\n",
       "      <th>1</th>\n",
       "      <td>8</td>\n",
       "      <td>2</td>\n",
       "      <td>2023-09-04 18:16:25</td>\n",
       "      <td>0</td>\n",
       "    </tr>\n",
       "    <tr>\n",
       "      <th>2</th>\n",
       "      <td>9</td>\n",
       "      <td>3</td>\n",
       "      <td>2023-09-04 18:16:25</td>\n",
       "      <td>0</td>\n",
       "    </tr>\n",
       "    <tr>\n",
       "      <th>3</th>\n",
       "      <td>10</td>\n",
       "      <td>1</td>\n",
       "      <td>2023-09-05 18:16:25</td>\n",
       "      <td>1</td>\n",
       "    </tr>\n",
       "    <tr>\n",
       "      <th>4</th>\n",
       "      <td>11</td>\n",
       "      <td>2</td>\n",
       "      <td>2023-09-05 18:16:25</td>\n",
       "      <td>0</td>\n",
       "    </tr>\n",
       "    <tr>\n",
       "      <th>5</th>\n",
       "      <td>12</td>\n",
       "      <td>3</td>\n",
       "      <td>2023-09-05 18:16:25</td>\n",
       "      <td>1</td>\n",
       "    </tr>\n",
       "  </tbody>\n",
       "</table>\n",
       "</div>"
      ],
      "text/plain": [
       "   session_id  customer_id          visit_dttm  Purchase_flg\n",
       "0           7            1 2023-09-04 18:16:25             0\n",
       "1           8            2 2023-09-04 18:16:25             0\n",
       "2           9            3 2023-09-04 18:16:25             0\n",
       "3          10            1 2023-09-05 18:16:25             1\n",
       "4          11            2 2023-09-05 18:16:25             0\n",
       "5          12            3 2023-09-05 18:16:25             1"
      ]
     },
     "execution_count": 40,
     "metadata": {},
     "output_type": "execute_result"
    }
   ],
   "source": [
    "cur.execute('''\n",
    "           INSERT  INTO sessions\n",
    "           (customer_id, visit_dttm, Purchase_flg)\n",
    "            VALUES\n",
    "            ('1', now() - INTERVAL 1 DAY , 0),\n",
    "            ('2', now() - INTERVAL 1 DAY, 0),\n",
    "            ('3', now() - INTERVAL 1 DAY, 0),\n",
    "            ('1', now(), 1),\n",
    "            ('2', now(), 0),\n",
    "            ('3', now(), 1);;\n",
    "            ''')\n",
    "\n",
    "query = f'''\n",
    "            SELECT * from sessions;\n",
    "'''\n",
    "df = pd.read_sql_query(query, cnx)\n",
    "df"
   ]
  },
  {
   "cell_type": "markdown",
   "id": "023e0da7",
   "metadata": {},
   "source": [
    "#### inner join\n",
    "##### Посмотреть данные клиентов и сессий с флагом покупки "
   ]
  },
  {
   "cell_type": "code",
   "execution_count": 45,
   "id": "a5b5f580",
   "metadata": {
    "scrolled": true
   },
   "outputs": [
    {
     "name": "stderr",
     "output_type": "stream",
     "text": [
      "/Users/denis/opt/anaconda3/lib/python3.9/site-packages/pandas/io/sql.py:761: UserWarning: pandas only support SQLAlchemy connectable(engine/connection) ordatabase string URI or sqlite3 DBAPI2 connectionother DBAPI2 objects are not tested, please consider using SQLAlchemy\n",
      "  warnings.warn(\n"
     ]
    },
    {
     "data": {
      "text/html": [
       "<div>\n",
       "<style scoped>\n",
       "    .dataframe tbody tr th:only-of-type {\n",
       "        vertical-align: middle;\n",
       "    }\n",
       "\n",
       "    .dataframe tbody tr th {\n",
       "        vertical-align: top;\n",
       "    }\n",
       "\n",
       "    .dataframe thead th {\n",
       "        text-align: right;\n",
       "    }\n",
       "</style>\n",
       "<table border=\"1\" class=\"dataframe\">\n",
       "  <thead>\n",
       "    <tr style=\"text-align: right;\">\n",
       "      <th></th>\n",
       "      <th>customer_id</th>\n",
       "      <th>email</th>\n",
       "      <th>gender</th>\n",
       "      <th>city</th>\n",
       "      <th>session_id</th>\n",
       "      <th>customer_id</th>\n",
       "      <th>visit_dttm</th>\n",
       "      <th>Purchase_flg</th>\n",
       "    </tr>\n",
       "  </thead>\n",
       "  <tbody>\n",
       "    <tr>\n",
       "      <th>0</th>\n",
       "      <td>1</td>\n",
       "      <td>dmitry@example.com</td>\n",
       "      <td>М</td>\n",
       "      <td>Зеленоград</td>\n",
       "      <td>10</td>\n",
       "      <td>1</td>\n",
       "      <td>2023-09-05 18:16:25</td>\n",
       "      <td>1</td>\n",
       "    </tr>\n",
       "    <tr>\n",
       "      <th>1</th>\n",
       "      <td>3</td>\n",
       "      <td>olga@example.com</td>\n",
       "      <td>Ж</td>\n",
       "      <td>Волгоград</td>\n",
       "      <td>12</td>\n",
       "      <td>3</td>\n",
       "      <td>2023-09-05 18:16:25</td>\n",
       "      <td>1</td>\n",
       "    </tr>\n",
       "  </tbody>\n",
       "</table>\n",
       "</div>"
      ],
      "text/plain": [
       "   customer_id               email gender        city  session_id  \\\n",
       "0            1  dmitry@example.com      М  Зеленоград          10   \n",
       "1            3    olga@example.com      Ж   Волгоград          12   \n",
       "\n",
       "   customer_id          visit_dttm  Purchase_flg  \n",
       "0            1 2023-09-05 18:16:25             1  \n",
       "1            3 2023-09-05 18:16:25             1  "
      ]
     },
     "execution_count": 45,
     "metadata": {},
     "output_type": "execute_result"
    }
   ],
   "source": [
    "query = f'''\n",
    "            SELECT * from customers l\n",
    "            join sessions r\n",
    "             on l.customer_id = r.customer_id\n",
    "             where Purchase_flg = 1;\n",
    "'''\n",
    "df = pd.read_sql_query(query, cnx)\n",
    "df"
   ]
  },
  {
   "cell_type": "markdown",
   "id": "9faa6ef6",
   "metadata": {},
   "source": [
    "#### left join \n",
    "##### Посмотреть данные клиентов у которых нет сессий"
   ]
  },
  {
   "cell_type": "code",
   "execution_count": null,
   "id": "daf94a6a",
   "metadata": {},
   "outputs": [],
   "source": [
    "cur.execute('''\n",
    "           INSERT  INTO customers\n",
    "           (email, gender, city)\n",
    "            VALUES\n",
    "            ('denis@example.com', 'М', 'Питер');\n",
    "            ''')"
   ]
  },
  {
   "cell_type": "code",
   "execution_count": 49,
   "id": "6fd8533d",
   "metadata": {},
   "outputs": [
    {
     "name": "stderr",
     "output_type": "stream",
     "text": [
      "/Users/denis/opt/anaconda3/lib/python3.9/site-packages/pandas/io/sql.py:761: UserWarning: pandas only support SQLAlchemy connectable(engine/connection) ordatabase string URI or sqlite3 DBAPI2 connectionother DBAPI2 objects are not tested, please consider using SQLAlchemy\n",
      "  warnings.warn(\n"
     ]
    },
    {
     "data": {
      "text/html": [
       "<div>\n",
       "<style scoped>\n",
       "    .dataframe tbody tr th:only-of-type {\n",
       "        vertical-align: middle;\n",
       "    }\n",
       "\n",
       "    .dataframe tbody tr th {\n",
       "        vertical-align: top;\n",
       "    }\n",
       "\n",
       "    .dataframe thead th {\n",
       "        text-align: right;\n",
       "    }\n",
       "</style>\n",
       "<table border=\"1\" class=\"dataframe\">\n",
       "  <thead>\n",
       "    <tr style=\"text-align: right;\">\n",
       "      <th></th>\n",
       "      <th>customer_id</th>\n",
       "      <th>email</th>\n",
       "      <th>gender</th>\n",
       "      <th>city</th>\n",
       "      <th>session_id</th>\n",
       "      <th>customer_id</th>\n",
       "      <th>visit_dttm</th>\n",
       "      <th>Purchase_flg</th>\n",
       "    </tr>\n",
       "  </thead>\n",
       "  <tbody>\n",
       "    <tr>\n",
       "      <th>0</th>\n",
       "      <td>4</td>\n",
       "      <td>denis@example.com</td>\n",
       "      <td>М</td>\n",
       "      <td>Питер</td>\n",
       "      <td>None</td>\n",
       "      <td>None</td>\n",
       "      <td>None</td>\n",
       "      <td>None</td>\n",
       "    </tr>\n",
       "  </tbody>\n",
       "</table>\n",
       "</div>"
      ],
      "text/plain": [
       "  customer_id              email gender   city session_id customer_id  \\\n",
       "0           4  denis@example.com      М  Питер       None        None   \n",
       "\n",
       "  visit_dttm Purchase_flg  \n",
       "0       None         None  "
      ]
     },
     "execution_count": 49,
     "metadata": {},
     "output_type": "execute_result"
    }
   ],
   "source": [
    "query = f'''\n",
    "            SELECT * from customers l\n",
    "            left join sessions r\n",
    "             on l.customer_id = r.customer_id\n",
    "             where session_id is null;\n",
    "'''\n",
    "df = pd.read_sql_query(query, cnx)\n",
    "df"
   ]
  },
  {
   "cell_type": "markdown",
   "id": "44dbd070",
   "metadata": {},
   "source": [
    "#### 5 запросов с WHERE с использованием разных операторов"
   ]
  },
  {
   "cell_type": "markdown",
   "id": "4e57a1ba",
   "metadata": {},
   "source": [
    "#### 1) Создадим агрегат витрину с количеством покупок у клиентов и зальем в нее данные "
   ]
  },
  {
   "cell_type": "code",
   "execution_count": 51,
   "id": "54801d8e",
   "metadata": {},
   "outputs": [],
   "source": [
    "cur.execute('''\n",
    "            CREATE TABLE p_sessions_count (\n",
    "            customer_id BIGINT UNSIGNED NOT NULL,\n",
    "            count BIGINT UNSIGNED NOT NULL,\n",
    "            CONSTRAINT fk__p_sessions_count__customers\n",
    "                FOREIGN KEY (customer_id)\n",
    "                REFERENCES customers (customer_id)\n",
    "            );\n",
    "            ''')"
   ]
  },
  {
   "cell_type": "code",
   "execution_count": 56,
   "id": "ae01e774",
   "metadata": {},
   "outputs": [
    {
     "name": "stderr",
     "output_type": "stream",
     "text": [
      "/Users/denis/opt/anaconda3/lib/python3.9/site-packages/pandas/io/sql.py:761: UserWarning: pandas only support SQLAlchemy connectable(engine/connection) ordatabase string URI or sqlite3 DBAPI2 connectionother DBAPI2 objects are not tested, please consider using SQLAlchemy\n",
      "  warnings.warn(\n"
     ]
    },
    {
     "data": {
      "text/html": [
       "<div>\n",
       "<style scoped>\n",
       "    .dataframe tbody tr th:only-of-type {\n",
       "        vertical-align: middle;\n",
       "    }\n",
       "\n",
       "    .dataframe tbody tr th {\n",
       "        vertical-align: top;\n",
       "    }\n",
       "\n",
       "    .dataframe thead th {\n",
       "        text-align: right;\n",
       "    }\n",
       "</style>\n",
       "<table border=\"1\" class=\"dataframe\">\n",
       "  <thead>\n",
       "    <tr style=\"text-align: right;\">\n",
       "      <th></th>\n",
       "      <th>customer_id</th>\n",
       "      <th>count</th>\n",
       "    </tr>\n",
       "  </thead>\n",
       "  <tbody>\n",
       "    <tr>\n",
       "      <th>0</th>\n",
       "      <td>1</td>\n",
       "      <td>1</td>\n",
       "    </tr>\n",
       "    <tr>\n",
       "      <th>1</th>\n",
       "      <td>3</td>\n",
       "      <td>1</td>\n",
       "    </tr>\n",
       "  </tbody>\n",
       "</table>\n",
       "</div>"
      ],
      "text/plain": [
       "   customer_id  count\n",
       "0            1      1\n",
       "1            3      1"
      ]
     },
     "execution_count": 56,
     "metadata": {},
     "output_type": "execute_result"
    }
   ],
   "source": [
    "cur.execute('''\n",
    "            INSERT INTO p_sessions_count\n",
    "            (customer_id, count)\n",
    "            SELECT \n",
    "                customer_id,\n",
    "                count(*)\n",
    "            FROM sessions\n",
    "            WHERE Purchase_flg = 1\n",
    "            GROUP BY customer_id;\n",
    "            ''')\n",
    "\n",
    "query = f'''\n",
    "            SELECT * from p_sessions_count\n",
    "'''\n",
    "df = pd.read_sql_query(query, cnx)\n",
    "df"
   ]
  },
  {
   "cell_type": "markdown",
   "id": "f3e70b8e",
   "metadata": {},
   "source": [
    "#### 2) Обновим город клиента"
   ]
  },
  {
   "cell_type": "code",
   "execution_count": 61,
   "id": "4a7a1188",
   "metadata": {},
   "outputs": [
    {
     "name": "stderr",
     "output_type": "stream",
     "text": [
      "/Users/denis/opt/anaconda3/lib/python3.9/site-packages/pandas/io/sql.py:761: UserWarning: pandas only support SQLAlchemy connectable(engine/connection) ordatabase string URI or sqlite3 DBAPI2 connectionother DBAPI2 objects are not tested, please consider using SQLAlchemy\n",
      "  warnings.warn(\n"
     ]
    },
    {
     "data": {
      "text/html": [
       "<div>\n",
       "<style scoped>\n",
       "    .dataframe tbody tr th:only-of-type {\n",
       "        vertical-align: middle;\n",
       "    }\n",
       "\n",
       "    .dataframe tbody tr th {\n",
       "        vertical-align: top;\n",
       "    }\n",
       "\n",
       "    .dataframe thead th {\n",
       "        text-align: right;\n",
       "    }\n",
       "</style>\n",
       "<table border=\"1\" class=\"dataframe\">\n",
       "  <thead>\n",
       "    <tr style=\"text-align: right;\">\n",
       "      <th></th>\n",
       "      <th>customer_id</th>\n",
       "      <th>email</th>\n",
       "      <th>gender</th>\n",
       "      <th>city</th>\n",
       "    </tr>\n",
       "  </thead>\n",
       "  <tbody>\n",
       "    <tr>\n",
       "      <th>0</th>\n",
       "      <td>1</td>\n",
       "      <td>dmitry@example.com</td>\n",
       "      <td>М</td>\n",
       "      <td>Зеленоград</td>\n",
       "    </tr>\n",
       "    <tr>\n",
       "      <th>1</th>\n",
       "      <td>2</td>\n",
       "      <td>vasya@example.com</td>\n",
       "      <td>М</td>\n",
       "      <td>Москва</td>\n",
       "    </tr>\n",
       "    <tr>\n",
       "      <th>2</th>\n",
       "      <td>3</td>\n",
       "      <td>olga@example.com</td>\n",
       "      <td>Ж</td>\n",
       "      <td>Волгоград</td>\n",
       "    </tr>\n",
       "    <tr>\n",
       "      <th>3</th>\n",
       "      <td>4</td>\n",
       "      <td>denis@example.com</td>\n",
       "      <td>М</td>\n",
       "      <td>Москва</td>\n",
       "    </tr>\n",
       "  </tbody>\n",
       "</table>\n",
       "</div>"
      ],
      "text/plain": [
       "   customer_id               email gender        city\n",
       "0            1  dmitry@example.com      М  Зеленоград\n",
       "1            2   vasya@example.com      М      Москва\n",
       "2            3    olga@example.com      Ж   Волгоград\n",
       "3            4   denis@example.com      М      Москва"
      ]
     },
     "execution_count": 61,
     "metadata": {},
     "output_type": "execute_result"
    }
   ],
   "source": [
    "cur.execute('''\n",
    "            UPDATE customers\n",
    "            SET city = 'Москва'\n",
    "            WHERE customer_id = 4\n",
    "            ''')\n",
    "\n",
    "query = f'''\n",
    "            SELECT * from customers\n",
    "'''\n",
    "df = pd.read_sql_query(query, cnx)\n",
    "df"
   ]
  },
  {
   "cell_type": "markdown",
   "id": "34521c7a",
   "metadata": {},
   "source": [
    "#### 3) Удалить клиента из таблицы"
   ]
  },
  {
   "cell_type": "code",
   "execution_count": 67,
   "id": "3d36c01b",
   "metadata": {
    "scrolled": true
   },
   "outputs": [
    {
     "data": {
      "text/html": [
       "<div>\n",
       "<style scoped>\n",
       "    .dataframe tbody tr th:only-of-type {\n",
       "        vertical-align: middle;\n",
       "    }\n",
       "\n",
       "    .dataframe tbody tr th {\n",
       "        vertical-align: top;\n",
       "    }\n",
       "\n",
       "    .dataframe thead th {\n",
       "        text-align: right;\n",
       "    }\n",
       "</style>\n",
       "<table border=\"1\" class=\"dataframe\">\n",
       "  <thead>\n",
       "    <tr style=\"text-align: right;\">\n",
       "      <th></th>\n",
       "      <th>customer_id</th>\n",
       "      <th>email</th>\n",
       "      <th>gender</th>\n",
       "      <th>city</th>\n",
       "    </tr>\n",
       "  </thead>\n",
       "  <tbody>\n",
       "    <tr>\n",
       "      <th>0</th>\n",
       "      <td>1</td>\n",
       "      <td>dmitry@example.com</td>\n",
       "      <td>М</td>\n",
       "      <td>Зеленоград</td>\n",
       "    </tr>\n",
       "    <tr>\n",
       "      <th>1</th>\n",
       "      <td>2</td>\n",
       "      <td>vasya@example.com</td>\n",
       "      <td>М</td>\n",
       "      <td>Москва</td>\n",
       "    </tr>\n",
       "    <tr>\n",
       "      <th>2</th>\n",
       "      <td>3</td>\n",
       "      <td>olga@example.com</td>\n",
       "      <td>Ж</td>\n",
       "      <td>Волгоград</td>\n",
       "    </tr>\n",
       "  </tbody>\n",
       "</table>\n",
       "</div>"
      ],
      "text/plain": [
       "   customer_id               email gender        city\n",
       "0            1  dmitry@example.com      М  Зеленоград\n",
       "1            2   vasya@example.com      М      Москва\n",
       "2            3    olga@example.com      Ж   Волгоград"
      ]
     },
     "execution_count": 67,
     "metadata": {},
     "output_type": "execute_result"
    }
   ],
   "source": [
    "cur.execute('''\n",
    "            DELETE FROM customers l\n",
    "             where customer_id = 4;\n",
    "            ''')\n",
    "\n",
    "query = f'''\n",
    "            SELECT * from customers\n",
    "'''\n",
    "df = pd.read_sql_query(query, cnx)\n",
    "df"
   ]
  },
  {
   "cell_type": "markdown",
   "id": "0f8c68f0",
   "metadata": {},
   "source": [
    "#### 4) Вывести уникальные id и email клиентов у которых дата визита меньше now() и город не Москва"
   ]
  },
  {
   "cell_type": "code",
   "execution_count": 72,
   "id": "f3335799",
   "metadata": {},
   "outputs": [
    {
     "name": "stderr",
     "output_type": "stream",
     "text": [
      "/Users/denis/opt/anaconda3/lib/python3.9/site-packages/pandas/io/sql.py:761: UserWarning: pandas only support SQLAlchemy connectable(engine/connection) ordatabase string URI or sqlite3 DBAPI2 connectionother DBAPI2 objects are not tested, please consider using SQLAlchemy\n",
      "  warnings.warn(\n"
     ]
    },
    {
     "data": {
      "text/html": [
       "<div>\n",
       "<style scoped>\n",
       "    .dataframe tbody tr th:only-of-type {\n",
       "        vertical-align: middle;\n",
       "    }\n",
       "\n",
       "    .dataframe tbody tr th {\n",
       "        vertical-align: top;\n",
       "    }\n",
       "\n",
       "    .dataframe thead th {\n",
       "        text-align: right;\n",
       "    }\n",
       "</style>\n",
       "<table border=\"1\" class=\"dataframe\">\n",
       "  <thead>\n",
       "    <tr style=\"text-align: right;\">\n",
       "      <th></th>\n",
       "      <th>customer_id</th>\n",
       "      <th>email</th>\n",
       "    </tr>\n",
       "  </thead>\n",
       "  <tbody>\n",
       "    <tr>\n",
       "      <th>0</th>\n",
       "      <td>1</td>\n",
       "      <td>dmitry@example.com</td>\n",
       "    </tr>\n",
       "    <tr>\n",
       "      <th>1</th>\n",
       "      <td>3</td>\n",
       "      <td>olga@example.com</td>\n",
       "    </tr>\n",
       "  </tbody>\n",
       "</table>\n",
       "</div>"
      ],
      "text/plain": [
       "   customer_id               email\n",
       "0            1  dmitry@example.com\n",
       "1            3    olga@example.com"
      ]
     },
     "execution_count": 72,
     "metadata": {},
     "output_type": "execute_result"
    }
   ],
   "source": [
    "query = f'''\n",
    "            select customer_id, email\n",
    "                from customers c\n",
    "                join sessions s\n",
    "                using(customer_id)\n",
    "                where visit_dttm < now() \n",
    "                and city not in ('Москва')\n",
    "                group by customer_id, email\n",
    "'''\n",
    "df = pd.read_sql_query(query, cnx)\n",
    "df"
   ]
  },
  {
   "cell_type": "code",
   "execution_count": 82,
   "id": "8b19739b",
   "metadata": {},
   "outputs": [
    {
     "name": "stderr",
     "output_type": "stream",
     "text": [
      "/Users/denis/opt/anaconda3/lib/python3.9/site-packages/pandas/io/sql.py:761: UserWarning: pandas only support SQLAlchemy connectable(engine/connection) ordatabase string URI or sqlite3 DBAPI2 connectionother DBAPI2 objects are not tested, please consider using SQLAlchemy\n",
      "  warnings.warn(\n"
     ]
    },
    {
     "data": {
      "text/html": [
       "<div>\n",
       "<style scoped>\n",
       "    .dataframe tbody tr th:only-of-type {\n",
       "        vertical-align: middle;\n",
       "    }\n",
       "\n",
       "    .dataframe tbody tr th {\n",
       "        vertical-align: top;\n",
       "    }\n",
       "\n",
       "    .dataframe thead th {\n",
       "        text-align: right;\n",
       "    }\n",
       "</style>\n",
       "<table border=\"1\" class=\"dataframe\">\n",
       "  <thead>\n",
       "    <tr style=\"text-align: right;\">\n",
       "      <th></th>\n",
       "      <th>session_id</th>\n",
       "      <th>customer_id</th>\n",
       "      <th>visit_dttm</th>\n",
       "      <th>Purchase_flg</th>\n",
       "    </tr>\n",
       "  </thead>\n",
       "  <tbody>\n",
       "    <tr>\n",
       "      <th>0</th>\n",
       "      <td>12</td>\n",
       "      <td>3</td>\n",
       "      <td>2023-09-05 18:16:25</td>\n",
       "      <td>1</td>\n",
       "    </tr>\n",
       "    <tr>\n",
       "      <th>1</th>\n",
       "      <td>10</td>\n",
       "      <td>1</td>\n",
       "      <td>2023-09-05 18:16:25</td>\n",
       "      <td>1</td>\n",
       "    </tr>\n",
       "  </tbody>\n",
       "</table>\n",
       "</div>"
      ],
      "text/plain": [
       "   session_id  customer_id          visit_dttm  Purchase_flg\n",
       "0          12            3 2023-09-05 18:16:25             1\n",
       "1          10            1 2023-09-05 18:16:25             1"
      ]
     },
     "execution_count": 82,
     "metadata": {},
     "output_type": "execute_result"
    }
   ],
   "source": [
    "query = f'''\n",
    "              select * \n",
    "            from sessions\n",
    "            where Purchase_flg = 1\n",
    "            ORDER BY customer_id desc\n",
    "'''\n",
    "df = pd.read_sql_query(query, cnx)\n",
    "df"
   ]
  },
  {
   "cell_type": "markdown",
   "id": "3e0fd999",
   "metadata": {},
   "source": [
    "##### 5) Вывести данные по предпоследнему id клиента с флагом покупки "
   ]
  },
  {
   "cell_type": "code",
   "execution_count": 88,
   "id": "a99a253f",
   "metadata": {},
   "outputs": [
    {
     "name": "stderr",
     "output_type": "stream",
     "text": [
      "/Users/denis/opt/anaconda3/lib/python3.9/site-packages/pandas/io/sql.py:761: UserWarning: pandas only support SQLAlchemy connectable(engine/connection) ordatabase string URI or sqlite3 DBAPI2 connectionother DBAPI2 objects are not tested, please consider using SQLAlchemy\n",
      "  warnings.warn(\n"
     ]
    },
    {
     "data": {
      "text/html": [
       "<div>\n",
       "<style scoped>\n",
       "    .dataframe tbody tr th:only-of-type {\n",
       "        vertical-align: middle;\n",
       "    }\n",
       "\n",
       "    .dataframe tbody tr th {\n",
       "        vertical-align: top;\n",
       "    }\n",
       "\n",
       "    .dataframe thead th {\n",
       "        text-align: right;\n",
       "    }\n",
       "</style>\n",
       "<table border=\"1\" class=\"dataframe\">\n",
       "  <thead>\n",
       "    <tr style=\"text-align: right;\">\n",
       "      <th></th>\n",
       "      <th>session_id</th>\n",
       "      <th>customer_id</th>\n",
       "      <th>visit_dttm</th>\n",
       "      <th>Purchase_flg</th>\n",
       "    </tr>\n",
       "  </thead>\n",
       "  <tbody>\n",
       "    <tr>\n",
       "      <th>0</th>\n",
       "      <td>10</td>\n",
       "      <td>1</td>\n",
       "      <td>2023-09-05 18:16:25</td>\n",
       "      <td>1</td>\n",
       "    </tr>\n",
       "  </tbody>\n",
       "</table>\n",
       "</div>"
      ],
      "text/plain": [
       "   session_id  customer_id          visit_dttm  Purchase_flg\n",
       "0          10            1 2023-09-05 18:16:25             1"
      ]
     },
     "execution_count": 88,
     "metadata": {},
     "output_type": "execute_result"
    }
   ],
   "source": [
    "query = f'''\n",
    "            select * \n",
    "            from sessions\n",
    "            where Purchase_flg = 1\n",
    "            ORDER BY customer_id desc\n",
    "            LIMIT 1, 1;\n",
    "'''\n",
    "df = pd.read_sql_query(query, cnx)\n",
    "df"
   ]
  }
 ],
 "metadata": {
  "kernelspec": {
   "display_name": "Python 3 (ipykernel)",
   "language": "python",
   "name": "python3"
  },
  "language_info": {
   "codemirror_mode": {
    "name": "ipython",
    "version": 3
   },
   "file_extension": ".py",
   "mimetype": "text/x-python",
   "name": "python",
   "nbconvert_exporter": "python",
   "pygments_lexer": "ipython3",
   "version": "3.9.12"
  }
 },
 "nbformat": 4,
 "nbformat_minor": 5
}
