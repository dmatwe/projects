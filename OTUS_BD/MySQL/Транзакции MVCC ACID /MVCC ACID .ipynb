{
 "cells": [
  {
   "cell_type": "code",
   "execution_count": 37,
   "id": "d9c7ccce",
   "metadata": {},
   "outputs": [],
   "source": [
    "import pandas as pd\n",
    "import mysql.connector\n",
    "import sqlalchemy"
   ]
  },
  {
   "cell_type": "code",
   "execution_count": 45,
   "id": "e1140bf3",
   "metadata": {},
   "outputs": [],
   "source": [
    "cnx = mysql.connector.connect(user='root', password='password', host='127.0.0.1', database='otus_db', port='3306')"
   ]
  },
  {
   "cell_type": "code",
   "execution_count": 46,
   "id": "7f9c4a48",
   "metadata": {},
   "outputs": [],
   "source": [
    "cur = cnx.cursor()"
   ]
  },
  {
   "cell_type": "code",
   "execution_count": 5,
   "id": "fb1477d3",
   "metadata": {
    "scrolled": true
   },
   "outputs": [],
   "source": [
    "cur.execute('''\n",
    "            DROP TABLE IF EXISTS customers;\n",
    "            ''')\n",
    "\n",
    "cur.execute('''\n",
    "            CREATE TABLE customers (\n",
    "            customer_id SERIAL PRIMARY KEY,\n",
    "            email VARCHAR(255) UNIQUE NOT NULL,\n",
    "            gender CHAR(1) NOT NULL,\n",
    "            city VARCHAR(255)\n",
    "            );\n",
    "            ''')"
   ]
  },
  {
   "cell_type": "code",
   "execution_count": 6,
   "id": "7c1e87c1",
   "metadata": {},
   "outputs": [
    {
     "name": "stderr",
     "output_type": "stream",
     "text": [
      "/Users/denis/opt/anaconda3/lib/python3.9/site-packages/pandas/io/sql.py:761: UserWarning: pandas only support SQLAlchemy connectable(engine/connection) ordatabase string URI or sqlite3 DBAPI2 connectionother DBAPI2 objects are not tested, please consider using SQLAlchemy\n",
      "  warnings.warn(\n"
     ]
    },
    {
     "data": {
      "text/html": [
       "<div>\n",
       "<style scoped>\n",
       "    .dataframe tbody tr th:only-of-type {\n",
       "        vertical-align: middle;\n",
       "    }\n",
       "\n",
       "    .dataframe tbody tr th {\n",
       "        vertical-align: top;\n",
       "    }\n",
       "\n",
       "    .dataframe thead th {\n",
       "        text-align: right;\n",
       "    }\n",
       "</style>\n",
       "<table border=\"1\" class=\"dataframe\">\n",
       "  <thead>\n",
       "    <tr style=\"text-align: right;\">\n",
       "      <th></th>\n",
       "      <th>customer_id</th>\n",
       "      <th>email</th>\n",
       "      <th>gender</th>\n",
       "      <th>city</th>\n",
       "    </tr>\n",
       "  </thead>\n",
       "  <tbody>\n",
       "    <tr>\n",
       "      <th>0</th>\n",
       "      <td>1</td>\n",
       "      <td>dmitry@example.com</td>\n",
       "      <td>М</td>\n",
       "      <td>Зеленоград</td>\n",
       "    </tr>\n",
       "    <tr>\n",
       "      <th>1</th>\n",
       "      <td>2</td>\n",
       "      <td>vasya@example.com</td>\n",
       "      <td>М</td>\n",
       "      <td>Москва</td>\n",
       "    </tr>\n",
       "    <tr>\n",
       "      <th>2</th>\n",
       "      <td>3</td>\n",
       "      <td>olga@example.com</td>\n",
       "      <td>Ж</td>\n",
       "      <td>Волгоград</td>\n",
       "    </tr>\n",
       "  </tbody>\n",
       "</table>\n",
       "</div>"
      ],
      "text/plain": [
       "   customer_id               email gender        city\n",
       "0            1  dmitry@example.com      М  Зеленоград\n",
       "1            2   vasya@example.com      М      Москва\n",
       "2            3    olga@example.com      Ж   Волгоград"
      ]
     },
     "execution_count": 6,
     "metadata": {},
     "output_type": "execute_result"
    }
   ],
   "source": [
    "cur.execute('''\n",
    "           INSERT  INTO customers\n",
    "           (email, gender, city)\n",
    "            VALUES\n",
    "            ('dmitry@example.com', 'М', 'Зеленоград'),\n",
    "            ('vasya@example.com', 'М', 'Москва'),\n",
    "            ('olga@example.com', 'Ж', 'Волгоград');\n",
    "            ''')\n",
    "\n",
    "query = f'''\n",
    "            SELECT * from customers;\n",
    "'''\n",
    "df = pd.read_sql_query(query, cnx)\n",
    "df"
   ]
  },
  {
   "cell_type": "code",
   "execution_count": 7,
   "id": "052aec7c",
   "metadata": {},
   "outputs": [],
   "source": [
    "cur.execute('''\n",
    "            DROP TABLE IF EXISTS sessions;\n",
    "            ''')\n",
    "\n",
    "cur.execute('''\n",
    "            CREATE TABLE sessions (\n",
    "                session_id SERIAL PRIMARY KEY,\n",
    "                customer_id  BIGINT UNSIGNED NOT NULL,\n",
    "                visit_dttm DATETIME NOT null,\n",
    "                Purchase_flg TINYINT(1) NOT null,\n",
    "            CONSTRAINT fk__sessions__customers\n",
    "                FOREIGN KEY (customer_id)\n",
    "                REFERENCES customers (customer_id)\n",
    "            );\n",
    "            ''')"
   ]
  },
  {
   "cell_type": "code",
   "execution_count": 8,
   "id": "32c500ee",
   "metadata": {},
   "outputs": [
    {
     "name": "stderr",
     "output_type": "stream",
     "text": [
      "/Users/denis/opt/anaconda3/lib/python3.9/site-packages/pandas/io/sql.py:761: UserWarning: pandas only support SQLAlchemy connectable(engine/connection) ordatabase string URI or sqlite3 DBAPI2 connectionother DBAPI2 objects are not tested, please consider using SQLAlchemy\n",
      "  warnings.warn(\n"
     ]
    },
    {
     "data": {
      "text/html": [
       "<div>\n",
       "<style scoped>\n",
       "    .dataframe tbody tr th:only-of-type {\n",
       "        vertical-align: middle;\n",
       "    }\n",
       "\n",
       "    .dataframe tbody tr th {\n",
       "        vertical-align: top;\n",
       "    }\n",
       "\n",
       "    .dataframe thead th {\n",
       "        text-align: right;\n",
       "    }\n",
       "</style>\n",
       "<table border=\"1\" class=\"dataframe\">\n",
       "  <thead>\n",
       "    <tr style=\"text-align: right;\">\n",
       "      <th></th>\n",
       "      <th>session_id</th>\n",
       "      <th>customer_id</th>\n",
       "      <th>visit_dttm</th>\n",
       "      <th>Purchase_flg</th>\n",
       "    </tr>\n",
       "  </thead>\n",
       "  <tbody>\n",
       "    <tr>\n",
       "      <th>0</th>\n",
       "      <td>1</td>\n",
       "      <td>1</td>\n",
       "      <td>2023-09-06 16:54:20</td>\n",
       "      <td>1</td>\n",
       "    </tr>\n",
       "    <tr>\n",
       "      <th>1</th>\n",
       "      <td>2</td>\n",
       "      <td>2</td>\n",
       "      <td>2023-09-06 16:54:20</td>\n",
       "      <td>0</td>\n",
       "    </tr>\n",
       "    <tr>\n",
       "      <th>2</th>\n",
       "      <td>3</td>\n",
       "      <td>3</td>\n",
       "      <td>2023-09-06 16:54:20</td>\n",
       "      <td>1</td>\n",
       "    </tr>\n",
       "    <tr>\n",
       "      <th>3</th>\n",
       "      <td>4</td>\n",
       "      <td>1</td>\n",
       "      <td>2023-09-07 16:54:20</td>\n",
       "      <td>1</td>\n",
       "    </tr>\n",
       "    <tr>\n",
       "      <th>4</th>\n",
       "      <td>5</td>\n",
       "      <td>2</td>\n",
       "      <td>2023-09-07 16:54:20</td>\n",
       "      <td>0</td>\n",
       "    </tr>\n",
       "    <tr>\n",
       "      <th>5</th>\n",
       "      <td>6</td>\n",
       "      <td>3</td>\n",
       "      <td>2023-09-07 16:54:20</td>\n",
       "      <td>1</td>\n",
       "    </tr>\n",
       "  </tbody>\n",
       "</table>\n",
       "</div>"
      ],
      "text/plain": [
       "   session_id  customer_id          visit_dttm  Purchase_flg\n",
       "0           1            1 2023-09-06 16:54:20             1\n",
       "1           2            2 2023-09-06 16:54:20             0\n",
       "2           3            3 2023-09-06 16:54:20             1\n",
       "3           4            1 2023-09-07 16:54:20             1\n",
       "4           5            2 2023-09-07 16:54:20             0\n",
       "5           6            3 2023-09-07 16:54:20             1"
      ]
     },
     "execution_count": 8,
     "metadata": {},
     "output_type": "execute_result"
    }
   ],
   "source": [
    "cur.execute('''\n",
    "           INSERT  INTO sessions\n",
    "           (customer_id, visit_dttm, Purchase_flg)\n",
    "            VALUES\n",
    "            ('1', now() - INTERVAL 1 DAY , 1),\n",
    "            ('2', now() - INTERVAL 1 DAY, 0),\n",
    "            ('3', now() - INTERVAL 1 DAY, 1),\n",
    "            ('1', now(), 1),\n",
    "            ('2', now(), 0),\n",
    "            ('3', now(), 1);;\n",
    "            ''')\n",
    "\n",
    "query = f'''\n",
    "            SELECT * from sessions;\n",
    "'''\n",
    "df = pd.read_sql_query(query, cnx)\n",
    "df"
   ]
  },
  {
   "cell_type": "code",
   "execution_count": 13,
   "id": "14e134f4",
   "metadata": {},
   "outputs": [],
   "source": [
    "cur.execute('''\n",
    "            DROP TABLE IF EXISTS customers_purchases;\n",
    "            ''')\n",
    "\n",
    "cur.execute('''\n",
    "            CREATE TABLE customers_purchases (\n",
    "            date DATETIME NOT null,\n",
    "            customer_id VARCHAR(255)NOT NULL,\n",
    "            count_purchases BIGINT UNSIGNED NOT NULL\n",
    "            );\n",
    "            ''')"
   ]
  },
  {
   "cell_type": "markdown",
   "id": "c27fa15a",
   "metadata": {},
   "source": [
    "#### Процедура по заливке агрегированных данных по кол-ву покупок каждого клиента на текущую дату "
   ]
  },
  {
   "cell_type": "code",
   "execution_count": 11,
   "id": "a1adb8aa",
   "metadata": {},
   "outputs": [],
   "source": [
    "cur.execute('''\n",
    "                    drop procedure if exists customers_purchases_insert;\n",
    "            ''')\n",
    "\n",
    "cur.execute('''\n",
    "                    CREATE procedure  customers_purchases_insert()\n",
    "                    BEGIN\n",
    "                    INSERT  INTO customers_purchases\n",
    "                   (date, customer_id, count_purchases)\n",
    "                      SELECT \n",
    "                       now() as date,\n",
    "                        IF(GROUPING(l.customer_id), 'ИТОГО', l.customer_id) AS customer_id,\n",
    "                        count(*) as count_purchases\n",
    "                        from customers l\n",
    "                        join sessions r\n",
    "                         on l.customer_id = r.customer_id\n",
    "                         where Purchase_flg = 1\n",
    "                         group by l.customer_id WITH ROLLUP;\n",
    "                    END;\n",
    "            ''')\n"
   ]
  },
  {
   "cell_type": "markdown",
   "id": "864c9ecd",
   "metadata": {},
   "source": [
    "#### Отключим автокоммит и сделаем ручной коммит в конце"
   ]
  },
  {
   "cell_type": "code",
   "execution_count": 14,
   "id": "4e142a86",
   "metadata": {
    "scrolled": true
   },
   "outputs": [
    {
     "data": {
      "text/html": [
       "<div>\n",
       "<style scoped>\n",
       "    .dataframe tbody tr th:only-of-type {\n",
       "        vertical-align: middle;\n",
       "    }\n",
       "\n",
       "    .dataframe tbody tr th {\n",
       "        vertical-align: top;\n",
       "    }\n",
       "\n",
       "    .dataframe thead th {\n",
       "        text-align: right;\n",
       "    }\n",
       "</style>\n",
       "<table border=\"1\" class=\"dataframe\">\n",
       "  <thead>\n",
       "    <tr style=\"text-align: right;\">\n",
       "      <th></th>\n",
       "      <th>date</th>\n",
       "      <th>customer_id</th>\n",
       "      <th>count_purchases</th>\n",
       "    </tr>\n",
       "  </thead>\n",
       "  <tbody>\n",
       "    <tr>\n",
       "      <th>0</th>\n",
       "      <td>2023-09-07 16:59:05</td>\n",
       "      <td>1</td>\n",
       "      <td>2</td>\n",
       "    </tr>\n",
       "    <tr>\n",
       "      <th>1</th>\n",
       "      <td>2023-09-07 16:59:05</td>\n",
       "      <td>3</td>\n",
       "      <td>2</td>\n",
       "    </tr>\n",
       "    <tr>\n",
       "      <th>2</th>\n",
       "      <td>2023-09-07 16:59:05</td>\n",
       "      <td>ИТОГО</td>\n",
       "      <td>4</td>\n",
       "    </tr>\n",
       "  </tbody>\n",
       "</table>\n",
       "</div>"
      ],
      "text/plain": [
       "                 date customer_id  count_purchases\n",
       "0 2023-09-07 16:59:05           1                2\n",
       "1 2023-09-07 16:59:05           3                2\n",
       "2 2023-09-07 16:59:05       ИТОГО                4"
      ]
     },
     "execution_count": 14,
     "metadata": {},
     "output_type": "execute_result"
    }
   ],
   "source": [
    "cur.execute('''\n",
    "             set autocommit = 0;\n",
    "            ''')\n",
    "\n",
    "cur.execute('''\n",
    "             call customers_purchases_insert();\n",
    "            ''')\n",
    "\n",
    "cur.execute('''\n",
    "             select * from customers_purchases;\n",
    "            ''')\n",
    "\n",
    "results = cur.fetchall()\n",
    "pd.DataFrame(results, columns=['date', 'customer_id', 'count_purchases'])\n",
    "\n",
    "cur.execute('''\n",
    "             commit(); \n",
    "            ''')"
   ]
  },
  {
   "cell_type": "markdown",
   "id": "49372f4c",
   "metadata": {},
   "source": [
    "#### Если не делать ручной коммит и закрыть соединение"
   ]
  },
  {
   "cell_type": "code",
   "execution_count": null,
   "id": "575be9b3",
   "metadata": {},
   "outputs": [],
   "source": [
    "cnx.close()"
   ]
  },
  {
   "cell_type": "code",
   "execution_count": 22,
   "id": "1e0ab83d",
   "metadata": {
    "scrolled": true
   },
   "outputs": [
    {
     "name": "stderr",
     "output_type": "stream",
     "text": [
      "/Users/denis/opt/anaconda3/lib/python3.9/site-packages/pandas/io/sql.py:761: UserWarning: pandas only support SQLAlchemy connectable(engine/connection) ordatabase string URI or sqlite3 DBAPI2 connectionother DBAPI2 objects are not tested, please consider using SQLAlchemy\n",
      "  warnings.warn(\n"
     ]
    },
    {
     "data": {
      "text/html": [
       "<div>\n",
       "<style scoped>\n",
       "    .dataframe tbody tr th:only-of-type {\n",
       "        vertical-align: middle;\n",
       "    }\n",
       "\n",
       "    .dataframe tbody tr th {\n",
       "        vertical-align: top;\n",
       "    }\n",
       "\n",
       "    .dataframe thead th {\n",
       "        text-align: right;\n",
       "    }\n",
       "</style>\n",
       "<table border=\"1\" class=\"dataframe\">\n",
       "  <thead>\n",
       "    <tr style=\"text-align: right;\">\n",
       "      <th></th>\n",
       "      <th>date</th>\n",
       "      <th>customer_id</th>\n",
       "      <th>count_purchases</th>\n",
       "    </tr>\n",
       "  </thead>\n",
       "  <tbody>\n",
       "  </tbody>\n",
       "</table>\n",
       "</div>"
      ],
      "text/plain": [
       "Empty DataFrame\n",
       "Columns: [date, customer_id, count_purchases]\n",
       "Index: []"
      ]
     },
     "execution_count": 22,
     "metadata": {},
     "output_type": "execute_result"
    }
   ],
   "source": [
    "query = f'''\n",
    "select * from customers_purchases;\n",
    "'''\n",
    "df = pd.read_sql_query(query, cnx)\n",
    "df"
   ]
  },
  {
   "cell_type": "markdown",
   "id": "eb36187f",
   "metadata": {},
   "source": [
    "#### Загрузить данные используя LOAD DATA "
   ]
  },
  {
   "cell_type": "code",
   "execution_count": 48,
   "id": "5ce1c4f5",
   "metadata": {},
   "outputs": [],
   "source": [
    "cur.execute('''\n",
    "            drop TABLE if exists test_load;\n",
    "            ''')\n",
    "\n",
    "cur.execute('''\n",
    "            CREATE TABLE if not exists test_load (\n",
    "                hz_1 VARCHAR(255), \n",
    "                hz_2 VARCHAR(255), \n",
    "                hz_3 VARCHAR(255), \n",
    "                hz_4 VARCHAR(255));\n",
    "            ''')\n",
    "\n",
    "cur.execute('''\n",
    "           LOAD DATA INFILE '/var/lib/mysql-files/Apparel.csv'\n",
    "            IGNORE INTO TABLE test_load\n",
    "            FIELDS TERMINATED BY ','\n",
    "            LINES TERMINATED BY '\\n';\n",
    "            ''')"
   ]
  },
  {
   "cell_type": "code",
   "execution_count": 49,
   "id": "56c515d0",
   "metadata": {},
   "outputs": [
    {
     "name": "stderr",
     "output_type": "stream",
     "text": [
      "/Users/denis/opt/anaconda3/lib/python3.9/site-packages/pandas/io/sql.py:761: UserWarning: pandas only support SQLAlchemy connectable(engine/connection) ordatabase string URI or sqlite3 DBAPI2 connectionother DBAPI2 objects are not tested, please consider using SQLAlchemy\n",
      "  warnings.warn(\n"
     ]
    },
    {
     "data": {
      "text/html": [
       "<div>\n",
       "<style scoped>\n",
       "    .dataframe tbody tr th:only-of-type {\n",
       "        vertical-align: middle;\n",
       "    }\n",
       "\n",
       "    .dataframe tbody tr th {\n",
       "        vertical-align: top;\n",
       "    }\n",
       "\n",
       "    .dataframe thead th {\n",
       "        text-align: right;\n",
       "    }\n",
       "</style>\n",
       "<table border=\"1\" class=\"dataframe\">\n",
       "  <thead>\n",
       "    <tr style=\"text-align: right;\">\n",
       "      <th></th>\n",
       "      <th>hz_1</th>\n",
       "      <th>hz_2</th>\n",
       "      <th>hz_3</th>\n",
       "      <th>hz_4</th>\n",
       "    </tr>\n",
       "  </thead>\n",
       "  <tbody>\n",
       "    <tr>\n",
       "      <th>0</th>\n",
       "      <td>Handle</td>\n",
       "      <td>Title</td>\n",
       "      <td>Body (HTML)</td>\n",
       "      <td>Vendor</td>\n",
       "    </tr>\n",
       "    <tr>\n",
       "      <th>1</th>\n",
       "      <td>the-scout-skincare-kit</td>\n",
       "      <td>The Scout Skincare Kit</td>\n",
       "      <td>\"&lt;p&gt;&lt;em&gt;This is a demonstration store. You can...</td>\n",
       "      <td>None</td>\n",
       "    </tr>\n",
       "    <tr>\n",
       "      <th>2</th>\n",
       "      <td>&lt;p&gt;&lt;span&gt;A collection of the best Ursa Major h...</td>\n",
       "      <td>None</td>\n",
       "      <td>None</td>\n",
       "      <td>None</td>\n",
       "    </tr>\n",
       "    <tr>\n",
       "      <th>3</th>\n",
       "      <td>&lt;ul&gt;</td>\n",
       "      <td>None</td>\n",
       "      <td>None</td>\n",
       "      <td>None</td>\n",
       "    </tr>\n",
       "    <tr>\n",
       "      <th>4</th>\n",
       "      <td>&lt;li&gt;&lt;span style=\"\"line-height: 1.4;\"\"&gt;Face Was...</td>\n",
       "      <td>None</td>\n",
       "      <td>None</td>\n",
       "      <td>None</td>\n",
       "    </tr>\n",
       "    <tr>\n",
       "      <th>...</th>\n",
       "      <td>...</td>\n",
       "      <td>...</td>\n",
       "      <td>...</td>\n",
       "      <td>...</td>\n",
       "    </tr>\n",
       "    <tr>\n",
       "      <th>252</th>\n",
       "      <td>&lt;/ul&gt;</td>\n",
       "      <td>None</td>\n",
       "      <td>None</td>\n",
       "      <td>None</td>\n",
       "    </tr>\n",
       "    <tr>\n",
       "      <th>253</th>\n",
       "      <td>&lt;ul class=\"\"tabs-content\"\"&gt;&lt;/ul&gt;\"</td>\n",
       "      <td>United By Blue</td>\n",
       "      <td>Bags</td>\n",
       "      <td>Bags</td>\n",
       "    </tr>\n",
       "    <tr>\n",
       "      <th>254</th>\n",
       "      <td>hudderton-backpack</td>\n",
       "      <td></td>\n",
       "      <td></td>\n",
       "      <td></td>\n",
       "    </tr>\n",
       "    <tr>\n",
       "      <th>255</th>\n",
       "      <td>hudderton-backpack</td>\n",
       "      <td></td>\n",
       "      <td></td>\n",
       "      <td></td>\n",
       "    </tr>\n",
       "    <tr>\n",
       "      <th>256</th>\n",
       "      <td>hudderton-backpack</td>\n",
       "      <td></td>\n",
       "      <td></td>\n",
       "      <td></td>\n",
       "    </tr>\n",
       "  </tbody>\n",
       "</table>\n",
       "<p>257 rows × 4 columns</p>\n",
       "</div>"
      ],
      "text/plain": [
       "                                                  hz_1  \\\n",
       "0                                               Handle   \n",
       "1                               the-scout-skincare-kit   \n",
       "2    <p><span>A collection of the best Ursa Major h...   \n",
       "3                                                 <ul>   \n",
       "4    <li><span style=\"\"line-height: 1.4;\"\">Face Was...   \n",
       "..                                                 ...   \n",
       "252                                              </ul>   \n",
       "253                  <ul class=\"\"tabs-content\"\"></ul>\"   \n",
       "254                                 hudderton-backpack   \n",
       "255                                 hudderton-backpack   \n",
       "256                                 hudderton-backpack   \n",
       "\n",
       "                       hz_2  \\\n",
       "0                     Title   \n",
       "1    The Scout Skincare Kit   \n",
       "2                      None   \n",
       "3                      None   \n",
       "4                      None   \n",
       "..                      ...   \n",
       "252                    None   \n",
       "253          United By Blue   \n",
       "254                           \n",
       "255                           \n",
       "256                           \n",
       "\n",
       "                                                  hz_3    hz_4  \n",
       "0                                          Body (HTML)  Vendor  \n",
       "1    \"<p><em>This is a demonstration store. You can...    None  \n",
       "2                                                 None    None  \n",
       "3                                                 None    None  \n",
       "4                                                 None    None  \n",
       "..                                                 ...     ...  \n",
       "252                                               None    None  \n",
       "253                                               Bags    Bags  \n",
       "254                                                             \n",
       "255                                                             \n",
       "256                                                             \n",
       "\n",
       "[257 rows x 4 columns]"
      ]
     },
     "execution_count": 49,
     "metadata": {},
     "output_type": "execute_result"
    }
   ],
   "source": [
    "query = f'''\n",
    "select * from test_load;\n",
    "'''\n",
    "df = pd.read_sql_query(query, cnx)\n",
    "df"
   ]
  }
 ],
 "metadata": {
  "kernelspec": {
   "display_name": "Python 3 (ipykernel)",
   "language": "python",
   "name": "python3"
  },
  "language_info": {
   "codemirror_mode": {
    "name": "ipython",
    "version": 3
   },
   "file_extension": ".py",
   "mimetype": "text/x-python",
   "name": "python",
   "nbconvert_exporter": "python",
   "pygments_lexer": "ipython3",
   "version": "3.9.12"
  }
 },
 "nbformat": 4,
 "nbformat_minor": 5
}
