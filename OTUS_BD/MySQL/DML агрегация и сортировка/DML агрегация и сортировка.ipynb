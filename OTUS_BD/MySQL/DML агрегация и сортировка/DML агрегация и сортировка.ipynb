{
 "cells": [
  {
   "cell_type": "code",
   "execution_count": 22,
   "id": "6f0b1049",
   "metadata": {},
   "outputs": [],
   "source": [
    "import pandas as pd\n",
    "import mysql.connector\n",
    "import sqlalchemy"
   ]
  },
  {
   "cell_type": "code",
   "execution_count": 23,
   "id": "36130364",
   "metadata": {},
   "outputs": [],
   "source": [
    "cnx = mysql.connector.connect(user='root', password='password', \n",
    "                              host='127.0.0.1', database='otus_db', port='3306')"
   ]
  },
  {
   "cell_type": "code",
   "execution_count": 24,
   "id": "5775d77b",
   "metadata": {},
   "outputs": [],
   "source": [
    "cur = cnx.cursor()"
   ]
  },
  {
   "cell_type": "code",
   "execution_count": 25,
   "id": "31b559f1",
   "metadata": {},
   "outputs": [
    {
     "ename": "SyntaxError",
     "evalue": "invalid syntax (1691857623.py, line 1)",
     "output_type": "error",
     "traceback": [
      "\u001b[0;36m  Input \u001b[0;32mIn [25]\u001b[0;36m\u001b[0m\n\u001b[0;31m    группировки с ипользованием CASE, HAVING, ROLLUP, GROUPING() :\u001b[0m\n\u001b[0m                ^\u001b[0m\n\u001b[0;31mSyntaxError\u001b[0m\u001b[0;31m:\u001b[0m invalid syntax\n"
     ]
    }
   ],
   "source": [
    "группировки с ипользованием CASE, HAVING, ROLLUP, GROUPING() :\n",
    "для магазина к предыдущему списку продуктов добавить максимальную и минимальную цену и кол-во предложений\n",
    "сделать выборку показывающую самый дорогой и самый дешевый товар в каждой категории\n",
    "сделать rollup с количеством товаров по категориям"
   ]
  },
  {
   "cell_type": "markdown",
   "id": "342d741a",
   "metadata": {},
   "source": [
    "#### Создадим таблицу products и наполним данными \n",
    "##### title - наименование товара\n",
    "##### category - категория товара\n",
    "##### price - цена товара\n",
    "##### rating - рейтинг товара\n",
    "##### sales - кол-во продаж товара\n",
    "##### sales - кол-во продаж товара\n",
    "##### status - статус наличия товара"
   ]
  },
  {
   "cell_type": "code",
   "execution_count": 109,
   "id": "892ab18b",
   "metadata": {},
   "outputs": [
    {
     "name": "stderr",
     "output_type": "stream",
     "text": [
      "/Users/denis/opt/anaconda3/lib/python3.9/site-packages/pandas/io/sql.py:761: UserWarning: pandas only support SQLAlchemy connectable(engine/connection) ordatabase string URI or sqlite3 DBAPI2 connectionother DBAPI2 objects are not tested, please consider using SQLAlchemy\n",
      "  warnings.warn(\n"
     ]
    },
    {
     "data": {
      "text/html": [
       "<div>\n",
       "<style scoped>\n",
       "    .dataframe tbody tr th:only-of-type {\n",
       "        vertical-align: middle;\n",
       "    }\n",
       "\n",
       "    .dataframe tbody tr th {\n",
       "        vertical-align: top;\n",
       "    }\n",
       "\n",
       "    .dataframe thead th {\n",
       "        text-align: right;\n",
       "    }\n",
       "</style>\n",
       "<table border=\"1\" class=\"dataframe\">\n",
       "  <thead>\n",
       "    <tr style=\"text-align: right;\">\n",
       "      <th></th>\n",
       "      <th>title</th>\n",
       "      <th>category</th>\n",
       "      <th>price</th>\n",
       "      <th>rating</th>\n",
       "      <th>sales</th>\n",
       "      <th>status</th>\n",
       "    </tr>\n",
       "  </thead>\n",
       "  <tbody>\n",
       "    <tr>\n",
       "      <th>0</th>\n",
       "      <td>Агдам</td>\n",
       "      <td>Напитки</td>\n",
       "      <td>150</td>\n",
       "      <td>2</td>\n",
       "      <td>4</td>\n",
       "      <td>В наличии</td>\n",
       "    </tr>\n",
       "    <tr>\n",
       "      <th>1</th>\n",
       "      <td>Арахис</td>\n",
       "      <td>Орехи</td>\n",
       "      <td>250</td>\n",
       "      <td>5</td>\n",
       "      <td>12</td>\n",
       "      <td>Распродан</td>\n",
       "    </tr>\n",
       "    <tr>\n",
       "      <th>2</th>\n",
       "      <td>Килька</td>\n",
       "      <td>Консервы</td>\n",
       "      <td>45</td>\n",
       "      <td>4</td>\n",
       "      <td>10</td>\n",
       "      <td>Распродан</td>\n",
       "    </tr>\n",
       "    <tr>\n",
       "      <th>3</th>\n",
       "      <td>Оливки</td>\n",
       "      <td>Консервы</td>\n",
       "      <td>250</td>\n",
       "      <td>5</td>\n",
       "      <td>24</td>\n",
       "      <td>Распродан</td>\n",
       "    </tr>\n",
       "    <tr>\n",
       "      <th>4</th>\n",
       "      <td>Текила</td>\n",
       "      <td>Напитки</td>\n",
       "      <td>3000</td>\n",
       "      <td>5</td>\n",
       "      <td>23</td>\n",
       "      <td>В наличии</td>\n",
       "    </tr>\n",
       "    <tr>\n",
       "      <th>5</th>\n",
       "      <td>Фисташки</td>\n",
       "      <td>Орехи</td>\n",
       "      <td>450</td>\n",
       "      <td>5</td>\n",
       "      <td>4</td>\n",
       "      <td>В наличии</td>\n",
       "    </tr>\n",
       "    <tr>\n",
       "      <th>6</th>\n",
       "      <td>Шмурдяк</td>\n",
       "      <td>Напитки</td>\n",
       "      <td>120</td>\n",
       "      <td>1</td>\n",
       "      <td>15</td>\n",
       "      <td>Распродан</td>\n",
       "    </tr>\n",
       "  </tbody>\n",
       "</table>\n",
       "</div>"
      ],
      "text/plain": [
       "      title  category  price  rating  sales     status\n",
       "0     Агдам   Напитки    150       2      4  В наличии\n",
       "1    Арахис     Орехи    250       5     12  Распродан\n",
       "2    Килька  Консервы     45       4     10  Распродан\n",
       "3    Оливки  Консервы    250       5     24  Распродан\n",
       "4    Текила   Напитки   3000       5     23  В наличии\n",
       "5  Фисташки     Орехи    450       5      4  В наличии\n",
       "6   Шмурдяк   Напитки    120       1     15  Распродан"
      ]
     },
     "execution_count": 109,
     "metadata": {},
     "output_type": "execute_result"
    }
   ],
   "source": [
    "cur.execute('''\n",
    "            DROP TABLE IF EXISTS products;\n",
    "            ''')\n",
    "\n",
    "cur.execute('''\n",
    "            CREATE TABLE products (\n",
    "                title VARCHAR(32) NOT NULL,\n",
    "                category VARCHAR(32),\n",
    "                price INT,\n",
    "                rating INT,\n",
    "                sales INT,\n",
    "                status VARCHAR(32) NOT NULL,\n",
    "                PRIMARY KEY (title));\n",
    "            ''')\n",
    "\n",
    "cur.execute('''\n",
    "            INSERT INTO products\n",
    "                (title, category, price, rating, sales, status)\n",
    "            VALUES\n",
    "                ('Агдам', 'Напитки', 150, 2, 4, 'В наличии'),\n",
    "                ('Килька', 'Консервы', 45, 4, 10, 'Распродан'),\n",
    "                ('Оливки', 'Консервы', 250, 5, 24, 'Распродан'),\n",
    "                ('Текила', 'Напитки', 3000, 5, 23, 'В наличии'),\n",
    "                ('Шмурдяк', 'Напитки', 120, 1, 15, 'Распродан'),\n",
    "                ('Арахис', 'Орехи', 250, 5, 12, 'Распродан'),\n",
    "                ('Фисташки', 'Орехи', 450, 5, 4, 'В наличии');\n",
    "            ''')\n",
    "query = f'''\n",
    "            SELECT * from products;\n",
    "        '''\n",
    "df = pd.read_sql_query(query, cnx)\n",
    "df"
   ]
  },
  {
   "cell_type": "markdown",
   "id": "f4bbe972",
   "metadata": {},
   "source": [
    "#### Группировки с ипользованием CASE\n",
    "#####  Наличие товаров каждой категории"
   ]
  },
  {
   "cell_type": "code",
   "execution_count": 53,
   "id": "32c84189",
   "metadata": {},
   "outputs": [
    {
     "name": "stderr",
     "output_type": "stream",
     "text": [
      "/Users/denis/opt/anaconda3/lib/python3.9/site-packages/pandas/io/sql.py:761: UserWarning: pandas only support SQLAlchemy connectable(engine/connection) ordatabase string URI or sqlite3 DBAPI2 connectionother DBAPI2 objects are not tested, please consider using SQLAlchemy\n",
      "  warnings.warn(\n"
     ]
    },
    {
     "data": {
      "text/html": [
       "<div>\n",
       "<style scoped>\n",
       "    .dataframe tbody tr th:only-of-type {\n",
       "        vertical-align: middle;\n",
       "    }\n",
       "\n",
       "    .dataframe tbody tr th {\n",
       "        vertical-align: top;\n",
       "    }\n",
       "\n",
       "    .dataframe thead th {\n",
       "        text-align: right;\n",
       "    }\n",
       "</style>\n",
       "<table border=\"1\" class=\"dataframe\">\n",
       "  <thead>\n",
       "    <tr style=\"text-align: right;\">\n",
       "      <th></th>\n",
       "      <th>category</th>\n",
       "      <th>total</th>\n",
       "    </tr>\n",
       "  </thead>\n",
       "  <tbody>\n",
       "    <tr>\n",
       "      <th>0</th>\n",
       "      <td>Напитки</td>\n",
       "      <td>2.0</td>\n",
       "    </tr>\n",
       "    <tr>\n",
       "      <th>1</th>\n",
       "      <td>Орехи</td>\n",
       "      <td>1.0</td>\n",
       "    </tr>\n",
       "    <tr>\n",
       "      <th>2</th>\n",
       "      <td>Консервы</td>\n",
       "      <td>0.0</td>\n",
       "    </tr>\n",
       "  </tbody>\n",
       "</table>\n",
       "</div>"
      ],
      "text/plain": [
       "   category  total\n",
       "0   Напитки    2.0\n",
       "1     Орехи    1.0\n",
       "2  Консервы    0.0"
      ]
     },
     "execution_count": 53,
     "metadata": {},
     "output_type": "execute_result"
    }
   ],
   "source": [
    "query = f'''\n",
    "          SELECT\n",
    "          category,\n",
    "          SUM( CASE WHEN status = 'В наличии'\n",
    "                THEN 1\n",
    "                ELSE 0\n",
    "                END ) AS total\n",
    "        FROM products\n",
    "        GROUP BY category;\n",
    "        '''\n",
    "df = pd.read_sql_query(query, cnx)\n",
    "df"
   ]
  },
  {
   "cell_type": "markdown",
   "id": "3bd00218",
   "metadata": {},
   "source": [
    "#### Группировки с ипользованием HAVING\n",
    "#### Вывести категории товары которых были проданы более 20 раз"
   ]
  },
  {
   "cell_type": "code",
   "execution_count": 54,
   "id": "ecc67004",
   "metadata": {},
   "outputs": [
    {
     "name": "stderr",
     "output_type": "stream",
     "text": [
      "/Users/denis/opt/anaconda3/lib/python3.9/site-packages/pandas/io/sql.py:761: UserWarning: pandas only support SQLAlchemy connectable(engine/connection) ordatabase string URI or sqlite3 DBAPI2 connectionother DBAPI2 objects are not tested, please consider using SQLAlchemy\n",
      "  warnings.warn(\n"
     ]
    },
    {
     "data": {
      "text/html": [
       "<div>\n",
       "<style scoped>\n",
       "    .dataframe tbody tr th:only-of-type {\n",
       "        vertical-align: middle;\n",
       "    }\n",
       "\n",
       "    .dataframe tbody tr th {\n",
       "        vertical-align: top;\n",
       "    }\n",
       "\n",
       "    .dataframe thead th {\n",
       "        text-align: right;\n",
       "    }\n",
       "</style>\n",
       "<table border=\"1\" class=\"dataframe\">\n",
       "  <thead>\n",
       "    <tr style=\"text-align: right;\">\n",
       "      <th></th>\n",
       "      <th>category</th>\n",
       "      <th>total</th>\n",
       "    </tr>\n",
       "  </thead>\n",
       "  <tbody>\n",
       "    <tr>\n",
       "      <th>0</th>\n",
       "      <td>Напитки</td>\n",
       "      <td>42.0</td>\n",
       "    </tr>\n",
       "    <tr>\n",
       "      <th>1</th>\n",
       "      <td>Консервы</td>\n",
       "      <td>34.0</td>\n",
       "    </tr>\n",
       "  </tbody>\n",
       "</table>\n",
       "</div>"
      ],
      "text/plain": [
       "   category  total\n",
       "0   Напитки   42.0\n",
       "1  Консервы   34.0"
      ]
     },
     "execution_count": 54,
     "metadata": {},
     "output_type": "execute_result"
    }
   ],
   "source": [
    "query = f'''\n",
    "          SELECT\n",
    "          category,\n",
    "          SUM(sales) AS total\n",
    "        FROM products\n",
    "        GROUP BY category\n",
    "        HAVING total > 20;\n",
    "        '''\n",
    "df = pd.read_sql_query(query, cnx)\n",
    "df"
   ]
  },
  {
   "cell_type": "markdown",
   "id": "fdcdbd60",
   "metadata": {},
   "source": [
    "#### Группировки с ипользованием ROLLUP,  GROUPING()\n",
    "#####  Вывести кол-во продаж каждой категории и общий итог "
   ]
  },
  {
   "cell_type": "code",
   "execution_count": 55,
   "id": "3b17e45f",
   "metadata": {},
   "outputs": [
    {
     "name": "stderr",
     "output_type": "stream",
     "text": [
      "/Users/denis/opt/anaconda3/lib/python3.9/site-packages/pandas/io/sql.py:761: UserWarning: pandas only support SQLAlchemy connectable(engine/connection) ordatabase string URI or sqlite3 DBAPI2 connectionother DBAPI2 objects are not tested, please consider using SQLAlchemy\n",
      "  warnings.warn(\n"
     ]
    },
    {
     "data": {
      "text/html": [
       "<div>\n",
       "<style scoped>\n",
       "    .dataframe tbody tr th:only-of-type {\n",
       "        vertical-align: middle;\n",
       "    }\n",
       "\n",
       "    .dataframe tbody tr th {\n",
       "        vertical-align: top;\n",
       "    }\n",
       "\n",
       "    .dataframe thead th {\n",
       "        text-align: right;\n",
       "    }\n",
       "</style>\n",
       "<table border=\"1\" class=\"dataframe\">\n",
       "  <thead>\n",
       "    <tr style=\"text-align: right;\">\n",
       "      <th></th>\n",
       "      <th>category</th>\n",
       "      <th>total</th>\n",
       "    </tr>\n",
       "  </thead>\n",
       "  <tbody>\n",
       "    <tr>\n",
       "      <th>0</th>\n",
       "      <td>Консервы</td>\n",
       "      <td>34.0</td>\n",
       "    </tr>\n",
       "    <tr>\n",
       "      <th>1</th>\n",
       "      <td>Напитки</td>\n",
       "      <td>42.0</td>\n",
       "    </tr>\n",
       "    <tr>\n",
       "      <th>2</th>\n",
       "      <td>Орехи</td>\n",
       "      <td>16.0</td>\n",
       "    </tr>\n",
       "    <tr>\n",
       "      <th>3</th>\n",
       "      <td>ИТОГО</td>\n",
       "      <td>92.0</td>\n",
       "    </tr>\n",
       "  </tbody>\n",
       "</table>\n",
       "</div>"
      ],
      "text/plain": [
       "   category  total\n",
       "0  Консервы   34.0\n",
       "1   Напитки   42.0\n",
       "2     Орехи   16.0\n",
       "3     ИТОГО   92.0"
      ]
     },
     "execution_count": 55,
     "metadata": {},
     "output_type": "execute_result"
    }
   ],
   "source": [
    "query = f'''\n",
    "        SELECT\n",
    "          IF(GROUPING(category), 'ИТОГО', category) AS category,\n",
    "          SUM(sales) AS total\n",
    "        FROM products\n",
    "        GROUP BY category WITH ROLLUP;\n",
    "        '''\n",
    "df = pd.read_sql_query(query, cnx)\n",
    "df"
   ]
  },
  {
   "cell_type": "markdown",
   "id": "804d9ef6",
   "metadata": {},
   "source": [
    "#### для магазина к предыдущему списку продуктов добавить максимальную и минимальную цену и кол-во предложений"
   ]
  },
  {
   "cell_type": "code",
   "execution_count": 69,
   "id": "8774aa6c",
   "metadata": {},
   "outputs": [
    {
     "name": "stderr",
     "output_type": "stream",
     "text": [
      "/Users/denis/opt/anaconda3/lib/python3.9/site-packages/pandas/io/sql.py:761: UserWarning: pandas only support SQLAlchemy connectable(engine/connection) ordatabase string URI or sqlite3 DBAPI2 connectionother DBAPI2 objects are not tested, please consider using SQLAlchemy\n",
      "  warnings.warn(\n"
     ]
    },
    {
     "data": {
      "text/html": [
       "<div>\n",
       "<style scoped>\n",
       "    .dataframe tbody tr th:only-of-type {\n",
       "        vertical-align: middle;\n",
       "    }\n",
       "\n",
       "    .dataframe tbody tr th {\n",
       "        vertical-align: top;\n",
       "    }\n",
       "\n",
       "    .dataframe thead th {\n",
       "        text-align: right;\n",
       "    }\n",
       "</style>\n",
       "<table border=\"1\" class=\"dataframe\">\n",
       "  <thead>\n",
       "    <tr style=\"text-align: right;\">\n",
       "      <th></th>\n",
       "      <th>category</th>\n",
       "      <th>title</th>\n",
       "      <th>price</th>\n",
       "      <th>sales</th>\n",
       "      <th>min_price_in_category</th>\n",
       "      <th>max_price_in_category</th>\n",
       "      <th>sales_in_category</th>\n",
       "    </tr>\n",
       "  </thead>\n",
       "  <tbody>\n",
       "    <tr>\n",
       "      <th>0</th>\n",
       "      <td>Консервы</td>\n",
       "      <td>Килька</td>\n",
       "      <td>45</td>\n",
       "      <td>10</td>\n",
       "      <td>45</td>\n",
       "      <td>250</td>\n",
       "      <td>34.0</td>\n",
       "    </tr>\n",
       "    <tr>\n",
       "      <th>1</th>\n",
       "      <td>Консервы</td>\n",
       "      <td>Оливки</td>\n",
       "      <td>250</td>\n",
       "      <td>24</td>\n",
       "      <td>45</td>\n",
       "      <td>250</td>\n",
       "      <td>34.0</td>\n",
       "    </tr>\n",
       "    <tr>\n",
       "      <th>2</th>\n",
       "      <td>Напитки</td>\n",
       "      <td>Агдам</td>\n",
       "      <td>150</td>\n",
       "      <td>4</td>\n",
       "      <td>120</td>\n",
       "      <td>3000</td>\n",
       "      <td>42.0</td>\n",
       "    </tr>\n",
       "    <tr>\n",
       "      <th>3</th>\n",
       "      <td>Напитки</td>\n",
       "      <td>Текила</td>\n",
       "      <td>3000</td>\n",
       "      <td>23</td>\n",
       "      <td>120</td>\n",
       "      <td>3000</td>\n",
       "      <td>42.0</td>\n",
       "    </tr>\n",
       "    <tr>\n",
       "      <th>4</th>\n",
       "      <td>Напитки</td>\n",
       "      <td>Шмурдяк</td>\n",
       "      <td>120</td>\n",
       "      <td>15</td>\n",
       "      <td>120</td>\n",
       "      <td>3000</td>\n",
       "      <td>42.0</td>\n",
       "    </tr>\n",
       "    <tr>\n",
       "      <th>5</th>\n",
       "      <td>Орехи</td>\n",
       "      <td>Арахис</td>\n",
       "      <td>250</td>\n",
       "      <td>12</td>\n",
       "      <td>250</td>\n",
       "      <td>450</td>\n",
       "      <td>16.0</td>\n",
       "    </tr>\n",
       "    <tr>\n",
       "      <th>6</th>\n",
       "      <td>Орехи</td>\n",
       "      <td>Фисташки</td>\n",
       "      <td>450</td>\n",
       "      <td>4</td>\n",
       "      <td>250</td>\n",
       "      <td>450</td>\n",
       "      <td>16.0</td>\n",
       "    </tr>\n",
       "  </tbody>\n",
       "</table>\n",
       "</div>"
      ],
      "text/plain": [
       "   category     title  price  sales  min_price_in_category  \\\n",
       "0  Консервы    Килька     45     10                     45   \n",
       "1  Консервы    Оливки    250     24                     45   \n",
       "2   Напитки     Агдам    150      4                    120   \n",
       "3   Напитки    Текила   3000     23                    120   \n",
       "4   Напитки   Шмурдяк    120     15                    120   \n",
       "5     Орехи    Арахис    250     12                    250   \n",
       "6     Орехи  Фисташки    450      4                    250   \n",
       "\n",
       "   max_price_in_category  sales_in_category  \n",
       "0                    250               34.0  \n",
       "1                    250               34.0  \n",
       "2                   3000               42.0  \n",
       "3                   3000               42.0  \n",
       "4                   3000               42.0  \n",
       "5                    450               16.0  \n",
       "6                    450               16.0  "
      ]
     },
     "execution_count": 69,
     "metadata": {},
     "output_type": "execute_result"
    }
   ],
   "source": [
    "query = f'''\n",
    "        SELECT\n",
    "          category,\n",
    "          title,\n",
    "          price,\n",
    "          sales,\n",
    "          min(price) over (partition by category) as min_price_in_category,\n",
    "          max(price) over (partition by category) as max_price_in_category,\n",
    "          sum(sales) over (partition by category) as sales_in_category\n",
    "        FROM products;\n",
    "        '''\n",
    "df = pd.read_sql_query(query, cnx)\n",
    "df"
   ]
  },
  {
   "cell_type": "markdown",
   "id": "59900ab0",
   "metadata": {},
   "source": [
    "#### сделать выборку показывающую самый дорогой и самый дешевый товар в каждой категории"
   ]
  },
  {
   "cell_type": "code",
   "execution_count": 110,
   "id": "b0ee53d4",
   "metadata": {},
   "outputs": [
    {
     "name": "stderr",
     "output_type": "stream",
     "text": [
      "/Users/denis/opt/anaconda3/lib/python3.9/site-packages/pandas/io/sql.py:761: UserWarning: pandas only support SQLAlchemy connectable(engine/connection) ordatabase string URI or sqlite3 DBAPI2 connectionother DBAPI2 objects are not tested, please consider using SQLAlchemy\n",
      "  warnings.warn(\n"
     ]
    },
    {
     "data": {
      "text/html": [
       "<div>\n",
       "<style scoped>\n",
       "    .dataframe tbody tr th:only-of-type {\n",
       "        vertical-align: middle;\n",
       "    }\n",
       "\n",
       "    .dataframe tbody tr th {\n",
       "        vertical-align: top;\n",
       "    }\n",
       "\n",
       "    .dataframe thead th {\n",
       "        text-align: right;\n",
       "    }\n",
       "</style>\n",
       "<table border=\"1\" class=\"dataframe\">\n",
       "  <thead>\n",
       "    <tr style=\"text-align: right;\">\n",
       "      <th></th>\n",
       "      <th>category</th>\n",
       "      <th>min_title</th>\n",
       "      <th>max_title</th>\n",
       "    </tr>\n",
       "  </thead>\n",
       "  <tbody>\n",
       "    <tr>\n",
       "      <th>0</th>\n",
       "      <td>Консервы</td>\n",
       "      <td>Килька</td>\n",
       "      <td>Оливки</td>\n",
       "    </tr>\n",
       "    <tr>\n",
       "      <th>1</th>\n",
       "      <td>Напитки</td>\n",
       "      <td>Шмурдяк</td>\n",
       "      <td>Текила</td>\n",
       "    </tr>\n",
       "    <tr>\n",
       "      <th>2</th>\n",
       "      <td>Орехи</td>\n",
       "      <td>Арахис</td>\n",
       "      <td>Фисташки</td>\n",
       "    </tr>\n",
       "  </tbody>\n",
       "</table>\n",
       "</div>"
      ],
      "text/plain": [
       "   category min_title max_title\n",
       "0  Консервы    Килька    Оливки\n",
       "1   Напитки   Шмурдяк    Текила\n",
       "2     Орехи    Арахис  Фисташки"
      ]
     },
     "execution_count": 110,
     "metadata": {},
     "output_type": "execute_result"
    }
   ],
   "source": [
    "query = f'''\n",
    "with min_max as (\n",
    "        SELECT\n",
    "          category,\n",
    "          title,\n",
    "          price,\n",
    "          min(price) over (partition by category) as min_price,\n",
    "          max(price) over (partition by category) as max_price\n",
    "        FROM products)\n",
    "        \n",
    "select \n",
    "        l.category,\n",
    "        l.title as min_title,\n",
    "        r.title as max_title\n",
    "        from min_max l\n",
    "        join min_max r\n",
    "        on l.category = r.category\n",
    "        and r.max_price = r.price\n",
    "        where l.min_price = l.price;\n",
    "        '''\n",
    "df = pd.read_sql_query(query, cnx)\n",
    "df"
   ]
  },
  {
   "cell_type": "markdown",
   "id": "6bf3e709",
   "metadata": {},
   "source": [
    "#### сделать rollup с количеством товаров по категориям"
   ]
  },
  {
   "cell_type": "code",
   "execution_count": 112,
   "id": "6768b3f5",
   "metadata": {},
   "outputs": [
    {
     "name": "stderr",
     "output_type": "stream",
     "text": [
      "/Users/denis/opt/anaconda3/lib/python3.9/site-packages/pandas/io/sql.py:761: UserWarning: pandas only support SQLAlchemy connectable(engine/connection) ordatabase string URI or sqlite3 DBAPI2 connectionother DBAPI2 objects are not tested, please consider using SQLAlchemy\n",
      "  warnings.warn(\n"
     ]
    },
    {
     "data": {
      "text/html": [
       "<div>\n",
       "<style scoped>\n",
       "    .dataframe tbody tr th:only-of-type {\n",
       "        vertical-align: middle;\n",
       "    }\n",
       "\n",
       "    .dataframe tbody tr th {\n",
       "        vertical-align: top;\n",
       "    }\n",
       "\n",
       "    .dataframe thead th {\n",
       "        text-align: right;\n",
       "    }\n",
       "</style>\n",
       "<table border=\"1\" class=\"dataframe\">\n",
       "  <thead>\n",
       "    <tr style=\"text-align: right;\">\n",
       "      <th></th>\n",
       "      <th>category</th>\n",
       "      <th>total</th>\n",
       "    </tr>\n",
       "  </thead>\n",
       "  <tbody>\n",
       "    <tr>\n",
       "      <th>0</th>\n",
       "      <td>Консервы</td>\n",
       "      <td>0.0</td>\n",
       "    </tr>\n",
       "    <tr>\n",
       "      <th>1</th>\n",
       "      <td>Напитки</td>\n",
       "      <td>2.0</td>\n",
       "    </tr>\n",
       "    <tr>\n",
       "      <th>2</th>\n",
       "      <td>Орехи</td>\n",
       "      <td>1.0</td>\n",
       "    </tr>\n",
       "    <tr>\n",
       "      <th>3</th>\n",
       "      <td>ИТОГО</td>\n",
       "      <td>3.0</td>\n",
       "    </tr>\n",
       "  </tbody>\n",
       "</table>\n",
       "</div>"
      ],
      "text/plain": [
       "   category  total\n",
       "0  Консервы    0.0\n",
       "1   Напитки    2.0\n",
       "2     Орехи    1.0\n",
       "3     ИТОГО    3.0"
      ]
     },
     "execution_count": 112,
     "metadata": {},
     "output_type": "execute_result"
    }
   ],
   "source": [
    "query = f'''\n",
    "        SELECT\n",
    "          IF(GROUPING(category), 'ИТОГО', category) AS category,\n",
    "          SUM( CASE WHEN status = 'В наличии'\n",
    "                THEN 1\n",
    "                ELSE 0\n",
    "                END ) AS total\n",
    "        FROM products\n",
    "        GROUP BY category WITH ROLLUP;\n",
    "        '''\n",
    "df = pd.read_sql_query(query, cnx)\n",
    "df"
   ]
  }
 ],
 "metadata": {
  "kernelspec": {
   "display_name": "Python 3 (ipykernel)",
   "language": "python",
   "name": "python3"
  },
  "language_info": {
   "codemirror_mode": {
    "name": "ipython",
    "version": 3
   },
   "file_extension": ".py",
   "mimetype": "text/x-python",
   "name": "python",
   "nbconvert_exporter": "python",
   "pygments_lexer": "ipython3",
   "version": "3.9.12"
  }
 },
 "nbformat": 4,
 "nbformat_minor": 5
}
