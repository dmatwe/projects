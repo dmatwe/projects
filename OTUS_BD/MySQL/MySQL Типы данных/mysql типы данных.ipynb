{
 "cells": [
  {
   "cell_type": "code",
   "execution_count": 5,
   "id": "31ede731",
   "metadata": {},
   "outputs": [],
   "source": [
    "import pandas as pd\n",
    "import mysql.connector\n",
    "import sqlalchemy"
   ]
  },
  {
   "cell_type": "code",
   "execution_count": 4,
   "id": "8565a563",
   "metadata": {},
   "outputs": [],
   "source": [
    " cnx = mysql.connector.connect(user='root', password='password', host='127.0.0.1', database='online_store', port='3306')"
   ]
  },
  {
   "cell_type": "code",
   "execution_count": 6,
   "id": "04ba614b",
   "metadata": {},
   "outputs": [],
   "source": [
    "cur = cnx.cursor()"
   ]
  },
  {
   "cell_type": "markdown",
   "id": "fddd2dda",
   "metadata": {},
   "source": [
    "#### session_id - Идентификатор сессии\n",
    "#### client_id - Идентификатор клиента\n",
    "#### src_id - Идентификатор источника с которого пользователь перешел\n",
    "#### Purchase_flg - Совершалась ли покупка\n",
    "#### visit_dttm - Дата сессии\n",
    "#### duration - Время сессии\n",
    "#### page_count - Кол-во просмотренных страниц\n",
    "#### last_page_id - Идентификатор последней страницы сессии"
   ]
  },
  {
   "cell_type": "code",
   "execution_count": 12,
   "id": "86b13c8e",
   "metadata": {},
   "outputs": [],
   "source": [
    "cur.execute('''\n",
    "            CREATE TABLE \n",
    "            sessions_info (\n",
    "                session_id Binary(16) NOT null PRIMARY KEY,\n",
    "                client_id Binary(16) NOT null,\n",
    "                src_id Enum('INST', 'VK', 'WEB', 'TG') NOT null,\n",
    "                Purchase_flg TINYINT(1) NOT null,\n",
    "                visit_dttm DATETIME NOT null,\n",
    "                duration TIME NOT null,\n",
    "                page_count TINYINT UNSIGNED NOT null,\t\n",
    "                last_page_id SMALLINT UNSIGNED NOT null);\n",
    "            ''')"
   ]
  },
  {
   "cell_type": "markdown",
   "id": "59608135",
   "metadata": {},
   "source": [
    "#### uuid_to_bin(UUID()) - генерирует случайный уникальный UUID и преобразует в BINARY для оптимизации хранения \n",
    "#### now() - генерирует текущую дату и время \n",
    "#### SEC_TO_TIME(FLOOR(RAND() * 3600)) - генерирует случайное время в формате часы:минуты:секунды \n",
    "#### FLOOR(RAND() * 1000) - генерирует случайное целое число от 0 до 999"
   ]
  },
  {
   "cell_type": "code",
   "execution_count": 13,
   "id": "44721200",
   "metadata": {},
   "outputs": [],
   "source": [
    "cur.execute('''\n",
    "            INSERT INTO sessions_info\n",
    "            (session_id, client_id, src_id, Purchase_flg, \n",
    "            visit_dttm, duration, page_count, last_page_id)\n",
    "            values \n",
    "            (uuid_to_bin(UUID()), uuid_to_bin(UUID()), 'INST', 1, now(),\n",
    "            SEC_TO_TIME(FLOOR(RAND() * 3600)), FLOOR(RAND() * 255), FLOOR(RAND() * 1000));\n",
    "            ''')"
   ]
  },
  {
   "cell_type": "code",
   "execution_count": 14,
   "id": "28c3da8b",
   "metadata": {},
   "outputs": [
    {
     "data": {
      "text/html": [
       "<div>\n",
       "<style scoped>\n",
       "    .dataframe tbody tr th:only-of-type {\n",
       "        vertical-align: middle;\n",
       "    }\n",
       "\n",
       "    .dataframe tbody tr th {\n",
       "        vertical-align: top;\n",
       "    }\n",
       "\n",
       "    .dataframe thead th {\n",
       "        text-align: right;\n",
       "    }\n",
       "</style>\n",
       "<table border=\"1\" class=\"dataframe\">\n",
       "  <thead>\n",
       "    <tr style=\"text-align: right;\">\n",
       "      <th></th>\n",
       "      <th>session_id</th>\n",
       "      <th>client_id</th>\n",
       "      <th>src_id</th>\n",
       "      <th>Purchase_flg</th>\n",
       "      <th>visit_dttm</th>\n",
       "      <th>duration</th>\n",
       "      <th>page_count</th>\n",
       "      <th>last_page_id</th>\n",
       "    </tr>\n",
       "  </thead>\n",
       "  <tbody>\n",
       "    <tr>\n",
       "      <th>0</th>\n",
       "      <td>[54, 25, 211, 38, 69, 33, 17, 238, 151, 112, 2...</td>\n",
       "      <td>[54, 25, 224, 170, 69, 33, 17, 238, 151, 112, ...</td>\n",
       "      <td>INST</td>\n",
       "      <td>1</td>\n",
       "      <td>2023-08-27 21:32:23</td>\n",
       "      <td>0 days 00:41:54</td>\n",
       "      <td>7</td>\n",
       "      <td>58</td>\n",
       "    </tr>\n",
       "  </tbody>\n",
       "</table>\n",
       "</div>"
      ],
      "text/plain": [
       "                                          session_id  \\\n",
       "0  [54, 25, 211, 38, 69, 33, 17, 238, 151, 112, 2...   \n",
       "\n",
       "                                           client_id src_id  Purchase_flg  \\\n",
       "0  [54, 25, 224, 170, 69, 33, 17, 238, 151, 112, ...   INST             1   \n",
       "\n",
       "           visit_dttm        duration  page_count  last_page_id  \n",
       "0 2023-08-27 21:32:23 0 days 00:41:54           7            58  "
      ]
     },
     "execution_count": 14,
     "metadata": {},
     "output_type": "execute_result"
    }
   ],
   "source": [
    "cur.execute('''\n",
    "            select * from sessions_info;\n",
    "            ''')\n",
    "results = cur.fetchall()\n",
    "pd.DataFrame(results, columns=['session_id', 'client_id', 'src_id', 'Purchase_flg',\n",
    "                              'visit_dttm', 'duration', 'page_count', 'last_page_id'])"
   ]
  },
  {
   "cell_type": "code",
   "execution_count": 18,
   "id": "520c315b",
   "metadata": {
    "scrolled": true
   },
   "outputs": [
    {
     "data": {
      "text/html": [
       "<div>\n",
       "<style scoped>\n",
       "    .dataframe tbody tr th:only-of-type {\n",
       "        vertical-align: middle;\n",
       "    }\n",
       "\n",
       "    .dataframe tbody tr th {\n",
       "        vertical-align: top;\n",
       "    }\n",
       "\n",
       "    .dataframe thead th {\n",
       "        text-align: right;\n",
       "    }\n",
       "</style>\n",
       "<table border=\"1\" class=\"dataframe\">\n",
       "  <thead>\n",
       "    <tr style=\"text-align: right;\">\n",
       "      <th></th>\n",
       "      <th>session_id</th>\n",
       "    </tr>\n",
       "  </thead>\n",
       "  <tbody>\n",
       "    <tr>\n",
       "      <th>0</th>\n",
       "      <td>3619d326-4521-11ee-9770-0242ac110002</td>\n",
       "    </tr>\n",
       "  </tbody>\n",
       "</table>\n",
       "</div>"
      ],
      "text/plain": [
       "                             session_id\n",
       "0  3619d326-4521-11ee-9770-0242ac110002"
      ]
     },
     "execution_count": 18,
     "metadata": {},
     "output_type": "execute_result"
    }
   ],
   "source": [
    "cur.execute('''\n",
    "            select bin_to_uuid(session_id) from sessions_info;\n",
    "            ''')\n",
    "results = cur.fetchall()\n",
    "pd.DataFrame(results, columns=['session_id'])"
   ]
  },
  {
   "cell_type": "markdown",
   "id": "f778fc79",
   "metadata": {},
   "source": [
    "#### JSON"
   ]
  },
  {
   "cell_type": "code",
   "execution_count": 21,
   "id": "a1d55f8c",
   "metadata": {},
   "outputs": [],
   "source": [
    "cur.execute('''\n",
    "            CREATE TABLE \n",
    "            order_items (\n",
    "                order_items_info json);\n",
    "            ''')"
   ]
  },
  {
   "cell_type": "markdown",
   "id": "4a895620",
   "metadata": {},
   "source": [
    "#### order_id - Идентификатор заказа\n",
    "#### item_id - Идентификатор товара\n",
    "#### item_count - Кол-во товара одной позиции\n",
    "#### price - Цена заказа\n",
    "#### discount - Размер скидки"
   ]
  },
  {
   "cell_type": "code",
   "execution_count": 22,
   "id": "652f3aeb",
   "metadata": {},
   "outputs": [],
   "source": [
    "cur.execute('''\n",
    "            INSERT INTO\n",
    "            order_items\n",
    "            (order_items_info)\n",
    "            values\n",
    "            ('{\"order_id\": \"3619d326-4521-11ee-9770-0242ac110002\", \"item_id\": 4, \n",
    "            \"item_count\": 1, \"price\": 3000, \"discount\": 300}');\n",
    "            ''')"
   ]
  },
  {
   "cell_type": "code",
   "execution_count": 23,
   "id": "2ab5e097",
   "metadata": {},
   "outputs": [
    {
     "data": {
      "text/html": [
       "<div>\n",
       "<style scoped>\n",
       "    .dataframe tbody tr th:only-of-type {\n",
       "        vertical-align: middle;\n",
       "    }\n",
       "\n",
       "    .dataframe tbody tr th {\n",
       "        vertical-align: top;\n",
       "    }\n",
       "\n",
       "    .dataframe thead th {\n",
       "        text-align: right;\n",
       "    }\n",
       "</style>\n",
       "<table border=\"1\" class=\"dataframe\">\n",
       "  <thead>\n",
       "    <tr style=\"text-align: right;\">\n",
       "      <th></th>\n",
       "      <th>order_items_info</th>\n",
       "    </tr>\n",
       "  </thead>\n",
       "  <tbody>\n",
       "    <tr>\n",
       "      <th>0</th>\n",
       "      <td>{\"price\": 3000, \"item_id\": 4, \"discount\": 300,...</td>\n",
       "    </tr>\n",
       "  </tbody>\n",
       "</table>\n",
       "</div>"
      ],
      "text/plain": [
       "                                    order_items_info\n",
       "0  {\"price\": 3000, \"item_id\": 4, \"discount\": 300,..."
      ]
     },
     "execution_count": 23,
     "metadata": {},
     "output_type": "execute_result"
    }
   ],
   "source": [
    "cur.execute('''\n",
    "            select * from order_items;\n",
    "            ''')\n",
    "results = cur.fetchall()\n",
    "pd.DataFrame(results, columns=['session_id'])"
   ]
  },
  {
   "cell_type": "code",
   "execution_count": 25,
   "id": "7e9e33ea",
   "metadata": {},
   "outputs": [
    {
     "data": {
      "text/html": [
       "<div>\n",
       "<style scoped>\n",
       "    .dataframe tbody tr th:only-of-type {\n",
       "        vertical-align: middle;\n",
       "    }\n",
       "\n",
       "    .dataframe tbody tr th {\n",
       "        vertical-align: top;\n",
       "    }\n",
       "\n",
       "    .dataframe thead th {\n",
       "        text-align: right;\n",
       "    }\n",
       "</style>\n",
       "<table border=\"1\" class=\"dataframe\">\n",
       "  <thead>\n",
       "    <tr style=\"text-align: right;\">\n",
       "      <th></th>\n",
       "      <th>order_id</th>\n",
       "      <th>item_id</th>\n",
       "      <th>item_count</th>\n",
       "      <th>price</th>\n",
       "      <th>discount</th>\n",
       "    </tr>\n",
       "  </thead>\n",
       "  <tbody>\n",
       "    <tr>\n",
       "      <th>0</th>\n",
       "      <td>3619d326-4521-11ee-9770-0242ac110002</td>\n",
       "      <td>4</td>\n",
       "      <td>1</td>\n",
       "      <td>3000</td>\n",
       "      <td>300</td>\n",
       "    </tr>\n",
       "  </tbody>\n",
       "</table>\n",
       "</div>"
      ],
      "text/plain": [
       "                               order_id item_id item_count price discount\n",
       "0  3619d326-4521-11ee-9770-0242ac110002       4          1  3000      300"
      ]
     },
     "execution_count": 25,
     "metadata": {},
     "output_type": "execute_result"
    }
   ],
   "source": [
    "cur.execute('''\n",
    "            select \n",
    "            JSON_VALUE(order_items_info , '$.order_id') as order_id,\n",
    "            JSON_VALUE(order_items_info , '$.item_id') as item_id,\n",
    "            JSON_VALUE(order_items_info , '$.item_count') as item_count,\n",
    "            JSON_VALUE(order_items_info , '$.price') as price,\n",
    "            JSON_VALUE(order_items_info , '$.discount') as discount\n",
    "            from order_items;\n",
    "            ''')\n",
    "results = cur.fetchall()\n",
    "pd.DataFrame(results, columns=['order_id', 'item_id', 'item_count', 'price', 'discount'])"
   ]
  }
 ],
 "metadata": {
  "kernelspec": {
   "display_name": "Python 3 (ipykernel)",
   "language": "python",
   "name": "python3"
  },
  "language_info": {
   "codemirror_mode": {
    "name": "ipython",
    "version": 3
   },
   "file_extension": ".py",
   "mimetype": "text/x-python",
   "name": "python",
   "nbconvert_exporter": "python",
   "pygments_lexer": "ipython3",
   "version": "3.9.12"
  }
 },
 "nbformat": 4,
 "nbformat_minor": 5
}
